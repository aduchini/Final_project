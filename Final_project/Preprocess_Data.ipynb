{
 "cells": [
  {
   "cell_type": "markdown",
   "metadata": {
    "id": "2PQeOjkjtFH7"
   },
   "source": [
    "# Pseudocode for final project"
   ]
  },
  {
   "cell_type": "markdown",
   "metadata": {
    "id": "LGsmTeCYro6L"
   },
   "source": [
    "## Step 1: Preprocess the Text Data using Natural Language Processing"
   ]
  },
  {
   "cell_type": "code",
   "execution_count": 1,
   "metadata": {
    "colab": {
     "base_uri": "https://localhost:8080/",
     "height": 76,
     "resources": {
      "http://localhost:8080/nbextensions/google.colab/files.js": {
       "data": "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",
       "headers": [
        [
         "content-type",
         "application/javascript"
        ]
       ],
       "ok": true,
       "status": 200,
       "status_text": "OK"
      }
     }
    },
    "id": "rPH1yiESr3rh",
    "outputId": "b542bc7f-d955-4ada-bf1c-98c1e870e1a5"
   },
   "outputs": [],
   "source": [
    "# import dependencies\n",
    "import pandas as pd\n",
    "import io"
   ]
  },
  {
   "cell_type": "code",
   "execution_count": 2,
   "metadata": {
    "colab": {
     "base_uri": "https://localhost:8080/",
     "height": 209
    },
    "id": "VLX9TfMME8Zd",
    "outputId": "80c1075a-6c17-44c6-9f61-229f87757881"
   },
   "outputs": [
    {
     "name": "stderr",
     "output_type": "stream",
     "text": [
      "C:\\Users\\anadu\\anaconda3\\envs\\PythonData\\lib\\site-packages\\IPython\\core\\interactiveshell.py:3166: DtypeWarning: Columns (0,1,2,3,4,5,7,9,10,11,13,14,15,16,18) have mixed types.Specify dtype option on import or set low_memory=False.\n",
      "  interactivity=interactivity, compiler=compiler, result=result)\n"
     ]
    },
    {
     "data": {
      "text/html": [
       "<div>\n",
       "<style scoped>\n",
       "    .dataframe tbody tr th:only-of-type {\n",
       "        vertical-align: middle;\n",
       "    }\n",
       "\n",
       "    .dataframe tbody tr th {\n",
       "        vertical-align: top;\n",
       "    }\n",
       "\n",
       "    .dataframe thead th {\n",
       "        text-align: right;\n",
       "    }\n",
       "</style>\n",
       "<table border=\"1\" class=\"dataframe\">\n",
       "  <thead>\n",
       "    <tr style=\"text-align: right;\">\n",
       "      <th></th>\n",
       "      <th>Unnamed: 0</th>\n",
       "      <th>Unnamed: 0.1</th>\n",
       "      <th>userid</th>\n",
       "      <th>username</th>\n",
       "      <th>acctdesc</th>\n",
       "      <th>location</th>\n",
       "      <th>following</th>\n",
       "      <th>followers</th>\n",
       "      <th>totaltweets</th>\n",
       "      <th>usercreatedts</th>\n",
       "      <th>tweetid</th>\n",
       "      <th>tweetcreatedts</th>\n",
       "      <th>retweetcount</th>\n",
       "      <th>text</th>\n",
       "      <th>hashtags</th>\n",
       "      <th>language</th>\n",
       "      <th>coordinates</th>\n",
       "      <th>favorite_count</th>\n",
       "      <th>extractedts</th>\n",
       "    </tr>\n",
       "  </thead>\n",
       "  <tbody>\n",
       "    <tr>\n",
       "      <th>0</th>\n",
       "      <td>0</td>\n",
       "      <td>0</td>\n",
       "      <td>962369743</td>\n",
       "      <td>toonspt_</td>\n",
       "      <td>พยรลก 😉\\nจะเปิดแอคเมื่อขายของเท่านั้น!!</td>\n",
       "      <td>NaN</td>\n",
       "      <td>462.0</td>\n",
       "      <td>7</td>\n",
       "      <td>20549.0</td>\n",
       "      <td>2012-11-21 13:01:19.000000</td>\n",
       "      <td>1496738675085897729</td>\n",
       "      <td>2022-02-24 06:48:02.000000</td>\n",
       "      <td>1897.0</td>\n",
       "      <td>Footage of the airport bombing in Ivano-Franki...</td>\n",
       "      <td>[{'text': 'Ukraine', 'indices': [68, 76]}, {'t...</td>\n",
       "      <td>en</td>\n",
       "      <td>NaN</td>\n",
       "      <td>0.0</td>\n",
       "      <td>2022-02-24 06:51:34.430620</td>\n",
       "    </tr>\n",
       "    <tr>\n",
       "      <th>1</th>\n",
       "      <td>3</td>\n",
       "      <td>3</td>\n",
       "      <td>1073676020</td>\n",
       "      <td>IndiaTodayFLASH</td>\n",
       "      <td>No dragging feet on news. Crisp &amp; short news s...</td>\n",
       "      <td>NaN</td>\n",
       "      <td>117.0</td>\n",
       "      <td>1152610</td>\n",
       "      <td>589066.0</td>\n",
       "      <td>2013-01-09 12:46:38.000000</td>\n",
       "      <td>1496738675584954371</td>\n",
       "      <td>2022-02-24 06:48:02.000000</td>\n",
       "      <td>18.0</td>\n",
       "      <td>Ukraine MP Sophia Fedyna tells about the groun...</td>\n",
       "      <td>[{'text': 'ITVideo', 'indices': [130, 138]}]</td>\n",
       "      <td>en</td>\n",
       "      <td>NaN</td>\n",
       "      <td>0.0</td>\n",
       "      <td>2022-02-24 06:51:34.403108</td>\n",
       "    </tr>\n",
       "    <tr>\n",
       "      <th>2</th>\n",
       "      <td>5</td>\n",
       "      <td>5</td>\n",
       "      <td>1040140500718837760</td>\n",
       "      <td>Areopagiet</td>\n",
       "      <td>Dᴀᴅ ღ Pʜɪ &amp; Qᴜɪ /Pᴀʀᴛɴᴇʀ | Aᴛʜᴇɪsᴛ | ADD /ASS ...</td>\n",
       "      <td>EU v2.0</td>\n",
       "      <td>5008.0</td>\n",
       "      <td>267</td>\n",
       "      <td>9894.0</td>\n",
       "      <td>2018-09-13 07:29:55.000000</td>\n",
       "      <td>1496738676335734785</td>\n",
       "      <td>2022-02-24 06:48:03.000000</td>\n",
       "      <td>1552.0</td>\n",
       "      <td>A cruise missile fired by the Russian army fel...</td>\n",
       "      <td>[{'text': 'Ukraine', 'indices': [72, 80]}, {'t...</td>\n",
       "      <td>en</td>\n",
       "      <td>NaN</td>\n",
       "      <td>0.0</td>\n",
       "      <td>2022-02-24 06:51:34.384864</td>\n",
       "    </tr>\n",
       "    <tr>\n",
       "      <th>3</th>\n",
       "      <td>13</td>\n",
       "      <td>13</td>\n",
       "      <td>3821643918</td>\n",
       "      <td>Sicarius130</td>\n",
       "      <td>Christie // 刀剣乱舞 (izmt+mtiz for life) + 2.5D (...</td>\n",
       "      <td>Hong Kong</td>\n",
       "      <td>459.0</td>\n",
       "      <td>272</td>\n",
       "      <td>57829.0</td>\n",
       "      <td>2015-10-08 04:49:27.000000</td>\n",
       "      <td>1496738678332280834</td>\n",
       "      <td>2022-02-24 06:48:03.000000</td>\n",
       "      <td>1032.0</td>\n",
       "      <td>SPREAD AND SHARE, YOU CAN HELP UKRAINE #Ukrain...</td>\n",
       "      <td>[{'text': 'Ukraine', 'indices': [55, 63]}, {'t...</td>\n",
       "      <td>en</td>\n",
       "      <td>NaN</td>\n",
       "      <td>0.0</td>\n",
       "      <td>2022-02-24 06:51:34.311760</td>\n",
       "    </tr>\n",
       "    <tr>\n",
       "      <th>4</th>\n",
       "      <td>14</td>\n",
       "      <td>14</td>\n",
       "      <td>1075087352983216128</td>\n",
       "      <td>qwerty_cr</td>\n",
       "      <td>🇯🇵 @Bgs_Emex 🏆8452 ladder #51, #137, #187 GT #...</td>\n",
       "      <td>ホワイトルシアン</td>\n",
       "      <td>595.0</td>\n",
       "      <td>1243</td>\n",
       "      <td>2620.0</td>\n",
       "      <td>2018-12-18 17:56:13.000000</td>\n",
       "      <td>1496738678940516353</td>\n",
       "      <td>2022-02-24 06:48:03.000000</td>\n",
       "      <td>1897.0</td>\n",
       "      <td>Footage of the airport bombing in Ivano-Franki...</td>\n",
       "      <td>[{'text': 'Ukraine', 'indices': [68, 76]}, {'t...</td>\n",
       "      <td>en</td>\n",
       "      <td>NaN</td>\n",
       "      <td>0.0</td>\n",
       "      <td>2022-02-24 06:51:34.302624</td>\n",
       "    </tr>\n",
       "  </tbody>\n",
       "</table>\n",
       "</div>"
      ],
      "text/plain": [
       "  Unnamed: 0 Unnamed: 0.1               userid         username  \\\n",
       "0          0            0            962369743         toonspt_   \n",
       "1          3            3           1073676020  IndiaTodayFLASH   \n",
       "2          5            5  1040140500718837760       Areopagiet   \n",
       "3         13           13           3821643918      Sicarius130   \n",
       "4         14           14  1075087352983216128        qwerty_cr   \n",
       "\n",
       "                                            acctdesc   location  following  \\\n",
       "0            พยรลก 😉\\nจะเปิดแอคเมื่อขายของเท่านั้น!!        NaN      462.0   \n",
       "1  No dragging feet on news. Crisp & short news s...        NaN      117.0   \n",
       "2  Dᴀᴅ ღ Pʜɪ & Qᴜɪ /Pᴀʀᴛɴᴇʀ | Aᴛʜᴇɪsᴛ | ADD /ASS ...    EU v2.0     5008.0   \n",
       "3  Christie // 刀剣乱舞 (izmt+mtiz for life) + 2.5D (...  Hong Kong      459.0   \n",
       "4  🇯🇵 @Bgs_Emex 🏆8452 ladder #51, #137, #187 GT #...   ホワイトルシアン      595.0   \n",
       "\n",
       "  followers  totaltweets               usercreatedts              tweetid  \\\n",
       "0         7      20549.0  2012-11-21 13:01:19.000000  1496738675085897729   \n",
       "1   1152610     589066.0  2013-01-09 12:46:38.000000  1496738675584954371   \n",
       "2       267       9894.0  2018-09-13 07:29:55.000000  1496738676335734785   \n",
       "3       272      57829.0  2015-10-08 04:49:27.000000  1496738678332280834   \n",
       "4      1243       2620.0  2018-12-18 17:56:13.000000  1496738678940516353   \n",
       "\n",
       "               tweetcreatedts  retweetcount  \\\n",
       "0  2022-02-24 06:48:02.000000        1897.0   \n",
       "1  2022-02-24 06:48:02.000000          18.0   \n",
       "2  2022-02-24 06:48:03.000000        1552.0   \n",
       "3  2022-02-24 06:48:03.000000        1032.0   \n",
       "4  2022-02-24 06:48:03.000000        1897.0   \n",
       "\n",
       "                                                text  \\\n",
       "0  Footage of the airport bombing in Ivano-Franki...   \n",
       "1  Ukraine MP Sophia Fedyna tells about the groun...   \n",
       "2  A cruise missile fired by the Russian army fel...   \n",
       "3  SPREAD AND SHARE, YOU CAN HELP UKRAINE #Ukrain...   \n",
       "4  Footage of the airport bombing in Ivano-Franki...   \n",
       "\n",
       "                                            hashtags language coordinates  \\\n",
       "0  [{'text': 'Ukraine', 'indices': [68, 76]}, {'t...       en         NaN   \n",
       "1       [{'text': 'ITVideo', 'indices': [130, 138]}]       en         NaN   \n",
       "2  [{'text': 'Ukraine', 'indices': [72, 80]}, {'t...       en         NaN   \n",
       "3  [{'text': 'Ukraine', 'indices': [55, 63]}, {'t...       en         NaN   \n",
       "4  [{'text': 'Ukraine', 'indices': [68, 76]}, {'t...       en         NaN   \n",
       "\n",
       "   favorite_count                 extractedts  \n",
       "0             0.0  2022-02-24 06:51:34.430620  \n",
       "1             0.0  2022-02-24 06:51:34.403108  \n",
       "2             0.0  2022-02-24 06:51:34.384864  \n",
       "3             0.0  2022-02-24 06:51:34.311760  \n",
       "4             0.0  2022-02-24 06:51:34.302624  "
      ]
     },
     "execution_count": 2,
     "metadata": {},
     "output_type": "execute_result"
    }
   ],
   "source": [
    "# load the data into the dataframe\n",
    "en_tweets_df = pd.read_csv('en_tweets_df.csv', index_col=False, encoding='utf-8')\n",
    "en_tweets_df.reset_index(drop=True,inplace=True)\n",
    "en_tweets_df.head()"
   ]
  },
  {
   "cell_type": "markdown",
   "metadata": {
    "id": "hpbYuX6_ytzR"
   },
   "source": [
    "# Clean up the data columns that are not the text column"
   ]
  },
  {
   "cell_type": "code",
   "execution_count": 3,
   "metadata": {
    "colab": {
     "base_uri": "https://localhost:8080/"
    },
    "id": "r7QKr0T3z0Ti",
    "outputId": "7abeff96-fa76-4992-bab1-aabb798e8d82"
   },
   "outputs": [
    {
     "data": {
      "text/plain": [
       "1073686"
      ]
     },
     "execution_count": 3,
     "metadata": {},
     "output_type": "execute_result"
    }
   ],
   "source": [
    "# Get only rows where language = English\n",
    "# en_tweets_df = tweets_df[tweets_df['language']=='en']\n",
    "len(en_tweets_df)"
   ]
  },
  {
   "cell_type": "code",
   "execution_count": 4,
   "metadata": {
    "colab": {
     "base_uri": "https://localhost:8080/",
     "height": 206
    },
    "id": "mg7d3G1cxE9E",
    "outputId": "e9ab9e25-5f9e-4b89-c313-384e47a12b4c"
   },
   "outputs": [
    {
     "data": {
      "text/html": [
       "<div>\n",
       "<style scoped>\n",
       "    .dataframe tbody tr th:only-of-type {\n",
       "        vertical-align: middle;\n",
       "    }\n",
       "\n",
       "    .dataframe tbody tr th {\n",
       "        vertical-align: top;\n",
       "    }\n",
       "\n",
       "    .dataframe thead th {\n",
       "        text-align: right;\n",
       "    }\n",
       "</style>\n",
       "<table border=\"1\" class=\"dataframe\">\n",
       "  <thead>\n",
       "    <tr style=\"text-align: right;\">\n",
       "      <th></th>\n",
       "      <th>tweetid</th>\n",
       "      <th>location</th>\n",
       "      <th>username</th>\n",
       "      <th>tweetcreatedts</th>\n",
       "      <th>followers</th>\n",
       "      <th>retweetcount</th>\n",
       "      <th>text</th>\n",
       "    </tr>\n",
       "  </thead>\n",
       "  <tbody>\n",
       "    <tr>\n",
       "      <th>0</th>\n",
       "      <td>1496738675085897729</td>\n",
       "      <td>NaN</td>\n",
       "      <td>toonspt_</td>\n",
       "      <td>2022-02-24 06:48:02.000000</td>\n",
       "      <td>7</td>\n",
       "      <td>1897.0</td>\n",
       "      <td>Footage of the airport bombing in Ivano-Franki...</td>\n",
       "    </tr>\n",
       "    <tr>\n",
       "      <th>1</th>\n",
       "      <td>1496738675584954371</td>\n",
       "      <td>NaN</td>\n",
       "      <td>IndiaTodayFLASH</td>\n",
       "      <td>2022-02-24 06:48:02.000000</td>\n",
       "      <td>1152610</td>\n",
       "      <td>18.0</td>\n",
       "      <td>Ukraine MP Sophia Fedyna tells about the groun...</td>\n",
       "    </tr>\n",
       "    <tr>\n",
       "      <th>2</th>\n",
       "      <td>1496738676335734785</td>\n",
       "      <td>EU v2.0</td>\n",
       "      <td>Areopagiet</td>\n",
       "      <td>2022-02-24 06:48:03.000000</td>\n",
       "      <td>267</td>\n",
       "      <td>1552.0</td>\n",
       "      <td>A cruise missile fired by the Russian army fel...</td>\n",
       "    </tr>\n",
       "    <tr>\n",
       "      <th>3</th>\n",
       "      <td>1496738678332280834</td>\n",
       "      <td>Hong Kong</td>\n",
       "      <td>Sicarius130</td>\n",
       "      <td>2022-02-24 06:48:03.000000</td>\n",
       "      <td>272</td>\n",
       "      <td>1032.0</td>\n",
       "      <td>SPREAD AND SHARE, YOU CAN HELP UKRAINE #Ukrain...</td>\n",
       "    </tr>\n",
       "    <tr>\n",
       "      <th>4</th>\n",
       "      <td>1496738678940516353</td>\n",
       "      <td>ホワイトルシアン</td>\n",
       "      <td>qwerty_cr</td>\n",
       "      <td>2022-02-24 06:48:03.000000</td>\n",
       "      <td>1243</td>\n",
       "      <td>1897.0</td>\n",
       "      <td>Footage of the airport bombing in Ivano-Franki...</td>\n",
       "    </tr>\n",
       "    <tr>\n",
       "      <th>...</th>\n",
       "      <td>...</td>\n",
       "      <td>...</td>\n",
       "      <td>...</td>\n",
       "      <td>...</td>\n",
       "      <td>...</td>\n",
       "      <td>...</td>\n",
       "      <td>...</td>\n",
       "    </tr>\n",
       "    <tr>\n",
       "      <th>1073681</th>\n",
       "      <td>1497802306712059908</td>\n",
       "      <td>Far from Reality</td>\n",
       "      <td>Bhindeshi_Tara_</td>\n",
       "      <td>2022-02-27 05:14:32.000000</td>\n",
       "      <td>26</td>\n",
       "      <td>63.0</td>\n",
       "      <td>In a world full of Putins, be a Zelenskyy. #Uk...</td>\n",
       "    </tr>\n",
       "    <tr>\n",
       "      <th>1073682</th>\n",
       "      <td>1497802306997276674</td>\n",
       "      <td>SULDUZ~TABRİZ</td>\n",
       "      <td>sayatobe</td>\n",
       "      <td>2022-02-27 05:14:32.000000</td>\n",
       "      <td>627</td>\n",
       "      <td>3.0</td>\n",
       "      <td>@ZelenskyyUa @azpresident @SOCARofficial 40 mi...</td>\n",
       "    </tr>\n",
       "    <tr>\n",
       "      <th>1073683</th>\n",
       "      <td>1497802307190157314</td>\n",
       "      <td>NaN</td>\n",
       "      <td>DisneyDooneyLV</td>\n",
       "      <td>2022-02-27 05:14:32.000000</td>\n",
       "      <td>15</td>\n",
       "      <td>2359.0</td>\n",
       "      <td>#Russian military leaders should think very ca...</td>\n",
       "    </tr>\n",
       "    <tr>\n",
       "      <th>1073684</th>\n",
       "      <td>1497802308373159936</td>\n",
       "      <td>NaN</td>\n",
       "      <td>ScarlettNova3</td>\n",
       "      <td>2022-02-27 05:14:32.000000</td>\n",
       "      <td>0</td>\n",
       "      <td>3.0</td>\n",
       "      <td>Photographic evidence now points towards Russi...</td>\n",
       "    </tr>\n",
       "    <tr>\n",
       "      <th>1073685</th>\n",
       "      <td>1497802308532514826</td>\n",
       "      <td>mother earth</td>\n",
       "      <td>miciamiaoo</td>\n",
       "      <td>2022-02-27 05:14:32.000000</td>\n",
       "      <td>433</td>\n",
       "      <td>78.0</td>\n",
       "      <td>Did #Ukrainian Ambassador Indirectly Threatene...</td>\n",
       "    </tr>\n",
       "  </tbody>\n",
       "</table>\n",
       "<p>1073686 rows × 7 columns</p>\n",
       "</div>"
      ],
      "text/plain": [
       "                     tweetid          location         username  \\\n",
       "0        1496738675085897729               NaN         toonspt_   \n",
       "1        1496738675584954371               NaN  IndiaTodayFLASH   \n",
       "2        1496738676335734785           EU v2.0       Areopagiet   \n",
       "3        1496738678332280834         Hong Kong      Sicarius130   \n",
       "4        1496738678940516353          ホワイトルシアン        qwerty_cr   \n",
       "...                      ...               ...              ...   \n",
       "1073681  1497802306712059908  Far from Reality  Bhindeshi_Tara_   \n",
       "1073682  1497802306997276674     SULDUZ~TABRİZ         sayatobe   \n",
       "1073683  1497802307190157314               NaN   DisneyDooneyLV   \n",
       "1073684  1497802308373159936               NaN    ScarlettNova3   \n",
       "1073685  1497802308532514826      mother earth       miciamiaoo   \n",
       "\n",
       "                     tweetcreatedts followers  retweetcount  \\\n",
       "0        2022-02-24 06:48:02.000000         7        1897.0   \n",
       "1        2022-02-24 06:48:02.000000   1152610          18.0   \n",
       "2        2022-02-24 06:48:03.000000       267        1552.0   \n",
       "3        2022-02-24 06:48:03.000000       272        1032.0   \n",
       "4        2022-02-24 06:48:03.000000      1243        1897.0   \n",
       "...                             ...       ...           ...   \n",
       "1073681  2022-02-27 05:14:32.000000        26          63.0   \n",
       "1073682  2022-02-27 05:14:32.000000       627           3.0   \n",
       "1073683  2022-02-27 05:14:32.000000        15        2359.0   \n",
       "1073684  2022-02-27 05:14:32.000000         0           3.0   \n",
       "1073685  2022-02-27 05:14:32.000000       433          78.0   \n",
       "\n",
       "                                                      text  \n",
       "0        Footage of the airport bombing in Ivano-Franki...  \n",
       "1        Ukraine MP Sophia Fedyna tells about the groun...  \n",
       "2        A cruise missile fired by the Russian army fel...  \n",
       "3        SPREAD AND SHARE, YOU CAN HELP UKRAINE #Ukrain...  \n",
       "4        Footage of the airport bombing in Ivano-Franki...  \n",
       "...                                                    ...  \n",
       "1073681  In a world full of Putins, be a Zelenskyy. #Uk...  \n",
       "1073682  @ZelenskyyUa @azpresident @SOCARofficial 40 mi...  \n",
       "1073683  #Russian military leaders should think very ca...  \n",
       "1073684  Photographic evidence now points towards Russi...  \n",
       "1073685  Did #Ukrainian Ambassador Indirectly Threatene...  \n",
       "\n",
       "[1073686 rows x 7 columns]"
      ]
     },
     "execution_count": 4,
     "metadata": {},
     "output_type": "execute_result"
    }
   ],
   "source": [
    "# Drop all unnecessary columns: userid, username, acctdesc, usercreatedts, language, favorite_count, extractedts, coordinates\n",
    "#en_tweets_df.set_index('tweetid',inplace=True)\n",
    "en_tweets_df = en_tweets_df[['tweetid','location', 'username', 'tweetcreatedts','followers','retweetcount','text']]\n",
    "en_tweets_df"
   ]
  },
  {
   "cell_type": "code",
   "execution_count": 5,
   "metadata": {
    "id": "3cpj9QO05nu4"
   },
   "outputs": [],
   "source": [
    "# Drop rows where location is NaN or blank\n",
    "en_tweets_df['location'].isna().sum()\n",
    "en_tweets_df = en_tweets_df[en_tweets_df['location'].notna()]\n"
   ]
  },
  {
   "cell_type": "code",
   "execution_count": 6,
   "metadata": {
    "colab": {
     "base_uri": "https://localhost:8080/"
    },
    "id": "_tq92VCHRm1L",
    "outputId": "2f1f9d7b-7124-47ca-81b0-632ecf66df54"
   },
   "outputs": [
    {
     "data": {
      "text/plain": [
       "(447292, 7)"
      ]
     },
     "execution_count": 6,
     "metadata": {},
     "output_type": "execute_result"
    }
   ],
   "source": [
    "en_tweets_df.shape"
   ]
  },
  {
   "cell_type": "code",
   "execution_count": 7,
   "metadata": {
    "id": "wEBc_1m09PCx"
   },
   "outputs": [],
   "source": [
    "# Convert column \"location\" into country names\n",
    "def country_column(df):\n",
    "    # select countries to be included in the filtered df  # searches for uk return ukraine, for usa return jerusalem, etc\n",
    "    country_list = [ \"united kingdom\", \" uk\", \",uk\", \"india\", \"canada\", \"nigeria\", \n",
    "    \"ukraine\", \"україна\", \"russia\", \"Россия\", \"poland\", \"polska\", \"pakistan\", \"china\", \"中国\", \"中國\", \"finland\", \n",
    "    \"romania\", \"românia\", \"estonia\", \"eesti\", \"latvia\", \"latvija\", \"lithuania\", \"lietuva\",\n",
    "    \"australia\", \"new zealand\", \"france\", \"kenya\", \"germany\", \n",
    "    \"hong kong\", \"south africa\", \" usa\", \",usa\", \"united states\", \"england\"]\n",
    "    # create an empty list to hold dataframes\n",
    "    df_list = []\n",
    "    new_df = pd.DataFrame()\n",
    "    # loop through the country list\n",
    "    for i in country_list:\n",
    "        # filter the the df by country\n",
    "        filtered_df = df[df['location'].str.contains(i, case=False, na = False)].copy()\n",
    "        # assign label to country column \n",
    "        filtered_df['country'] = i\n",
    "        # append filtered df to df_list\n",
    "        df_list.append(filtered_df)\n",
    "        # join dfs in df_list\n",
    "        new_df = pd.concat(df_list)\n",
    "    return new_df"
   ]
  },
  {
   "cell_type": "code",
   "execution_count": 8,
   "metadata": {},
   "outputs": [],
   "source": [
    "tweets_country_df = pd.DataFrame()\n",
    "tweets_country_df = country_column(en_tweets_df)\n",
    "\n"
   ]
  },
  {
   "cell_type": "code",
   "execution_count": 9,
   "metadata": {},
   "outputs": [
    {
     "data": {
      "text/plain": [
       "(136020, 8)"
      ]
     },
     "execution_count": 9,
     "metadata": {},
     "output_type": "execute_result"
    }
   ],
   "source": [
    "tweets_country_df.shape"
   ]
  },
  {
   "cell_type": "code",
   "execution_count": 10,
   "metadata": {
    "id": "BSvtqjtd1O6b"
   },
   "outputs": [
    {
     "data": {
      "text/plain": [
       "array(['united kingdom', ' uk', ',uk', 'india', 'canada', 'nigeria',\n",
       "       'ukraine', 'україна', 'russia', 'Россия', 'poland', 'polska',\n",
       "       'pakistan', 'china', '中国', '中國', 'finland', 'romania', 'românia',\n",
       "       'estonia', 'eesti', 'latvia', 'latvija', 'lithuania', 'lietuva',\n",
       "       'australia', 'new zealand', 'france', 'kenya', 'germany',\n",
       "       'hong kong', 'south africa', ' usa', ',usa', 'united states',\n",
       "       'england'], dtype=object)"
      ]
     },
     "execution_count": 10,
     "metadata": {},
     "output_type": "execute_result"
    }
   ],
   "source": [
    "tweets_country_df.country.unique()"
   ]
  },
  {
   "cell_type": "code",
   "execution_count": 11,
   "metadata": {
    "id": "MZUqiVsC509f"
   },
   "outputs": [],
   "source": [
    "tweets_country_df.loc[tweets_country_df.country==\"united states\",'country']='usa'\n",
    "tweets_country_df.loc[tweets_country_df.country==\" usa\",'country']='usa'\n",
    "tweets_country_df.loc[tweets_country_df.country==\",usa\",'country']='usa'\n",
    "tweets_country_df.loc[tweets_country_df.country==\" uk\",'country']='uk'\n",
    "tweets_country_df.loc[tweets_country_df.country==\",uk\",'country']='uk'\n",
    "tweets_country_df.loc[tweets_country_df.country==\"united kingdom\",'country']='uk'\n",
    "tweets_country_df.loc[tweets_country_df.country==\"england\",'country']='uk'\n",
    "tweets_country_df.loc[tweets_country_df.country==\"україна\",'country']='ukraine'\n",
    "tweets_country_df.loc[tweets_country_df.country==\"Россия\",'country']='russia'\n",
    "tweets_country_df.loc[tweets_country_df.country==\"polska\",'country']='poland'\n",
    "tweets_country_df.loc[tweets_country_df.country==\"中国\",'country']='china'\n",
    "tweets_country_df.loc[tweets_country_df.country==\"中國\",'country']='china'\n",
    "tweets_country_df.loc[tweets_country_df.country==\"românia\",'country']='romania'\n",
    "tweets_country_df.loc[tweets_country_df.country==\"eesti\",'country']='estonia'\n",
    "tweets_country_df.loc[tweets_country_df.country==\"latvija\",'country']='latvia'\n",
    "tweets_country_df.loc[tweets_country_df.country==\"lietuva\",'country']='lithuania'"
   ]
  },
  {
   "cell_type": "code",
   "execution_count": 12,
   "metadata": {
    "id": "FVflyDD92Lb3"
   },
   "outputs": [
    {
     "data": {
      "text/plain": [
       "array(['uk', 'india', 'canada', 'nigeria', 'ukraine', 'russia', 'poland',\n",
       "       'pakistan', 'china', 'finland', 'romania', 'estonia', 'latvia',\n",
       "       'lithuania', 'australia', 'new zealand', 'france', 'kenya',\n",
       "       'germany', 'hong kong', 'south africa', 'usa'], dtype=object)"
      ]
     },
     "execution_count": 12,
     "metadata": {},
     "output_type": "execute_result"
    }
   ],
   "source": [
    "tweets_country_df.country.unique()"
   ]
  },
  {
   "cell_type": "code",
   "execution_count": 13,
   "metadata": {},
   "outputs": [
    {
     "data": {
      "text/plain": [
       "usa             30583\n",
       "india           27757\n",
       "uk              24004\n",
       "canada           7480\n",
       "nigeria          6719\n",
       "pakistan         5744\n",
       "poland           4658\n",
       "ukraine          4432\n",
       "france           4144\n",
       "australia        3552\n",
       "germany          3522\n",
       "south africa     3474\n",
       "kenya            2525\n",
       "russia           1343\n",
       "finland          1159\n",
       "hong kong        1151\n",
       "romania           868\n",
       "new zealand       727\n",
       "latvia            596\n",
       "estonia           567\n",
       "china             562\n",
       "lithuania         453\n",
       "Name: country, dtype: int64"
      ]
     },
     "execution_count": 13,
     "metadata": {},
     "output_type": "execute_result"
    }
   ],
   "source": [
    "tweets_country_df[\"country\"].value_counts()"
   ]
  },
  {
   "cell_type": "code",
   "execution_count": 14,
   "metadata": {
    "id": "kVKKrY-r4Dhs"
   },
   "outputs": [],
   "source": [
    "tweets_country_df.to_csv('tweets_dataset.csv', index=False)"
   ]
  },
  {
   "cell_type": "code",
   "execution_count": 15,
   "metadata": {
    "id": "o-q9Cb7i0T_m"
   },
   "outputs": [
    {
     "data": {
      "text/html": [
       "<div>\n",
       "<style scoped>\n",
       "    .dataframe tbody tr th:only-of-type {\n",
       "        vertical-align: middle;\n",
       "    }\n",
       "\n",
       "    .dataframe tbody tr th {\n",
       "        vertical-align: top;\n",
       "    }\n",
       "\n",
       "    .dataframe thead th {\n",
       "        text-align: right;\n",
       "    }\n",
       "</style>\n",
       "<table border=\"1\" class=\"dataframe\">\n",
       "  <thead>\n",
       "    <tr style=\"text-align: right;\">\n",
       "      <th></th>\n",
       "      <th>tweetid</th>\n",
       "      <th>username</th>\n",
       "      <th>tweetcreatedts</th>\n",
       "      <th>followers</th>\n",
       "      <th>retweetcount</th>\n",
       "      <th>text</th>\n",
       "      <th>country</th>\n",
       "    </tr>\n",
       "  </thead>\n",
       "  <tbody>\n",
       "    <tr>\n",
       "      <th>302</th>\n",
       "      <td>1496738788198199302</td>\n",
       "      <td>Rosgood2talk</td>\n",
       "      <td>2022-02-24 06:48:29.000000</td>\n",
       "      <td>1519</td>\n",
       "      <td>11.0</td>\n",
       "      <td>“A small group of people have gathered in the ...</td>\n",
       "      <td>uk</td>\n",
       "    </tr>\n",
       "    <tr>\n",
       "      <th>609</th>\n",
       "      <td>1496738913108602881</td>\n",
       "      <td>georgeb_04</td>\n",
       "      <td>2022-02-24 06:48:59.000000</td>\n",
       "      <td>11</td>\n",
       "      <td>848.0</td>\n",
       "      <td>One very concerning development is #Russia has...</td>\n",
       "      <td>uk</td>\n",
       "    </tr>\n",
       "    <tr>\n",
       "      <th>786</th>\n",
       "      <td>1496738983706972165</td>\n",
       "      <td>Michael67170354</td>\n",
       "      <td>2022-02-24 06:49:16.000000</td>\n",
       "      <td>1237</td>\n",
       "      <td>1853.0</td>\n",
       "      <td>Footage of the airport bombing in Ivano-Franki...</td>\n",
       "      <td>uk</td>\n",
       "    </tr>\n",
       "    <tr>\n",
       "      <th>961</th>\n",
       "      <td>1496739050081775616</td>\n",
       "      <td>EllianaWatson19</td>\n",
       "      <td>2022-02-24 06:49:32.000000</td>\n",
       "      <td>280</td>\n",
       "      <td>0.0</td>\n",
       "      <td>#Gold price rockets to $1,950 after #Russia of...</td>\n",
       "      <td>uk</td>\n",
       "    </tr>\n",
       "    <tr>\n",
       "      <th>1373</th>\n",
       "      <td>1496742100737708033</td>\n",
       "      <td>BritishHeraldUK</td>\n",
       "      <td>2022-02-24 07:01:39.000000</td>\n",
       "      <td>134551</td>\n",
       "      <td>0.0</td>\n",
       "      <td>#RussiaUkraine: What to know as #world awaits ...</td>\n",
       "      <td>uk</td>\n",
       "    </tr>\n",
       "    <tr>\n",
       "      <th>...</th>\n",
       "      <td>...</td>\n",
       "      <td>...</td>\n",
       "      <td>...</td>\n",
       "      <td>...</td>\n",
       "      <td>...</td>\n",
       "      <td>...</td>\n",
       "      <td>...</td>\n",
       "    </tr>\n",
       "    <tr>\n",
       "      <th>1073164</th>\n",
       "      <td>1497802158477086721</td>\n",
       "      <td>TrollPolice17</td>\n",
       "      <td>2022-02-27 05:13:57.000000</td>\n",
       "      <td>114</td>\n",
       "      <td>30.0</td>\n",
       "      <td>The main street in St Petersburg, #Russia, the...</td>\n",
       "      <td>uk</td>\n",
       "    </tr>\n",
       "    <tr>\n",
       "      <th>1073268</th>\n",
       "      <td>1497802191167496193</td>\n",
       "      <td>mavisbickle</td>\n",
       "      <td>2022-02-27 05:14:04.000000</td>\n",
       "      <td>579</td>\n",
       "      <td>2590.0</td>\n",
       "      <td>Bit of advice for all Ukrainians who intend to...</td>\n",
       "      <td>uk</td>\n",
       "    </tr>\n",
       "    <tr>\n",
       "      <th>1073342</th>\n",
       "      <td>1497802213581893634</td>\n",
       "      <td>bornnakeddd</td>\n",
       "      <td>2022-02-27 05:14:10.000000</td>\n",
       "      <td>34</td>\n",
       "      <td>2.0</td>\n",
       "      <td>@BaddCompani #BreakingNews The hacker group An...</td>\n",
       "      <td>uk</td>\n",
       "    </tr>\n",
       "    <tr>\n",
       "      <th>1073615</th>\n",
       "      <td>1497802290404675584</td>\n",
       "      <td>hev298</td>\n",
       "      <td>2022-02-27 05:14:28.000000</td>\n",
       "      <td>54</td>\n",
       "      <td>9764.0</td>\n",
       "      <td>Let me introduce you to Miss Ukraine Anastasii...</td>\n",
       "      <td>uk</td>\n",
       "    </tr>\n",
       "    <tr>\n",
       "      <th>1073668</th>\n",
       "      <td>1497802304208220160</td>\n",
       "      <td>Lexi94556417</td>\n",
       "      <td>2022-02-27 05:14:31.000000</td>\n",
       "      <td>78</td>\n",
       "      <td>0.0</td>\n",
       "      <td>#putin small man syndrome</td>\n",
       "      <td>uk</td>\n",
       "    </tr>\n",
       "  </tbody>\n",
       "</table>\n",
       "<p>136020 rows × 7 columns</p>\n",
       "</div>"
      ],
      "text/plain": [
       "                     tweetid         username              tweetcreatedts  \\\n",
       "302      1496738788198199302     Rosgood2talk  2022-02-24 06:48:29.000000   \n",
       "609      1496738913108602881       georgeb_04  2022-02-24 06:48:59.000000   \n",
       "786      1496738983706972165  Michael67170354  2022-02-24 06:49:16.000000   \n",
       "961      1496739050081775616  EllianaWatson19  2022-02-24 06:49:32.000000   \n",
       "1373     1496742100737708033  BritishHeraldUK  2022-02-24 07:01:39.000000   \n",
       "...                      ...              ...                         ...   \n",
       "1073164  1497802158477086721    TrollPolice17  2022-02-27 05:13:57.000000   \n",
       "1073268  1497802191167496193      mavisbickle  2022-02-27 05:14:04.000000   \n",
       "1073342  1497802213581893634      bornnakeddd  2022-02-27 05:14:10.000000   \n",
       "1073615  1497802290404675584           hev298  2022-02-27 05:14:28.000000   \n",
       "1073668  1497802304208220160     Lexi94556417  2022-02-27 05:14:31.000000   \n",
       "\n",
       "        followers  retweetcount  \\\n",
       "302          1519          11.0   \n",
       "609            11         848.0   \n",
       "786          1237        1853.0   \n",
       "961           280           0.0   \n",
       "1373       134551           0.0   \n",
       "...           ...           ...   \n",
       "1073164       114          30.0   \n",
       "1073268       579        2590.0   \n",
       "1073342        34           2.0   \n",
       "1073615        54        9764.0   \n",
       "1073668        78           0.0   \n",
       "\n",
       "                                                      text country  \n",
       "302      “A small group of people have gathered in the ...      uk  \n",
       "609      One very concerning development is #Russia has...      uk  \n",
       "786      Footage of the airport bombing in Ivano-Franki...      uk  \n",
       "961      #Gold price rockets to $1,950 after #Russia of...      uk  \n",
       "1373     #RussiaUkraine: What to know as #world awaits ...      uk  \n",
       "...                                                    ...     ...  \n",
       "1073164  The main street in St Petersburg, #Russia, the...      uk  \n",
       "1073268  Bit of advice for all Ukrainians who intend to...      uk  \n",
       "1073342  @BaddCompani #BreakingNews The hacker group An...      uk  \n",
       "1073615  Let me introduce you to Miss Ukraine Anastasii...      uk  \n",
       "1073668                          #putin small man syndrome      uk  \n",
       "\n",
       "[136020 rows x 7 columns]"
      ]
     },
     "execution_count": 15,
     "metadata": {},
     "output_type": "execute_result"
    }
   ],
   "source": [
    "tweets_country_df.drop(['location'], axis = 1)"
   ]
  },
  {
   "cell_type": "code",
   "execution_count": 16,
   "metadata": {
    "id": "ZpyU7EQ54ajn"
   },
   "outputs": [],
   "source": [
    "import sqlite3\n",
    "database = \"tweets_dataset.sqlite\"\n",
    "conn = sqlite3.connect(database)"
   ]
  },
  {
   "cell_type": "code",
   "execution_count": 17,
   "metadata": {
    "id": "e-xO4q_bG7RJ"
   },
   "outputs": [],
   "source": [
    "tweets_country_df.to_sql(name='Tweets', con=conn, schema=None, if_exists='replace', index=False, index_label=None, chunksize=None, dtype=None, method=None)\n",
    "conn.close()"
   ]
  },
  {
   "cell_type": "code",
   "execution_count": null,
   "metadata": {
    "id": "Rmhg1lEQJig9"
   },
   "outputs": [],
   "source": []
  },
  {
   "cell_type": "code",
   "execution_count": null,
   "metadata": {
    "id": "ca3EX4FTtTjK"
   },
   "outputs": [],
   "source": []
  },
  {
   "cell_type": "code",
   "execution_count": null,
   "metadata": {
    "id": "w1YzN97_Tuwl"
   },
   "outputs": [],
   "source": []
  },
  {
   "cell_type": "code",
   "execution_count": null,
   "metadata": {
    "id": "HoDtFyhJTuoa"
   },
   "outputs": [],
   "source": []
  },
  {
   "cell_type": "code",
   "execution_count": null,
   "metadata": {
    "id": "T3R10XUGct_p"
   },
   "outputs": [],
   "source": []
  },
  {
   "cell_type": "code",
   "execution_count": null,
   "metadata": {
    "id": "Or_onbXSNp3W"
   },
   "outputs": [],
   "source": []
  }
 ],
 "metadata": {
  "colab": {
   "collapsed_sections": [],
   "name": "Preprocess_Data_NLP.ipynb",
   "provenance": []
  },
  "kernelspec": {
   "display_name": "Python 3",
   "language": "python",
   "name": "python3"
  },
  "language_info": {
   "codemirror_mode": {
    "name": "ipython",
    "version": 3
   },
   "file_extension": ".py",
   "mimetype": "text/x-python",
   "name": "python",
   "nbconvert_exporter": "python",
   "pygments_lexer": "ipython3",
   "version": "3.7.10"
  }
 },
 "nbformat": 4,
 "nbformat_minor": 1
}
