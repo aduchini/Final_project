{
  "cells": [
    {
      "cell_type": "code",
      "execution_count": 39,
      "id": "b2f0e103",
      "metadata": {
        "id": "b2f0e103"
      },
      "outputs": [],
      "source": [
        "# import dependencies\n",
        "import pandas as pd\n",
        "import matplotlib.pyplot as plt\n",
        "import matplotlib.ticker as tick\n",
        "plt.style.use('fivethirtyeight')"
      ]
    },
    {
      "cell_type": "code",
      "execution_count": 40,
      "id": "3be05c43",
      "metadata": {},
      "outputs": [
        {
          "data": {
            "text/html": [
              "<div>\n",
              "<style scoped>\n",
              "    .dataframe tbody tr th:only-of-type {\n",
              "        vertical-align: middle;\n",
              "    }\n",
              "\n",
              "    .dataframe tbody tr th {\n",
              "        vertical-align: top;\n",
              "    }\n",
              "\n",
              "    .dataframe thead th {\n",
              "        text-align: right;\n",
              "    }\n",
              "</style>\n",
              "<table border=\"1\" class=\"dataframe\">\n",
              "  <thead>\n",
              "    <tr style=\"text-align: right;\">\n",
              "      <th></th>\n",
              "      <th>location</th>\n",
              "      <th>tweetcreatedts</th>\n",
              "      <th>text</th>\n",
              "      <th>country</th>\n",
              "      <th>neg</th>\n",
              "      <th>neu</th>\n",
              "      <th>pos</th>\n",
              "      <th>compound</th>\n",
              "      <th>sentiment</th>\n",
              "    </tr>\n",
              "  </thead>\n",
              "  <tbody>\n",
              "    <tr>\n",
              "      <th>0</th>\n",
              "      <td>India</td>\n",
              "      <td>2022-03-01</td>\n",
              "      <td>urges government to rescue student along wit...</td>\n",
              "      <td>india</td>\n",
              "      <td>0.000</td>\n",
              "      <td>0.769</td>\n",
              "      <td>0.231</td>\n",
              "      <td>0.5106</td>\n",
              "      <td>positive</td>\n",
              "    </tr>\n",
              "    <tr>\n",
              "      <th>1</th>\n",
              "      <td>Stoney Creek, Ontario</td>\n",
              "      <td>2022-03-01</td>\n",
              "      <td>moscow underground  sometimes the act of resis...</td>\n",
              "      <td>canada</td>\n",
              "      <td>0.000</td>\n",
              "      <td>0.880</td>\n",
              "      <td>0.120</td>\n",
              "      <td>0.3818</td>\n",
              "      <td>positive</td>\n",
              "    </tr>\n",
              "    <tr>\n",
              "      <th>2</th>\n",
              "      <td>Los Angeles, CA</td>\n",
              "      <td>2022-03-01</td>\n",
              "      <td>via   video game industry shares support for u...</td>\n",
              "      <td>usa</td>\n",
              "      <td>0.219</td>\n",
              "      <td>0.506</td>\n",
              "      <td>0.275</td>\n",
              "      <td>0.0000</td>\n",
              "      <td>neutral</td>\n",
              "    </tr>\n",
              "    <tr>\n",
              "      <th>3</th>\n",
              "      <td>Australia</td>\n",
              "      <td>2022-03-01</td>\n",
              "      <td>tomlinson had planned stops in kyiv on july   ...</td>\n",
              "      <td>australia</td>\n",
              "      <td>0.127</td>\n",
              "      <td>0.873</td>\n",
              "      <td>0.000</td>\n",
              "      <td>-0.1531</td>\n",
              "      <td>negative</td>\n",
              "    </tr>\n",
              "    <tr>\n",
              "      <th>4</th>\n",
              "      <td>Ukraine</td>\n",
              "      <td>2022-03-01</td>\n",
              "      <td>stop russian aggression against    close the ...</td>\n",
              "      <td>ukraine</td>\n",
              "      <td>0.320</td>\n",
              "      <td>0.558</td>\n",
              "      <td>0.122</td>\n",
              "      <td>-0.4404</td>\n",
              "      <td>negative</td>\n",
              "    </tr>\n",
              "  </tbody>\n",
              "</table>\n",
              "</div>"
            ],
            "text/plain": [
              "                location tweetcreatedts  \\\n",
              "0                  India     2022-03-01   \n",
              "1  Stoney Creek, Ontario     2022-03-01   \n",
              "2        Los Angeles, CA     2022-03-01   \n",
              "3              Australia     2022-03-01   \n",
              "4                Ukraine     2022-03-01   \n",
              "\n",
              "                                                text    country    neg    neu  \\\n",
              "0    urges government to rescue student along wit...      india  0.000  0.769   \n",
              "1  moscow underground  sometimes the act of resis...     canada  0.000  0.880   \n",
              "2  via   video game industry shares support for u...        usa  0.219  0.506   \n",
              "3  tomlinson had planned stops in kyiv on july   ...  australia  0.127  0.873   \n",
              "4   stop russian aggression against    close the ...    ukraine  0.320  0.558   \n",
              "\n",
              "     pos  compound sentiment  \n",
              "0  0.231    0.5106  positive  \n",
              "1  0.120    0.3818  positive  \n",
              "2  0.275    0.0000   neutral  \n",
              "3  0.000   -0.1531  negative  \n",
              "4  0.122   -0.4404  negative  "
            ]
          },
          "execution_count": 40,
          "metadata": {},
          "output_type": "execute_result"
        }
      ],
      "source": [
        "# load data\n",
        "tweet_sentiments_df = pd.read_csv('/Users/floramatos/Desktop/Final_Project/Files/resources/dataset/tweet_sentiments_consolidated.csv')\n",
        "tweet_sentiments_df.head(5)"
      ]
    },
    {
      "cell_type": "code",
      "execution_count": 41,
      "id": "a1a74b79",
      "metadata": {},
      "outputs": [],
      "source": [
        "# define function to edit large tick values\n",
        "def edit_tick_values(tick_val, pos):\n",
        "    if tick_val >= 1000:\n",
        "        val = round(tick_val/1000, 1)\n",
        "        new_tick_format = '{:}K'.format(val)\n",
        "    elif tick_val < 1000:\n",
        "        new_tick_format = round(tick_val, 1)\n",
        "    else:\n",
        "        new_tick_format = tick_val\n",
        "    \n",
        "    # make new_tick_format into a string value\n",
        "    new_tick_format = str(new_tick_format)\n",
        "    \n",
        "    # code below will keep 4.5M as is but change values such as 4.0M to 4M since that zero after the decimal isn't needed\n",
        "    index_of_decimal = new_tick_format.find(\".\")\n",
        "    \n",
        "    if index_of_decimal != -1:\n",
        "        value_after_decimal = new_tick_format[index_of_decimal+1]\n",
        "        if value_after_decimal == \"0\":\n",
        "            # remove the 0 after the decimal point since it's not needed\n",
        "            new_tick_format = new_tick_format[0:index_of_decimal] + new_tick_format[index_of_decimal+2:]\n",
        "            \n",
        "    return new_tick_format\n",
        "\n",
        "# from https://dfrieds.com/data-visualizations/how-format-large-tick-values.html"
      ]
    },
    {
      "cell_type": "code",
      "execution_count": 42,
      "id": "234e93d9",
      "metadata": {},
      "outputs": [
        {
          "data": {
            "image/png": "[encoded data removed]",
            "text/plain": [
              "<Figure size 432x288 with 1 Axes>"
            ]
          },
          "metadata": {},
          "output_type": "display_data"
        },
        {
          "data": {
            "text/plain": [
              "<Figure size 1152x648 with 0 Axes>"
            ]
          },
          "metadata": {},
          "output_type": "display_data"
        }
      ],
      "source": [
        "# Plot sentiment count distribution\n",
        "sentiment_count = tweet_sentiments_df['sentiment'].value_counts()\n",
        "sentiment_count.plot(kind='bar',rot=0,color=['purple','limegreen','skyblue'])\n",
        "plt.title('Tweets Sentiment Count Distribution')\n",
        "plt.ylabel('Count of Tweets')\n",
        "plt.xlabel('Sentiment Polarity')\n",
        "ax = plt.gca()\n",
        "ax.yaxis.set_major_formatter(tick.FuncFormatter(edit_tick_values))\n",
        "plt.figure(figsize=(16,9))\n",
        "plt.show()"
      ]
    },
    {
      "cell_type": "code",
      "execution_count": 43,
      "id": "40720e52",
      "metadata": {},
      "outputs": [
        {
          "data": {
            "text/plain": [
              "<Figure size 432x288 with 0 Axes>"
            ]
          },
          "metadata": {},
          "output_type": "display_data"
        }
      ],
      "source": [
        "# Save image\n",
        "# plt.savefig(\"resources/images/sentiment_distribution.png\")"
      ]
    },
    {
      "cell_type": "code",
      "execution_count": 47,
      "id": "866c7fa1",
      "metadata": {},
      "outputs": [
        {
          "data": {
            "image/png": "[encoded data removed]",
            "text/plain": [
              "<Figure size 432x288 with 1 Axes>"
            ]
          },
          "metadata": {},
          "output_type": "display_data"
        },
        {
          "data": {
            "text/plain": [
              "<Figure size 1152x648 with 0 Axes>"
            ]
          },
          "metadata": {},
          "output_type": "display_data"
        }
      ],
      "source": [
        "# plot sentiment count distribution by country\n",
        "sentiment_by_country = pd.crosstab(tweet_sentiments_df['country'],tweet_sentiments_df['sentiment'])\n",
        "sentiment_by_country['total'] = sentiment_by_country['positive'] + sentiment_by_country['negative'] + sentiment_by_country['neutral']\n",
        "result = sentiment_by_country.sort_values('total').drop(columns='total')\n",
        "result = result[['negative', 'positive', 'neutral']]\n",
        "result.plot(kind='barh',rot=0,color=['purple', 'limegreen', 'skyblue'])\n",
        "plt.title('Tweets Sentiment Count Distribution by Country')\n",
        "plt.xlabel('Country')\n",
        "plt.xlabel('Count of Tweets')\n",
        "ax = plt.gca()\n",
        "ax.xaxis.set_major_formatter(tick.FuncFormatter(edit_tick_values))\n",
        "plt.figure(figsize=(16,9))\n",
        "plt.show()"
      ]
    },
    {
      "cell_type": "code",
      "execution_count": 44,
      "id": "3e2d9658",
      "metadata": {},
      "outputs": [
        {
          "data": {
            "text/html": [
              "<div>\n",
              "<style scoped>\n",
              "    .dataframe tbody tr th:only-of-type {\n",
              "        vertical-align: middle;\n",
              "    }\n",
              "\n",
              "    .dataframe tbody tr th {\n",
              "        vertical-align: top;\n",
              "    }\n",
              "\n",
              "    .dataframe thead th {\n",
              "        text-align: right;\n",
              "    }\n",
              "</style>\n",
              "<table border=\"1\" class=\"dataframe\">\n",
              "  <thead>\n",
              "    <tr style=\"text-align: right;\">\n",
              "      <th>sentiment</th>\n",
              "      <th>negative</th>\n",
              "      <th>neutral</th>\n",
              "      <th>positive</th>\n",
              "    </tr>\n",
              "    <tr>\n",
              "      <th>country</th>\n",
              "      <th></th>\n",
              "      <th></th>\n",
              "      <th></th>\n",
              "    </tr>\n",
              "  </thead>\n",
              "  <tbody>\n",
              "    <tr>\n",
              "      <th>china</th>\n",
              "      <td>2417</td>\n",
              "      <td>932</td>\n",
              "      <td>1910</td>\n",
              "    </tr>\n",
              "    <tr>\n",
              "      <th>russia</th>\n",
              "      <td>2615</td>\n",
              "      <td>943</td>\n",
              "      <td>1830</td>\n",
              "    </tr>\n",
              "    <tr>\n",
              "      <th>pakistan</th>\n",
              "      <td>12897</td>\n",
              "      <td>5278</td>\n",
              "      <td>8639</td>\n",
              "    </tr>\n",
              "    <tr>\n",
              "      <th>nigeria</th>\n",
              "      <td>11892</td>\n",
              "      <td>4856</td>\n",
              "      <td>11198</td>\n",
              "    </tr>\n",
              "    <tr>\n",
              "      <th>australia</th>\n",
              "      <td>20360</td>\n",
              "      <td>6559</td>\n",
              "      <td>15845</td>\n",
              "    </tr>\n",
              "    <tr>\n",
              "      <th>poland</th>\n",
              "      <td>26931</td>\n",
              "      <td>10280</td>\n",
              "      <td>17126</td>\n",
              "    </tr>\n",
              "    <tr>\n",
              "      <th>ukraine</th>\n",
              "      <td>52484</td>\n",
              "      <td>13275</td>\n",
              "      <td>26521</td>\n",
              "    </tr>\n",
              "    <tr>\n",
              "      <th>canada</th>\n",
              "      <td>47115</td>\n",
              "      <td>15788</td>\n",
              "      <td>40983</td>\n",
              "    </tr>\n",
              "    <tr>\n",
              "      <th>india</th>\n",
              "      <td>76729</td>\n",
              "      <td>32741</td>\n",
              "      <td>65220</td>\n",
              "    </tr>\n",
              "    <tr>\n",
              "      <th>usa</th>\n",
              "      <td>84035</td>\n",
              "      <td>29118</td>\n",
              "      <td>66982</td>\n",
              "    </tr>\n",
              "    <tr>\n",
              "      <th>uk</th>\n",
              "      <td>111015</td>\n",
              "      <td>36311</td>\n",
              "      <td>103504</td>\n",
              "    </tr>\n",
              "  </tbody>\n",
              "</table>\n",
              "</div>"
            ],
            "text/plain": [
              "sentiment  negative  neutral  positive\n",
              "country                               \n",
              "china          2417      932      1910\n",
              "russia         2615      943      1830\n",
              "pakistan      12897     5278      8639\n",
              "nigeria       11892     4856     11198\n",
              "australia     20360     6559     15845\n",
              "poland        26931    10280     17126\n",
              "ukraine       52484    13275     26521\n",
              "canada        47115    15788     40983\n",
              "india         76729    32741     65220\n",
              "usa           84035    29118     66982\n",
              "uk           111015    36311    103504"
            ]
          },
          "execution_count": 44,
          "metadata": {},
          "output_type": "execute_result"
        }
      ],
      "source": [
        "result"
      ]
    },
    {
      "cell_type": "code",
      "execution_count": 38,
      "id": "33101a6e",
      "metadata": {},
      "outputs": [
        {
          "data": {
            "text/plain": [
              "<Figure size 432x288 with 0 Axes>"
            ]
          },
          "metadata": {},
          "output_type": "display_data"
        }
      ],
      "source": [
        "# Save image\n",
        "# plt.savefig(\"resources/images/sentiment_distribution_by_country.png\")"
      ]
    },
    {
      "cell_type": "code",
      "execution_count": null,
      "id": "a42bd3bd",
      "metadata": {
        "id": "a42bd3bd"
      },
      "outputs": [],
      "source": []
    }
  ],
  "metadata": {
    "colab": {
      "name": "Heatmap_Sentiments_vs_Date.ipynb",
      "provenance": []
    },
    "kernelspec": {
      "display_name": "Python 3 (ipykernel)",
      "language": "python",
      "name": "python3"
    },
    "language_info": {
      "codemirror_mode": {
        "name": "ipython",
        "version": 3
      },
      "file_extension": ".py",
      "mimetype": "text/x-python",
      "name": "python",
      "nbconvert_exporter": "python",
      "pygments_lexer": "ipython3",
      "version": "3.7.10"
    }
  },
  "nbformat": 4,
  "nbformat_minor": 5
}
