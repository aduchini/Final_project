{
 "cells": [
  {
   "cell_type": "markdown",
   "id": "aa5cf387",
   "metadata": {},
   "source": [
    "### About the Dataset\n",
    "#### Kaggle dataset : [Download The Dataset Here ](https://www.kaggle.com/bwandowando/ukraine-russian-crisis-twitter-dataset-1-2-m-rows/discussion/310030)\n",
    "\n",
    "#### Description\n",
    "This dataset contains 1.2M distinct tweets about the current ongoing Ukraine-Russia conflict.\n",
    "\n",
    "Implementation\n",
    "Two Jupyter notebooks running 24/7, executing every 15 mins monitoring hashtags pertaining to the ongoing Ukraine-Russia conflict. The dataset creator also implemented a simple \"hashtag crawler\" where the dataset creator crawled the top-most hashtags from an initial set of hashtags thus getting the other related hashtags at a given point in time."
   ]
  },
  {
   "cell_type": "markdown",
   "id": "53cd3955",
   "metadata": {},
   "source": [
    "#### Import dependencies"
   ]
  },
  {
   "cell_type": "code",
   "execution_count": 1,
   "id": "15e82527",
   "metadata": {},
   "outputs": [],
   "source": [
    "import pandas as pd\n",
    "import numpy as np\n",
    "import re\n",
    "import datetime as dt"
   ]
  },
  {
   "cell_type": "markdown",
   "id": "f1cc504a",
   "metadata": {},
   "source": [
    "#### Load the csv dataset into a dataframe"
   ]
  },
  {
   "cell_type": "code",
   "execution_count": 2,
   "id": "0505ce11",
   "metadata": {},
   "outputs": [
    {
     "name": "stderr",
     "output_type": "stream",
     "text": [
      "C:\\Users\\anadu\\anaconda3\\envs\\PythonData\\lib\\site-packages\\IPython\\core\\interactiveshell.py:3166: DtypeWarning: Columns (15) have mixed types.Specify dtype option on import or set low_memory=False.\n",
      "  interactivity=interactivity, compiler=compiler, result=result)\n"
     ]
    }
   ],
   "source": [
    "tweets_df = pd.read_csv('resources/UkraineCombinedTweetsDeduped20220227-131611.csv')"
   ]
  },
  {
   "cell_type": "code",
   "execution_count": 3,
   "id": "1d5b9a9d",
   "metadata": {},
   "outputs": [
    {
     "data": {
      "text/plain": [
       "Index(['Unnamed: 0', 'userid', 'username', 'acctdesc', 'location', 'following',\n",
       "       'followers', 'totaltweets', 'usercreatedts', 'tweetid',\n",
       "       'tweetcreatedts', 'retweetcount', 'text', 'hashtags', 'language',\n",
       "       'coordinates', 'favorite_count', 'extractedts'],\n",
       "      dtype='object')"
      ]
     },
     "execution_count": 3,
     "metadata": {},
     "output_type": "execute_result"
    }
   ],
   "source": [
    "tweets_df.columns"
   ]
  },
  {
   "cell_type": "markdown",
   "id": "21071d32",
   "metadata": {},
   "source": [
    "#### Create a data set of English tweets"
   ]
  },
  {
   "cell_type": "code",
   "execution_count": 4,
   "id": "72c8a470",
   "metadata": {},
   "outputs": [
    {
     "data": {
      "text/plain": [
       "723256"
      ]
     },
     "execution_count": 4,
     "metadata": {},
     "output_type": "execute_result"
    }
   ],
   "source": [
    "# Filter English laguage tweets from the data (relevant to this project)\n",
    "en_tweets_df = tweets_df[tweets_df['language']=='en']\n",
    "len(en_tweets_df)"
   ]
  },
  {
   "cell_type": "markdown",
   "id": "f801284f",
   "metadata": {},
   "source": [
    "### Data Cleaning"
   ]
  },
  {
   "cell_type": "code",
   "execution_count": 5,
   "id": "4cda104f",
   "metadata": {},
   "outputs": [
    {
     "data": {
      "text/plain": [
       "282767"
      ]
     },
     "execution_count": 5,
     "metadata": {},
     "output_type": "execute_result"
    }
   ],
   "source": [
    "# Count rows with no location\n",
    "en_tweets_df['location'].isna().sum()"
   ]
  },
  {
   "cell_type": "code",
   "execution_count": 6,
   "id": "4686aa0b",
   "metadata": {},
   "outputs": [
    {
     "data": {
      "text/plain": [
       "440489"
      ]
     },
     "execution_count": 6,
     "metadata": {},
     "output_type": "execute_result"
    }
   ],
   "source": [
    "# Drop rows where location is NaN or blank\n",
    "en_tweets_df = en_tweets_df[en_tweets_df['location'].notna()]\n",
    "len(en_tweets_df)"
   ]
  },
  {
   "cell_type": "code",
   "execution_count": 7,
   "id": "1b120500",
   "metadata": {},
   "outputs": [
    {
     "data": {
      "text/plain": [
       "440446"
      ]
     },
     "execution_count": 7,
     "metadata": {},
     "output_type": "execute_result"
    }
   ],
   "source": [
    "# count rows with no coordinates\n",
    "en_tweets_df['coordinates'].isna().sum()"
   ]
  },
  {
   "cell_type": "code",
   "execution_count": 8,
   "id": "3ebb3dac",
   "metadata": {},
   "outputs": [
    {
     "data": {
      "text/html": [
       "<div>\n",
       "<style scoped>\n",
       "    .dataframe tbody tr th:only-of-type {\n",
       "        vertical-align: middle;\n",
       "    }\n",
       "\n",
       "    .dataframe tbody tr th {\n",
       "        vertical-align: top;\n",
       "    }\n",
       "\n",
       "    .dataframe thead th {\n",
       "        text-align: right;\n",
       "    }\n",
       "</style>\n",
       "<table border=\"1\" class=\"dataframe\">\n",
       "  <thead>\n",
       "    <tr style=\"text-align: right;\">\n",
       "      <th></th>\n",
       "      <th>tweetid</th>\n",
       "      <th>username</th>\n",
       "      <th>retweetcount</th>\n",
       "      <th>favorite_count</th>\n",
       "      <th>location</th>\n",
       "      <th>tweetcreatedts</th>\n",
       "      <th>text</th>\n",
       "    </tr>\n",
       "  </thead>\n",
       "  <tbody>\n",
       "    <tr>\n",
       "      <th>5</th>\n",
       "      <td>1496738676335734785</td>\n",
       "      <td>Areopagiet</td>\n",
       "      <td>1552</td>\n",
       "      <td>0</td>\n",
       "      <td>EU v2.0</td>\n",
       "      <td>2022-02-24 06:48:03.000000</td>\n",
       "      <td>A cruise missile fired by the Russian army fel...</td>\n",
       "    </tr>\n",
       "    <tr>\n",
       "      <th>13</th>\n",
       "      <td>1496738678332280834</td>\n",
       "      <td>Sicarius130</td>\n",
       "      <td>1032</td>\n",
       "      <td>0</td>\n",
       "      <td>Hong Kong</td>\n",
       "      <td>2022-02-24 06:48:03.000000</td>\n",
       "      <td>SPREAD AND SHARE, YOU CAN HELP UKRAINE #Ukrain...</td>\n",
       "    </tr>\n",
       "  </tbody>\n",
       "</table>\n",
       "</div>"
      ],
      "text/plain": [
       "                tweetid     username  retweetcount  favorite_count   location  \\\n",
       "5   1496738676335734785   Areopagiet          1552               0    EU v2.0   \n",
       "13  1496738678332280834  Sicarius130          1032               0  Hong Kong   \n",
       "\n",
       "                tweetcreatedts  \\\n",
       "5   2022-02-24 06:48:03.000000   \n",
       "13  2022-02-24 06:48:03.000000   \n",
       "\n",
       "                                                 text  \n",
       "5   A cruise missile fired by the Russian army fel...  \n",
       "13  SPREAD AND SHARE, YOU CAN HELP UKRAINE #Ukrain...  "
      ]
     },
     "execution_count": 8,
     "metadata": {},
     "output_type": "execute_result"
    }
   ],
   "source": [
    "# Drop all unnecessary columns: userid, acctdesc, usercreatedts, language, favorite_count, extractedts, coordinates \n",
    "tweets_df = en_tweets_df[['tweetid','username','retweetcount', 'favorite_count','location','tweetcreatedts','text']]\n",
    "tweets_df.head(2)"
   ]
  },
  {
   "cell_type": "code",
   "execution_count": 9,
   "id": "cb131d11",
   "metadata": {},
   "outputs": [
    {
     "data": {
      "text/plain": [
       "United States              7160\n",
       "India                      6407\n",
       "London, England            3112\n",
       "USA                        2788\n",
       "United Kingdom             2608\n",
       "Canada                     2565\n",
       "New Delhi, India           2492\n",
       "London                     2369\n",
       "California, USA            2337\n",
       "Lagos, Nigeria             2091\n",
       "Los Angeles, CA            1900\n",
       "Washington, DC             1865\n",
       "Earth                      1838\n",
       "England, United Kingdom    1768\n",
       "Ukraine                    1714\n",
       "Nigeria                    1675\n",
       "Texas, USA                 1582\n",
       "UK                         1526\n",
       "New York, USA              1482\n",
       "Florida, USA               1478\n",
       "Pakistan                   1405\n",
       "Australia                  1386\n",
       "New York, NY               1311\n",
       "Mumbai, India              1303\n",
       "Chicago, IL                1198\n",
       "Toronto, Ontario           1155\n",
       "Nairobi, Kenya             1145\n",
       "Germany                    1139\n",
       "Hong Kong                   966\n",
       "France                      960\n",
       "Europe                      936\n",
       "Paris, France               870\n",
       "Polska                      842\n",
       "South Africa                819\n",
       "Global                      801\n",
       "Hyderabad, India            796\n",
       "Houston, TX                 790\n",
       "Deutschland                 737\n",
       "Bengaluru, India            734\n",
       "Planet Earth                727\n",
       "she/her                     706\n",
       "Islamabad, Pakistan         682\n",
       "Ireland                     679\n",
       "Texas                       661\n",
       "Seattle, WA                 654\n",
       "Україна                     636\n",
       "New Jersey, USA             626\n",
       "Ontario, Canada             620\n",
       "Dallas, TX                  618\n",
       "Thailand                    618\n",
       "Name: location, dtype: int64"
      ]
     },
     "execution_count": 9,
     "metadata": {},
     "output_type": "execute_result"
    }
   ],
   "source": [
    "tweets_df['location'].value_counts().head(50)"
   ]
  },
  {
   "cell_type": "code",
   "execution_count": 10,
   "id": "c7cc5887",
   "metadata": {},
   "outputs": [],
   "source": [
    "#create a copy to compare calculated country vs. location values\n",
    "tweets_country_df = tweets_df.copy()"
   ]
  },
  {
   "cell_type": "code",
   "execution_count": 11,
   "id": "1f111ef1",
   "metadata": {},
   "outputs": [],
   "source": [
    "# create country column based on top 50 values from location column\n",
    "\n",
    "country_dicts = [{'india':['India','New Delhi','Mumbai']},\n",
    "               {'ukraine':['Kyiv','ukraine','Kharkiv','Odessa','Donetsk','Україна']},\n",
    "               {'canada':['Canada','Ontario']},\n",
    "               {'nigeria':['Nigeria']},\n",
    "               {'pakistan':['Pakistan']},\n",
    "               {'russia':['Russia','Россия']},\n",
    "               {'germany':['Germany','Deutschland']},\n",
    "               {'france':['France']},\n",
    "               {'poland':['Poland','Polska','Warsaw','Krakow','lodz','Wroclaw','Poznan','Gdansk']},\n",
    "               {'australia':['Australia', 'Sydney']},\n",
    "               {'china':['China', '俄罗斯','俄羅斯']},\n",
    "               {'usa':['USA','United States','Los Angeles','Washington','Las Vegas','Chicago','New York','Houston','Seattle','Texas','Dallas','Atlanta']},\n",
    "               {'uk':['UK','England','London','United Kingdom','Liverpool','Ireland']},\n",
    "               {'nz':['NZ','New Zealand']}]\n",
    "\n",
    "\n",
    "def find_country(location,country_dicts):   \n",
    "    for country_dict in country_dicts:\n",
    "        for country_name,city_list in country_dict.items():\n",
    "            for city_name in city_list:\n",
    "                # this needs a regular expression use the same re library as below\n",
    "                if city_name.lower() in location.lower():\n",
    "                    return country_name\n",
    "    return np.nan\n",
    "\n",
    "# apply function to dataframe\n",
    "tweets_country_df['country'] = tweets_country_df['location'].apply(lambda x: find_country(x, country_dicts))"
   ]
  },
  {
   "cell_type": "code",
   "execution_count": 12,
   "id": "c9a40715",
   "metadata": {},
   "outputs": [
    {
     "data": {
      "text/plain": [
       "usa          52509\n",
       "uk           31361\n",
       "india        29683\n",
       "canada       10370\n",
       "nigeria       6713\n",
       "germany       6491\n",
       "pakistan      5733\n",
       "ukraine       5099\n",
       "poland        4877\n",
       "australia     4429\n",
       "france        4087\n",
       "nz            1514\n",
       "russia        1040\n",
       "china          500\n",
       "Name: country, dtype: int64"
      ]
     },
     "execution_count": 12,
     "metadata": {},
     "output_type": "execute_result"
    }
   ],
   "source": [
    "# We need a regular expression for USA, UK, NZ, that uses beginning or end of text, like ^ and $\n",
    "# seeing lots of results for 'nz' like 'tanzania', 'shenzhen', 'zanzibar', 'firenze', 'mzanzi','denzoko'\n",
    "# seeing various results for 'uk' like 'timbuktu', 'phuket'\n",
    "# Seeing results like 'lampedusa' for 'usa'\n",
    "\n",
    "tweets_country_df['country'].value_counts().head(20)"
   ]
  },
  {
   "cell_type": "code",
   "execution_count": 13,
   "id": "7101b740",
   "metadata": {},
   "outputs": [
    {
     "data": {
      "text/plain": [
       "(164406, 8)"
      ]
     },
     "execution_count": 13,
     "metadata": {},
     "output_type": "execute_result"
    }
   ],
   "source": [
    "# Create a new dataframe where country column is not na\n",
    "tweets_country_df = tweets_country_df[tweets_country_df['country'].notna()]\n",
    "tweets_country_df.shape"
   ]
  },
  {
   "cell_type": "code",
   "execution_count": 14,
   "id": "4e319b46",
   "metadata": {},
   "outputs": [
    {
     "data": {
      "text/html": [
       "<div>\n",
       "<style scoped>\n",
       "    .dataframe tbody tr th:only-of-type {\n",
       "        vertical-align: middle;\n",
       "    }\n",
       "\n",
       "    .dataframe tbody tr th {\n",
       "        vertical-align: top;\n",
       "    }\n",
       "\n",
       "    .dataframe thead th {\n",
       "        text-align: right;\n",
       "    }\n",
       "</style>\n",
       "<table border=\"1\" class=\"dataframe\">\n",
       "  <thead>\n",
       "    <tr style=\"text-align: right;\">\n",
       "      <th></th>\n",
       "      <th>tweetid</th>\n",
       "      <th>username</th>\n",
       "      <th>retweetcount</th>\n",
       "      <th>favorite_count</th>\n",
       "      <th>location</th>\n",
       "      <th>tweetcreatedts</th>\n",
       "      <th>text</th>\n",
       "      <th>country</th>\n",
       "    </tr>\n",
       "  </thead>\n",
       "  <tbody>\n",
       "    <tr>\n",
       "      <th>164404</th>\n",
       "      <td>1497802305369825284</td>\n",
       "      <td>chinaorgcn</td>\n",
       "      <td>0</td>\n",
       "      <td>0</td>\n",
       "      <td>Beijing, China</td>\n",
       "      <td>2022-02-27 05:14:32.000000</td>\n",
       "      <td>U.S. Secretary of State Antony #Blinken announ...</td>\n",
       "      <td>china</td>\n",
       "    </tr>\n",
       "    <tr>\n",
       "      <th>164405</th>\n",
       "      <td>1497802306527842307</td>\n",
       "      <td>mohitIndia143</td>\n",
       "      <td>0</td>\n",
       "      <td>0</td>\n",
       "      <td>Rajasthan, India</td>\n",
       "      <td>2022-02-27 05:14:32.000000</td>\n",
       "      <td>NEW - #NATO Allies boost support to #Ukraine 🇺...</td>\n",
       "      <td>india</td>\n",
       "    </tr>\n",
       "  </tbody>\n",
       "</table>\n",
       "</div>"
      ],
      "text/plain": [
       "                    tweetid       username  retweetcount  favorite_count  \\\n",
       "164404  1497802305369825284     chinaorgcn             0               0   \n",
       "164405  1497802306527842307  mohitIndia143             0               0   \n",
       "\n",
       "                location              tweetcreatedts  \\\n",
       "164404    Beijing, China  2022-02-27 05:14:32.000000   \n",
       "164405  Rajasthan, India  2022-02-27 05:14:32.000000   \n",
       "\n",
       "                                                     text country  \n",
       "164404  U.S. Secretary of State Antony #Blinken announ...   china  \n",
       "164405  NEW - #NATO Allies boost support to #Ukraine 🇺...   india  "
      ]
     },
     "execution_count": 14,
     "metadata": {},
     "output_type": "execute_result"
    }
   ],
   "source": [
    "# reset index of the new df\n",
    "tweets_country_df.reset_index(drop=True,inplace=True)\n",
    "tweets_country_df.tail(2)"
   ]
  },
  {
   "cell_type": "code",
   "execution_count": 15,
   "id": "21767deb",
   "metadata": {},
   "outputs": [
    {
     "data": {
      "text/html": [
       "<div>\n",
       "<style scoped>\n",
       "    .dataframe tbody tr th:only-of-type {\n",
       "        vertical-align: middle;\n",
       "    }\n",
       "\n",
       "    .dataframe tbody tr th {\n",
       "        vertical-align: top;\n",
       "    }\n",
       "\n",
       "    .dataframe thead th {\n",
       "        text-align: right;\n",
       "    }\n",
       "</style>\n",
       "<table border=\"1\" class=\"dataframe\">\n",
       "  <thead>\n",
       "    <tr style=\"text-align: right;\">\n",
       "      <th></th>\n",
       "      <th>tweetid</th>\n",
       "      <th>username</th>\n",
       "      <th>retweetcount</th>\n",
       "      <th>favorite_count</th>\n",
       "      <th>location</th>\n",
       "      <th>tweetcreatedts</th>\n",
       "      <th>text</th>\n",
       "      <th>country</th>\n",
       "    </tr>\n",
       "  </thead>\n",
       "  <tbody>\n",
       "    <tr>\n",
       "      <th>164404</th>\n",
       "      <td>1497802305369825284</td>\n",
       "      <td>chinaorgcn</td>\n",
       "      <td>0</td>\n",
       "      <td>0</td>\n",
       "      <td>Beijing, China</td>\n",
       "      <td>2022-02-27</td>\n",
       "      <td>U.S. Secretary of State Antony #Blinken announ...</td>\n",
       "      <td>china</td>\n",
       "    </tr>\n",
       "    <tr>\n",
       "      <th>164405</th>\n",
       "      <td>1497802306527842307</td>\n",
       "      <td>mohitIndia143</td>\n",
       "      <td>0</td>\n",
       "      <td>0</td>\n",
       "      <td>Rajasthan, India</td>\n",
       "      <td>2022-02-27</td>\n",
       "      <td>NEW - #NATO Allies boost support to #Ukraine 🇺...</td>\n",
       "      <td>india</td>\n",
       "    </tr>\n",
       "  </tbody>\n",
       "</table>\n",
       "</div>"
      ],
      "text/plain": [
       "                    tweetid       username  retweetcount  favorite_count  \\\n",
       "164404  1497802305369825284     chinaorgcn             0               0   \n",
       "164405  1497802306527842307  mohitIndia143             0               0   \n",
       "\n",
       "                location tweetcreatedts  \\\n",
       "164404    Beijing, China     2022-02-27   \n",
       "164405  Rajasthan, India     2022-02-27   \n",
       "\n",
       "                                                     text country  \n",
       "164404  U.S. Secretary of State Antony #Blinken announ...   china  \n",
       "164405  NEW - #NATO Allies boost support to #Ukraine 🇺...   india  "
      ]
     },
     "execution_count": 15,
     "metadata": {},
     "output_type": "execute_result"
    }
   ],
   "source": [
    "# clean the date column by changing the date format to date object\n",
    "tweets_country_df['tweetcreatedts'] = pd.to_datetime(tweets_country_df['tweetcreatedts']).dt.date\n",
    "tweets_country_df.tail(2)"
   ]
  },
  {
   "cell_type": "code",
   "execution_count": 16,
   "id": "735abe9c",
   "metadata": {},
   "outputs": [],
   "source": [
    "tweets_country_df.drop(['location'], axis=1, inplace=True)"
   ]
  },
  {
   "cell_type": "code",
   "execution_count": 17,
   "id": "3a675aff",
   "metadata": {},
   "outputs": [],
   "source": [
    "# save the above dataframe as a csv\n",
    "tweets_country_df.to_csv('resources/cleaned_data.csv', index=False)"
   ]
  },
  {
   "cell_type": "markdown",
   "id": "905fa34b",
   "metadata": {},
   "source": [
    "### Tweeted text cleaning function to perform following operations :\n",
    "\n",
    "- convert all text to lowercase\n",
    "- remove mentions\n",
    "- remove hashtags\n",
    "- remove hyperlinks\n",
    "- remove punctuations and special characters \n"
   ]
  },
  {
   "cell_type": "code",
   "execution_count": 18,
   "id": "93fbce0f",
   "metadata": {},
   "outputs": [],
   "source": [
    "import re\n",
    "\n",
    "def text_cleaning(df, column_name):\n",
    "\n",
    "# convert all text to lower case\n",
    "    df[column_name] = df[column_name].str.lower().to_frame() # returns a series object\n",
    "    df[column_name] = df[column_name].str.replace(r\"@[A-Za-z0-9_']+\",\"\", regex = True).to_frame() # remove mentions\n",
    "    df[column_name] = df[column_name].str.replace(r\"#[A-Za-z0-9_]+\",\"\", regex=True).to_frame() # remove hashtags\n",
    "    df[column_name] = df[column_name].str.replace(r\"http\\S+|www.\\S+\",\"\",regex=True).to_frame() # remove hyperlinks\n",
    "    df[column_name] = df[column_name].str.replace(r\"[^\\w\\s]|_|\\d+|[^a-zA-Z]\",\" \",regex=True).to_frame() # remove punctuations\n",
    "\n",
    "    return df"
   ]
  },
  {
   "cell_type": "markdown",
   "id": "8e5d693f",
   "metadata": {},
   "source": [
    "#### Cleaned tweets df preview"
   ]
  },
  {
   "cell_type": "code",
   "execution_count": 36,
   "id": "0e4dac9c",
   "metadata": {},
   "outputs": [
    {
     "data": {
      "text/html": [
       "<div>\n",
       "<style scoped>\n",
       "    .dataframe tbody tr th:only-of-type {\n",
       "        vertical-align: middle;\n",
       "    }\n",
       "\n",
       "    .dataframe tbody tr th {\n",
       "        vertical-align: top;\n",
       "    }\n",
       "\n",
       "    .dataframe thead th {\n",
       "        text-align: right;\n",
       "    }\n",
       "</style>\n",
       "<table border=\"1\" class=\"dataframe\">\n",
       "  <thead>\n",
       "    <tr style=\"text-align: right;\">\n",
       "      <th></th>\n",
       "      <th>text</th>\n",
       "    </tr>\n",
       "  </thead>\n",
       "  <tbody>\n",
       "    <tr>\n",
       "      <th>164404</th>\n",
       "      <td>u s  secretary of state antony  announced satu...</td>\n",
       "    </tr>\n",
       "    <tr>\n",
       "      <th>164405</th>\n",
       "      <td>new    allies boost support to               s...</td>\n",
       "    </tr>\n",
       "  </tbody>\n",
       "</table>\n",
       "</div>"
      ],
      "text/plain": [
       "                                                     text\n",
       "164404  u s  secretary of state antony  announced satu...\n",
       "164405  new    allies boost support to               s..."
      ]
     },
     "execution_count": 36,
     "metadata": {},
     "output_type": "execute_result"
    }
   ],
   "source": [
    "# clean the tweets using function\n",
    "cleaned_tweets_df = tweets_country_df.copy()\n",
    "cleaned_tweets_df = cleaned_tweets_df[['text']]\n",
    "cleaned_tweets_df = text_cleaning(cleaned_tweets_df,'text')\n",
    "cleaned_tweets_df.tail(2)"
   ]
  },
  {
   "cell_type": "markdown",
   "id": "f9a12beb",
   "metadata": {},
   "source": [
    "### Data Cleaning Complete\n"
   ]
  },
  {
   "cell_type": "markdown",
   "id": "6650fd83",
   "metadata": {},
   "source": [
    "#### NOTE: (Add to final report)\n",
    "\n",
    "- News Tweets are about 1% of the entire dataset and hence assumed to not affect the analysis results. \n",
    "\n",
    "- Also, it is difficult to distinguish between the actual news tweets and private accounts sharing news."
   ]
  },
  {
   "cell_type": "markdown",
   "id": "f1e7e065",
   "metadata": {},
   "source": [
    "### Vader Sentiment Analysis"
   ]
  },
  {
   "cell_type": "markdown",
   "id": "cf015571",
   "metadata": {},
   "source": [
    "VADER (Valence Aware Dictionary and sEntiment Reasoner) is a lexicon and rule-based sentiment analysis tool that is specifically attuned to sentiments expressed in social media. It is fully open-sourced under the [MIT License] "
   ]
  },
  {
   "cell_type": "code",
   "execution_count": 37,
   "id": "4f70a6e8",
   "metadata": {},
   "outputs": [],
   "source": [
    "# Import dependencies, modules required for sentiment analysis from vader package which is \n",
    "# Previously installed in the python environment\n",
    "from vaderSentiment.vaderSentiment import SentimentIntensityAnalyzer\n",
    "analyzer = SentimentIntensityAnalyzer()"
   ]
  },
  {
   "cell_type": "code",
   "execution_count": 38,
   "id": "309ac0ea",
   "metadata": {},
   "outputs": [
    {
     "data": {
      "text/html": [
       "<div>\n",
       "<style scoped>\n",
       "    .dataframe tbody tr th:only-of-type {\n",
       "        vertical-align: middle;\n",
       "    }\n",
       "\n",
       "    .dataframe tbody tr th {\n",
       "        vertical-align: top;\n",
       "    }\n",
       "\n",
       "    .dataframe thead th {\n",
       "        text-align: right;\n",
       "    }\n",
       "</style>\n",
       "<table border=\"1\" class=\"dataframe\">\n",
       "  <thead>\n",
       "    <tr style=\"text-align: right;\">\n",
       "      <th></th>\n",
       "      <th>neg</th>\n",
       "      <th>neu</th>\n",
       "      <th>pos</th>\n",
       "      <th>compound</th>\n",
       "    </tr>\n",
       "  </thead>\n",
       "  <tbody>\n",
       "    <tr>\n",
       "      <th>164396</th>\n",
       "      <td>0.000</td>\n",
       "      <td>0.816</td>\n",
       "      <td>0.184</td>\n",
       "      <td>0.4019</td>\n",
       "    </tr>\n",
       "    <tr>\n",
       "      <th>164397</th>\n",
       "      <td>0.047</td>\n",
       "      <td>0.862</td>\n",
       "      <td>0.091</td>\n",
       "      <td>0.4588</td>\n",
       "    </tr>\n",
       "    <tr>\n",
       "      <th>164398</th>\n",
       "      <td>0.000</td>\n",
       "      <td>1.000</td>\n",
       "      <td>0.000</td>\n",
       "      <td>0.0000</td>\n",
       "    </tr>\n",
       "    <tr>\n",
       "      <th>164399</th>\n",
       "      <td>0.180</td>\n",
       "      <td>0.599</td>\n",
       "      <td>0.221</td>\n",
       "      <td>0.2960</td>\n",
       "    </tr>\n",
       "    <tr>\n",
       "      <th>164400</th>\n",
       "      <td>0.242</td>\n",
       "      <td>0.758</td>\n",
       "      <td>0.000</td>\n",
       "      <td>-0.4939</td>\n",
       "    </tr>\n",
       "    <tr>\n",
       "      <th>164401</th>\n",
       "      <td>0.000</td>\n",
       "      <td>1.000</td>\n",
       "      <td>0.000</td>\n",
       "      <td>0.0000</td>\n",
       "    </tr>\n",
       "    <tr>\n",
       "      <th>164402</th>\n",
       "      <td>0.000</td>\n",
       "      <td>0.743</td>\n",
       "      <td>0.257</td>\n",
       "      <td>0.6369</td>\n",
       "    </tr>\n",
       "    <tr>\n",
       "      <th>164403</th>\n",
       "      <td>0.270</td>\n",
       "      <td>0.730</td>\n",
       "      <td>0.000</td>\n",
       "      <td>-0.7430</td>\n",
       "    </tr>\n",
       "    <tr>\n",
       "      <th>164404</th>\n",
       "      <td>0.072</td>\n",
       "      <td>0.718</td>\n",
       "      <td>0.210</td>\n",
       "      <td>0.5574</td>\n",
       "    </tr>\n",
       "    <tr>\n",
       "      <th>164405</th>\n",
       "      <td>0.000</td>\n",
       "      <td>0.859</td>\n",
       "      <td>0.141</td>\n",
       "      <td>0.6597</td>\n",
       "    </tr>\n",
       "  </tbody>\n",
       "</table>\n",
       "</div>"
      ],
      "text/plain": [
       "          neg    neu    pos  compound\n",
       "164396  0.000  0.816  0.184    0.4019\n",
       "164397  0.047  0.862  0.091    0.4588\n",
       "164398  0.000  1.000  0.000    0.0000\n",
       "164399  0.180  0.599  0.221    0.2960\n",
       "164400  0.242  0.758  0.000   -0.4939\n",
       "164401  0.000  1.000  0.000    0.0000\n",
       "164402  0.000  0.743  0.257    0.6369\n",
       "164403  0.270  0.730  0.000   -0.7430\n",
       "164404  0.072  0.718  0.210    0.5574\n",
       "164405  0.000  0.859  0.141    0.6597"
      ]
     },
     "execution_count": 38,
     "metadata": {},
     "output_type": "execute_result"
    }
   ],
   "source": [
    "# Generate sentiment for all the sentnces present in the data set\n",
    "def sentiment_scores(df, column_name):\n",
    "    sentiment_score_list=[]\n",
    "    for row in df[column_name]:\n",
    "        vader_sentiment = analyzer.polarity_scores(row)\n",
    "        sentiment_score_list.append(vader_sentiment)\n",
    "    return pd.DataFrame(sentiment_score_list)\n",
    "    \n",
    "# Let us create sentiment dataframe for tweets using above function\n",
    "sentiments_df = sentiment_scores(cleaned_tweets_df,'text')\n",
    "sentiments_df.tail(10)"
   ]
  },
  {
   "cell_type": "code",
   "execution_count": 39,
   "id": "15da6f2b",
   "metadata": {},
   "outputs": [],
   "source": [
    "# Concatenate ALL tweet data with sentiment scores into a new dataframe\n",
    "tweet_sentiments_df = pd.concat([tweets_country_df,sentiments_df],axis=1)\n",
    "cleaned_tweets_df.rename(columns = {'text':'cleaned_text'}, inplace = True)\n",
    "tweet_sentiments_df = pd.concat([tweet_sentiments_df,cleaned_tweets_df],axis=1)"
   ]
  },
  {
   "cell_type": "code",
   "execution_count": 40,
   "id": "3e7ff946",
   "metadata": {},
   "outputs": [
    {
     "data": {
      "text/html": [
       "<div>\n",
       "<style scoped>\n",
       "    .dataframe tbody tr th:only-of-type {\n",
       "        vertical-align: middle;\n",
       "    }\n",
       "\n",
       "    .dataframe tbody tr th {\n",
       "        vertical-align: top;\n",
       "    }\n",
       "\n",
       "    .dataframe thead th {\n",
       "        text-align: right;\n",
       "    }\n",
       "</style>\n",
       "<table border=\"1\" class=\"dataframe\">\n",
       "  <thead>\n",
       "    <tr style=\"text-align: right;\">\n",
       "      <th></th>\n",
       "      <th>tweetid</th>\n",
       "      <th>username</th>\n",
       "      <th>retweetcount</th>\n",
       "      <th>favorite_count</th>\n",
       "      <th>tweetcreatedts</th>\n",
       "      <th>text</th>\n",
       "      <th>country</th>\n",
       "      <th>neg</th>\n",
       "      <th>neu</th>\n",
       "      <th>pos</th>\n",
       "      <th>compound</th>\n",
       "      <th>cleaned_text</th>\n",
       "    </tr>\n",
       "  </thead>\n",
       "  <tbody>\n",
       "    <tr>\n",
       "      <th>0</th>\n",
       "      <td>1496738679997542403</td>\n",
       "      <td>EuromaidanPR</td>\n",
       "      <td>28</td>\n",
       "      <td>109</td>\n",
       "      <td>2022-02-24</td>\n",
       "      <td>The world must act immediately.- #Ukraine is a...</td>\n",
       "      <td>ukraine</td>\n",
       "      <td>0.226</td>\n",
       "      <td>0.730</td>\n",
       "      <td>0.044</td>\n",
       "      <td>-0.8173</td>\n",
       "      <td>the world must act immediately    is at stake ...</td>\n",
       "    </tr>\n",
       "    <tr>\n",
       "      <th>1</th>\n",
       "      <td>1496738680203055109</td>\n",
       "      <td>bilalasghar778</td>\n",
       "      <td>29</td>\n",
       "      <td>0</td>\n",
       "      <td>2022-02-24</td>\n",
       "      <td>The historic moment when the PM of Pakistan Mr...</td>\n",
       "      <td>pakistan</td>\n",
       "      <td>0.000</td>\n",
       "      <td>0.932</td>\n",
       "      <td>0.068</td>\n",
       "      <td>0.4019</td>\n",
       "      <td>the historic moment when the pm of pakistan mr...</td>\n",
       "    </tr>\n",
       "    <tr>\n",
       "      <th>2</th>\n",
       "      <td>1496738689451380736</td>\n",
       "      <td>gon_deedee</td>\n",
       "      <td>2</td>\n",
       "      <td>0</td>\n",
       "      <td>2022-02-24</td>\n",
       "      <td>Real #Americans stand #UnitedWithBiden AGAINST...</td>\n",
       "      <td>usa</td>\n",
       "      <td>0.000</td>\n",
       "      <td>1.000</td>\n",
       "      <td>0.000</td>\n",
       "      <td>0.0000</td>\n",
       "      <td>real  stand  against   against</td>\n",
       "    </tr>\n",
       "    <tr>\n",
       "      <th>3</th>\n",
       "      <td>1496738693675028484</td>\n",
       "      <td>zohrathought</td>\n",
       "      <td>8</td>\n",
       "      <td>0</td>\n",
       "      <td>2022-02-24</td>\n",
       "      <td>Voices from #Russia: \"Waking up to the news, m...</td>\n",
       "      <td>nz</td>\n",
       "      <td>0.318</td>\n",
       "      <td>0.682</td>\n",
       "      <td>0.000</td>\n",
       "      <td>-0.9562</td>\n",
       "      <td>voices from    waking up to the news  many rus...</td>\n",
       "    </tr>\n",
       "    <tr>\n",
       "      <th>4</th>\n",
       "      <td>1496738694463643652</td>\n",
       "      <td>tyfacts12</td>\n",
       "      <td>119</td>\n",
       "      <td>0</td>\n",
       "      <td>2022-02-24</td>\n",
       "      <td>BREAKING: Over 800 Ukrainian military casualti...</td>\n",
       "      <td>usa</td>\n",
       "      <td>0.000</td>\n",
       "      <td>1.000</td>\n",
       "      <td>0.000</td>\n",
       "      <td>0.0000</td>\n",
       "      <td>breaking  over   ukrainian military casualties...</td>\n",
       "    </tr>\n",
       "    <tr>\n",
       "      <th>5</th>\n",
       "      <td>1496738695223083012</td>\n",
       "      <td>MHW_PR</td>\n",
       "      <td>0</td>\n",
       "      <td>0</td>\n",
       "      <td>2022-02-24</td>\n",
       "      <td>Despite all the threats and warnings, the trag...</td>\n",
       "      <td>uk</td>\n",
       "      <td>0.263</td>\n",
       "      <td>0.682</td>\n",
       "      <td>0.055</td>\n",
       "      <td>-0.8346</td>\n",
       "      <td>despite all the threats and warnings  the trag...</td>\n",
       "    </tr>\n",
       "    <tr>\n",
       "      <th>6</th>\n",
       "      <td>1496738695554158598</td>\n",
       "      <td>vikram29121971</td>\n",
       "      <td>82</td>\n",
       "      <td>0</td>\n",
       "      <td>2022-02-24</td>\n",
       "      <td>Joe Biden preparing himself to go to War with ...</td>\n",
       "      <td>india</td>\n",
       "      <td>0.415</td>\n",
       "      <td>0.585</td>\n",
       "      <td>0.000</td>\n",
       "      <td>-0.8316</td>\n",
       "      <td>joe biden preparing himself to go to war with ...</td>\n",
       "    </tr>\n",
       "    <tr>\n",
       "      <th>7</th>\n",
       "      <td>1496738696028119043</td>\n",
       "      <td>highasapple</td>\n",
       "      <td>146</td>\n",
       "      <td>0</td>\n",
       "      <td>2022-02-24</td>\n",
       "      <td>RT, SPREAD AND SHARE, YOU CAN HELP UKRAINE #Uk...</td>\n",
       "      <td>poland</td>\n",
       "      <td>0.000</td>\n",
       "      <td>0.550</td>\n",
       "      <td>0.450</td>\n",
       "      <td>0.5994</td>\n",
       "      <td>rt  spread and share  you can help ukraine</td>\n",
       "    </tr>\n",
       "    <tr>\n",
       "      <th>8</th>\n",
       "      <td>1496738696955060225</td>\n",
       "      <td>asitmitt</td>\n",
       "      <td>1268</td>\n",
       "      <td>0</td>\n",
       "      <td>2022-02-24</td>\n",
       "      <td>I strongly condemn #Russia’s reckless attack o...</td>\n",
       "      <td>india</td>\n",
       "      <td>0.374</td>\n",
       "      <td>0.542</td>\n",
       "      <td>0.084</td>\n",
       "      <td>-0.9260</td>\n",
       "      <td>i strongly condemn  s reckless attack on   whi...</td>\n",
       "    </tr>\n",
       "    <tr>\n",
       "      <th>9</th>\n",
       "      <td>1496738697475145728</td>\n",
       "      <td>minchinswitchy</td>\n",
       "      <td>141</td>\n",
       "      <td>0</td>\n",
       "      <td>2022-02-24</td>\n",
       "      <td>BREAKING: Ukrainian journalist  Ian Pound was ...</td>\n",
       "      <td>australia</td>\n",
       "      <td>0.169</td>\n",
       "      <td>0.732</td>\n",
       "      <td>0.099</td>\n",
       "      <td>-0.3612</td>\n",
       "      <td>breaking  ukrainian journalist  ian pound was ...</td>\n",
       "    </tr>\n",
       "  </tbody>\n",
       "</table>\n",
       "</div>"
      ],
      "text/plain": [
       "               tweetid        username  retweetcount  favorite_count  \\\n",
       "0  1496738679997542403    EuromaidanPR            28             109   \n",
       "1  1496738680203055109  bilalasghar778            29               0   \n",
       "2  1496738689451380736      gon_deedee             2               0   \n",
       "3  1496738693675028484    zohrathought             8               0   \n",
       "4  1496738694463643652       tyfacts12           119               0   \n",
       "5  1496738695223083012          MHW_PR             0               0   \n",
       "6  1496738695554158598  vikram29121971            82               0   \n",
       "7  1496738696028119043     highasapple           146               0   \n",
       "8  1496738696955060225        asitmitt          1268               0   \n",
       "9  1496738697475145728  minchinswitchy           141               0   \n",
       "\n",
       "  tweetcreatedts                                               text  \\\n",
       "0     2022-02-24  The world must act immediately.- #Ukraine is a...   \n",
       "1     2022-02-24  The historic moment when the PM of Pakistan Mr...   \n",
       "2     2022-02-24  Real #Americans stand #UnitedWithBiden AGAINST...   \n",
       "3     2022-02-24  Voices from #Russia: \"Waking up to the news, m...   \n",
       "4     2022-02-24  BREAKING: Over 800 Ukrainian military casualti...   \n",
       "5     2022-02-24  Despite all the threats and warnings, the trag...   \n",
       "6     2022-02-24  Joe Biden preparing himself to go to War with ...   \n",
       "7     2022-02-24  RT, SPREAD AND SHARE, YOU CAN HELP UKRAINE #Uk...   \n",
       "8     2022-02-24  I strongly condemn #Russia’s reckless attack o...   \n",
       "9     2022-02-24  BREAKING: Ukrainian journalist  Ian Pound was ...   \n",
       "\n",
       "     country    neg    neu    pos  compound  \\\n",
       "0    ukraine  0.226  0.730  0.044   -0.8173   \n",
       "1   pakistan  0.000  0.932  0.068    0.4019   \n",
       "2        usa  0.000  1.000  0.000    0.0000   \n",
       "3         nz  0.318  0.682  0.000   -0.9562   \n",
       "4        usa  0.000  1.000  0.000    0.0000   \n",
       "5         uk  0.263  0.682  0.055   -0.8346   \n",
       "6      india  0.415  0.585  0.000   -0.8316   \n",
       "7     poland  0.000  0.550  0.450    0.5994   \n",
       "8      india  0.374  0.542  0.084   -0.9260   \n",
       "9  australia  0.169  0.732  0.099   -0.3612   \n",
       "\n",
       "                                        cleaned_text  \n",
       "0  the world must act immediately    is at stake ...  \n",
       "1  the historic moment when the pm of pakistan mr...  \n",
       "2                  real  stand  against   against     \n",
       "3  voices from    waking up to the news  many rus...  \n",
       "4  breaking  over   ukrainian military casualties...  \n",
       "5  despite all the threats and warnings  the trag...  \n",
       "6  joe biden preparing himself to go to war with ...  \n",
       "7      rt  spread and share  you can help ukraine     \n",
       "8  i strongly condemn  s reckless attack on   whi...  \n",
       "9  breaking  ukrainian journalist  ian pound was ...  "
      ]
     },
     "execution_count": 40,
     "metadata": {},
     "output_type": "execute_result"
    }
   ],
   "source": [
    "#tweet_sentiments_df = pd.concat([cleaned_tweets_df.reset_index(drop=True),sentiments_df],axis=1)\n",
    "tweet_sentiments_df.head(10)"
   ]
  },
  {
   "cell_type": "code",
   "execution_count": 41,
   "id": "99ff8787",
   "metadata": {},
   "outputs": [
    {
     "data": {
      "text/html": [
       "<div>\n",
       "<style scoped>\n",
       "    .dataframe tbody tr th:only-of-type {\n",
       "        vertical-align: middle;\n",
       "    }\n",
       "\n",
       "    .dataframe tbody tr th {\n",
       "        vertical-align: top;\n",
       "    }\n",
       "\n",
       "    .dataframe thead th {\n",
       "        text-align: right;\n",
       "    }\n",
       "</style>\n",
       "<table border=\"1\" class=\"dataframe\">\n",
       "  <thead>\n",
       "    <tr style=\"text-align: right;\">\n",
       "      <th></th>\n",
       "      <th>tweetid</th>\n",
       "      <th>username</th>\n",
       "      <th>retweetcount</th>\n",
       "      <th>favorite_count</th>\n",
       "      <th>tweetcreatedts</th>\n",
       "      <th>text</th>\n",
       "      <th>country</th>\n",
       "      <th>neg</th>\n",
       "      <th>neu</th>\n",
       "      <th>pos</th>\n",
       "      <th>compound</th>\n",
       "      <th>cleaned_text</th>\n",
       "      <th>sentiment</th>\n",
       "    </tr>\n",
       "  </thead>\n",
       "  <tbody>\n",
       "    <tr>\n",
       "      <th>0</th>\n",
       "      <td>1496738679997542403</td>\n",
       "      <td>EuromaidanPR</td>\n",
       "      <td>28</td>\n",
       "      <td>109</td>\n",
       "      <td>2022-02-24</td>\n",
       "      <td>The world must act immediately.- #Ukraine is a...</td>\n",
       "      <td>ukraine</td>\n",
       "      <td>0.226</td>\n",
       "      <td>0.730</td>\n",
       "      <td>0.044</td>\n",
       "      <td>-0.8173</td>\n",
       "      <td>the world must act immediately    is at stake ...</td>\n",
       "      <td>negative</td>\n",
       "    </tr>\n",
       "    <tr>\n",
       "      <th>1</th>\n",
       "      <td>1496738680203055109</td>\n",
       "      <td>bilalasghar778</td>\n",
       "      <td>29</td>\n",
       "      <td>0</td>\n",
       "      <td>2022-02-24</td>\n",
       "      <td>The historic moment when the PM of Pakistan Mr...</td>\n",
       "      <td>pakistan</td>\n",
       "      <td>0.000</td>\n",
       "      <td>0.932</td>\n",
       "      <td>0.068</td>\n",
       "      <td>0.4019</td>\n",
       "      <td>the historic moment when the pm of pakistan mr...</td>\n",
       "      <td>positive</td>\n",
       "    </tr>\n",
       "    <tr>\n",
       "      <th>2</th>\n",
       "      <td>1496738689451380736</td>\n",
       "      <td>gon_deedee</td>\n",
       "      <td>2</td>\n",
       "      <td>0</td>\n",
       "      <td>2022-02-24</td>\n",
       "      <td>Real #Americans stand #UnitedWithBiden AGAINST...</td>\n",
       "      <td>usa</td>\n",
       "      <td>0.000</td>\n",
       "      <td>1.000</td>\n",
       "      <td>0.000</td>\n",
       "      <td>0.0000</td>\n",
       "      <td>real  stand  against   against</td>\n",
       "      <td>neutral</td>\n",
       "    </tr>\n",
       "    <tr>\n",
       "      <th>3</th>\n",
       "      <td>1496738693675028484</td>\n",
       "      <td>zohrathought</td>\n",
       "      <td>8</td>\n",
       "      <td>0</td>\n",
       "      <td>2022-02-24</td>\n",
       "      <td>Voices from #Russia: \"Waking up to the news, m...</td>\n",
       "      <td>nz</td>\n",
       "      <td>0.318</td>\n",
       "      <td>0.682</td>\n",
       "      <td>0.000</td>\n",
       "      <td>-0.9562</td>\n",
       "      <td>voices from    waking up to the news  many rus...</td>\n",
       "      <td>negative</td>\n",
       "    </tr>\n",
       "    <tr>\n",
       "      <th>4</th>\n",
       "      <td>1496738694463643652</td>\n",
       "      <td>tyfacts12</td>\n",
       "      <td>119</td>\n",
       "      <td>0</td>\n",
       "      <td>2022-02-24</td>\n",
       "      <td>BREAKING: Over 800 Ukrainian military casualti...</td>\n",
       "      <td>usa</td>\n",
       "      <td>0.000</td>\n",
       "      <td>1.000</td>\n",
       "      <td>0.000</td>\n",
       "      <td>0.0000</td>\n",
       "      <td>breaking  over   ukrainian military casualties...</td>\n",
       "      <td>neutral</td>\n",
       "    </tr>\n",
       "  </tbody>\n",
       "</table>\n",
       "</div>"
      ],
      "text/plain": [
       "               tweetid        username  retweetcount  favorite_count  \\\n",
       "0  1496738679997542403    EuromaidanPR            28             109   \n",
       "1  1496738680203055109  bilalasghar778            29               0   \n",
       "2  1496738689451380736      gon_deedee             2               0   \n",
       "3  1496738693675028484    zohrathought             8               0   \n",
       "4  1496738694463643652       tyfacts12           119               0   \n",
       "\n",
       "  tweetcreatedts                                               text   country  \\\n",
       "0     2022-02-24  The world must act immediately.- #Ukraine is a...   ukraine   \n",
       "1     2022-02-24  The historic moment when the PM of Pakistan Mr...  pakistan   \n",
       "2     2022-02-24  Real #Americans stand #UnitedWithBiden AGAINST...       usa   \n",
       "3     2022-02-24  Voices from #Russia: \"Waking up to the news, m...        nz   \n",
       "4     2022-02-24  BREAKING: Over 800 Ukrainian military casualti...       usa   \n",
       "\n",
       "     neg    neu    pos  compound  \\\n",
       "0  0.226  0.730  0.044   -0.8173   \n",
       "1  0.000  0.932  0.068    0.4019   \n",
       "2  0.000  1.000  0.000    0.0000   \n",
       "3  0.318  0.682  0.000   -0.9562   \n",
       "4  0.000  1.000  0.000    0.0000   \n",
       "\n",
       "                                        cleaned_text sentiment  \n",
       "0  the world must act immediately    is at stake ...  negative  \n",
       "1  the historic moment when the pm of pakistan mr...  positive  \n",
       "2                  real  stand  against   against      neutral  \n",
       "3  voices from    waking up to the news  many rus...  negative  \n",
       "4  breaking  over   ukrainian military casualties...   neutral  "
      ]
     },
     "execution_count": 41,
     "metadata": {},
     "output_type": "execute_result"
    }
   ],
   "source": [
    "# convert scores into positive, neutral, negative \n",
    "\n",
    "# create a list of conditions\n",
    "conditions = [\n",
    "              (tweet_sentiments_df['compound'] < 0),\n",
    "              (tweet_sentiments_df['compound'] == 0),\n",
    "              (tweet_sentiments_df['compound'] > 0)\n",
    "              ]\n",
    "\n",
    "# create a list of values corresponding with each condition\n",
    "values = ['negative','neutral','positive']\n",
    "\n",
    "\n",
    "tweet_sentiments_df['sentiment'] = np.select(conditions, values)\n",
    "tweet_sentiments_df.head()"
   ]
  },
  {
   "cell_type": "code",
   "execution_count": 42,
   "id": "e7b27403",
   "metadata": {},
   "outputs": [
    {
     "data": {
      "text/plain": [
       "negative    70316\n",
       "positive    63842\n",
       "neutral     30248\n",
       "Name: sentiment, dtype: int64"
      ]
     },
     "execution_count": 42,
     "metadata": {},
     "output_type": "execute_result"
    }
   ],
   "source": [
    "tweet_sentiments_df['sentiment'].value_counts()"
   ]
  },
  {
   "cell_type": "markdown",
   "id": "6065a662",
   "metadata": {},
   "source": [
    "### Save the  cleaned_tweets_df dataframe as sqlite data set"
   ]
  },
  {
   "cell_type": "code",
   "execution_count": 46,
   "id": "3f0aaea2",
   "metadata": {},
   "outputs": [],
   "source": [
    "import sqlite3\n",
    "conn = sqlite3.connect('resources/tweets_data.sqlite')\n",
    "tweet_sentiments_df.to_sql(name='tweets_data', con=conn, if_exists='replace', index=False)\n",
    "conn.close()"
   ]
  },
  {
   "cell_type": "markdown",
   "id": "5316120d",
   "metadata": {},
   "source": [
    "### Save the cleaned_tweets_df dataframe as csv data set"
   ]
  },
  {
   "cell_type": "code",
   "execution_count": 47,
   "id": "28be252d",
   "metadata": {},
   "outputs": [],
   "source": [
    "tweet_sentiments_df.to_csv('resources/tweets_data.csv', index=False)"
   ]
  },
  {
   "cell_type": "markdown",
   "id": "f72a758d",
   "metadata": {},
   "source": [
    "# Save the dataframe as a json file for website"
   ]
  },
  {
   "cell_type": "code",
   "execution_count": 49,
   "id": "81015958",
   "metadata": {},
   "outputs": [],
   "source": [
    "tweet_sentiments_df.to_json('resources/tweets_data.json')"
   ]
  },
  {
   "cell_type": "code",
   "execution_count": null,
   "id": "86f14b22",
   "metadata": {},
   "outputs": [],
   "source": []
  }
 ],
 "metadata": {
  "kernelspec": {
   "display_name": "Python 3",
   "language": "python",
   "name": "python3"
  },
  "language_info": {
   "codemirror_mode": {
    "name": "ipython",
    "version": 3
   },
   "file_extension": ".py",
   "mimetype": "text/x-python",
   "name": "python",
   "nbconvert_exporter": "python",
   "pygments_lexer": "ipython3",
   "version": "3.7.10"
  }
 },
 "nbformat": 4,
 "nbformat_minor": 5
}
