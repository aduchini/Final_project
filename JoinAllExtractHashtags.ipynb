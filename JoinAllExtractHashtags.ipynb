{
 "cells": [
  {
   "cell_type": "markdown",
   "metadata": {},
   "source": [
    "# Join datasets to get hashtags and total"
   ]
  },
  {
   "cell_type": "code",
   "execution_count": 1,
   "metadata": {},
   "outputs": [],
   "source": [
    "import pandas as pd\n",
    "import glob"
   ]
  },
  {
   "cell_type": "code",
   "execution_count": 6,
   "metadata": {},
   "outputs": [
    {
     "name": "stderr",
     "output_type": "stream",
     "text": [
      "/Users/floramatos/opt/anaconda3/envs/mlenv/lib/python3.7/site-packages/IPython/core/interactiveshell.py:3457: DtypeWarning: Columns (15) have mixed types.Specify dtype option on import or set low_memory=False.\n",
      "  exec(code_obj, self.user_global_ns, self.user_ns)\n"
     ]
    }
   ],
   "source": [
    "path = r'/resources/Kaggle_raw'\n",
    "all_files = glob.glob(path + '/*.csv')\n",
    "\n",
    "consolidated = []\n",
    "\n",
    "for file in all_files:\n",
    "    df = pd.read_csv(file, index_col = None)\n",
    "    consolidated.append(df)\n",
    "\n",
    "all_consolidated = pd.concat(consolidated, axis=0, ignore_index=True)"
   ]
  },
  {
   "cell_type": "code",
   "execution_count": 7,
   "metadata": {},
   "outputs": [
    {
     "data": {
      "text/html": [
       "<div>\n",
       "<style scoped>\n",
       "    .dataframe tbody tr th:only-of-type {\n",
       "        vertical-align: middle;\n",
       "    }\n",
       "\n",
       "    .dataframe tbody tr th {\n",
       "        vertical-align: top;\n",
       "    }\n",
       "\n",
       "    .dataframe thead th {\n",
       "        text-align: right;\n",
       "    }\n",
       "</style>\n",
       "<table border=\"1\" class=\"dataframe\">\n",
       "  <thead>\n",
       "    <tr style=\"text-align: right;\">\n",
       "      <th></th>\n",
       "      <th>Unnamed: 0</th>\n",
       "      <th>userid</th>\n",
       "      <th>username</th>\n",
       "      <th>acctdesc</th>\n",
       "      <th>location</th>\n",
       "      <th>following</th>\n",
       "      <th>followers</th>\n",
       "      <th>totaltweets</th>\n",
       "      <th>usercreatedts</th>\n",
       "      <th>tweetid</th>\n",
       "      <th>tweetcreatedts</th>\n",
       "      <th>retweetcount</th>\n",
       "      <th>text</th>\n",
       "      <th>hashtags</th>\n",
       "      <th>language</th>\n",
       "      <th>coordinates</th>\n",
       "      <th>favorite_count</th>\n",
       "      <th>extractedts</th>\n",
       "    </tr>\n",
       "  </thead>\n",
       "  <tbody>\n",
       "    <tr>\n",
       "      <th>9777460</th>\n",
       "      <td>5428023</td>\n",
       "      <td>220943524</td>\n",
       "      <td>PelitaPeraltaUy</td>\n",
       "      <td>Appreciating the gift of life.</td>\n",
       "      <td>Manila, Philippines</td>\n",
       "      <td>340</td>\n",
       "      <td>484</td>\n",
       "      <td>12537</td>\n",
       "      <td>2010-11-29 08:59:59.000000</td>\n",
       "      <td>1502434179514273795</td>\n",
       "      <td>2022-03-11 23:59:56</td>\n",
       "      <td>0</td>\n",
       "      <td>And now, Israel is in the Picture 🙏\\n\\nTo unde...</td>\n",
       "      <td>[{'text': 'RussiaUkraineWar', 'indices': [254,...</td>\n",
       "      <td>en</td>\n",
       "      <td>NaN</td>\n",
       "      <td>0</td>\n",
       "      <td>2022-03-12 00:26:57.922667</td>\n",
       "    </tr>\n",
       "    <tr>\n",
       "      <th>9777461</th>\n",
       "      <td>5428024</td>\n",
       "      <td>1383889250576265217</td>\n",
       "      <td>Lazarus42041358</td>\n",
       "      <td>Don’t be afraid to speak your mind. No one car...</td>\n",
       "      <td>World Wide</td>\n",
       "      <td>5</td>\n",
       "      <td>0</td>\n",
       "      <td>47</td>\n",
       "      <td>2021-04-18 21:05:04.000000</td>\n",
       "      <td>1502434184433836036</td>\n",
       "      <td>2022-03-11 23:59:58</td>\n",
       "      <td>0</td>\n",
       "      <td>Imagine a world without #Putin …</td>\n",
       "      <td>[{'text': 'Putin', 'indices': [24, 30]}]</td>\n",
       "      <td>en</td>\n",
       "      <td>NaN</td>\n",
       "      <td>0</td>\n",
       "      <td>2022-03-12 00:26:57.914723</td>\n",
       "    </tr>\n",
       "  </tbody>\n",
       "</table>\n",
       "</div>"
      ],
      "text/plain": [
       "         Unnamed: 0               userid         username  \\\n",
       "9777460     5428023            220943524  PelitaPeraltaUy   \n",
       "9777461     5428024  1383889250576265217  Lazarus42041358   \n",
       "\n",
       "                                                  acctdesc  \\\n",
       "9777460                     Appreciating the gift of life.   \n",
       "9777461  Don’t be afraid to speak your mind. No one car...   \n",
       "\n",
       "                    location  following  followers  totaltweets  \\\n",
       "9777460  Manila, Philippines        340        484        12537   \n",
       "9777461           World Wide          5          0           47   \n",
       "\n",
       "                      usercreatedts              tweetid       tweetcreatedts  \\\n",
       "9777460  2010-11-29 08:59:59.000000  1502434179514273795  2022-03-11 23:59:56   \n",
       "9777461  2021-04-18 21:05:04.000000  1502434184433836036  2022-03-11 23:59:58   \n",
       "\n",
       "         retweetcount                                               text  \\\n",
       "9777460             0  And now, Israel is in the Picture 🙏\\n\\nTo unde...   \n",
       "9777461             0                   Imagine a world without #Putin …   \n",
       "\n",
       "                                                  hashtags language  \\\n",
       "9777460  [{'text': 'RussiaUkraineWar', 'indices': [254,...       en   \n",
       "9777461           [{'text': 'Putin', 'indices': [24, 30]}]       en   \n",
       "\n",
       "        coordinates  favorite_count                 extractedts  \n",
       "9777460         NaN               0  2022-03-12 00:26:57.922667  \n",
       "9777461         NaN               0  2022-03-12 00:26:57.914723  "
      ]
     },
     "execution_count": 7,
     "metadata": {},
     "output_type": "execute_result"
    }
   ],
   "source": [
    "all_consolidated.tail(2)"
   ]
  },
  {
   "cell_type": "code",
   "execution_count": 8,
   "metadata": {},
   "outputs": [
    {
     "data": {
      "text/plain": [
       "2022-03-17 20:23:25.902488    2\n",
       "2022-03-12 10:14:12.737785    2\n",
       "2022-03-10 11:07:09.295223    2\n",
       "2022-03-17 18:53:08.316068    2\n",
       "2022-03-10 11:07:06.796285    2\n",
       "                             ..\n",
       "2022-03-15 20:04:21.442799    1\n",
       "2022-03-15 20:04:21.410325    1\n",
       "2022-03-15 20:04:21.377762    1\n",
       "2022-03-15 20:06:56.934833    1\n",
       "2022-03-12 00:26:57.914723    1\n",
       "Name: extractedts, Length: 9777456, dtype: int64"
      ]
     },
     "execution_count": 8,
     "metadata": {},
     "output_type": "execute_result"
    }
   ],
   "source": [
    "all_consolidated['extractedts'].value_counts()"
   ]
  },
  {
   "cell_type": "code",
   "execution_count": 9,
   "metadata": {},
   "outputs": [
    {
     "data": {
      "text/plain": [
       "9777462"
      ]
     },
     "execution_count": 9,
     "metadata": {},
     "output_type": "execute_result"
    }
   ],
   "source": [
    "len(all_consolidated)"
   ]
  },
  {
   "cell_type": "code",
   "execution_count": 10,
   "metadata": {},
   "outputs": [
    {
     "data": {
      "text/plain": [
       "6477234"
      ]
     },
     "execution_count": 10,
     "metadata": {},
     "output_type": "execute_result"
    }
   ],
   "source": [
    "en_tweets_df = all_consolidated[all_consolidated['language']=='en']\n",
    "len(en_tweets_df)"
   ]
  },
  {
   "cell_type": "code",
   "execution_count": 17,
   "metadata": {},
   "outputs": [
    {
     "data": {
      "text/plain": [
       "9777450             [{'text': 'Putin', 'indices': [43, 49]}]\n",
       "9777451         [{'text': 'Donbass', 'indices': [106, 114]}]\n",
       "9777455    [{'text': 'Ukraine', 'indices': [15, 23]}, {'t...\n",
       "9777460    [{'text': 'RussiaUkraineWar', 'indices': [254,...\n",
       "9777461             [{'text': 'Putin', 'indices': [24, 30]}]\n",
       "Name: hashtags, dtype: object"
      ]
     },
     "execution_count": 17,
     "metadata": {},
     "output_type": "execute_result"
    }
   ],
   "source": [
    "hashtags = en_tweets_df[en_tweets_df['hashtags'] != \"\"]\n",
    "hashtags = hashtags[hashtags['hashtags'] != \"[]\"]\n",
    "hashtags = hashtags['hashtags']\n",
    "hashtags.tail()"
   ]
  },
  {
   "cell_type": "code",
   "execution_count": 18,
   "metadata": {},
   "outputs": [
    {
     "data": {
      "text/plain": [
       "5157766"
      ]
     },
     "execution_count": 18,
     "metadata": {},
     "output_type": "execute_result"
    }
   ],
   "source": [
    "len(hashtags)"
   ]
  },
  {
   "cell_type": "code",
   "execution_count": 19,
   "metadata": {},
   "outputs": [],
   "source": [
    "hashtags.to_csv('/resources/dataset/hashtags.csv', index=False)"
   ]
  }
 ],
 "metadata": {
  "interpreter": {
   "hash": "62fc6122107c95ddcaaa58529fe7fd3e7bc1a1ab022c4ef4936ed509535ca9a8"
  },
  "kernelspec": {
   "display_name": "Python 3.7.11 ('mlenv')",
   "language": "python",
   "name": "python3"
  },
  "language_info": {
   "codemirror_mode": {
    "name": "ipython",
    "version": 3
   },
   "file_extension": ".py",
   "mimetype": "text/x-python",
   "name": "python",
   "nbconvert_exporter": "python",
   "pygments_lexer": "ipython3",
   "version": "3.7.11"
  },
  "orig_nbformat": 4
 },
 "nbformat": 4,
 "nbformat_minor": 2
}
