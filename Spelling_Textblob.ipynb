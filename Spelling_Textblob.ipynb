{
 "cells": [
  {
   "cell_type": "markdown",
   "id": "be0b1fae",
   "metadata": {},
   "source": [
    "# Spelling Correction wth TextBlob"
   ]
  },
  {
   "cell_type": "markdown",
   "id": "2b573068",
   "metadata": {},
   "source": [
    "TextBlob is a Python library for processing textual data. It provides a consistent API for diving into common natural language processing (NLP) tasks such as part-of-speech tagging, spelling correction noun phrase extraction, sentiment analysis to name a few.\n",
    "Typo errors are required to be corrected so that correct analysis of the data can be performed."
   ]
  },
  {
   "cell_type": "code",
   "execution_count": 2,
   "id": "fe6dd0c7",
   "metadata": {},
   "outputs": [],
   "source": [
    "#Including libraries\n",
    "import pandas as pd\n",
    "import numpy as np\n",
    "import re\n",
    "import csv \n",
    "from textblob import TextBlob"
   ]
  },
  {
   "cell_type": "code",
   "execution_count": 3,
   "id": "72b78c0f",
   "metadata": {},
   "outputs": [],
   "source": [
    "tweets_df = pd.read_csv('../Final_Project/Resources/data set/usa_tweets_clean.csv')"
   ]
  },
  {
   "cell_type": "code",
   "execution_count": 4,
   "id": "4b23dc25",
   "metadata": {},
   "outputs": [
    {
     "data": {
      "text/html": [
       "<div>\n",
       "<style scoped>\n",
       "    .dataframe tbody tr th:only-of-type {\n",
       "        vertical-align: middle;\n",
       "    }\n",
       "\n",
       "    .dataframe tbody tr th {\n",
       "        vertical-align: top;\n",
       "    }\n",
       "\n",
       "    .dataframe thead th {\n",
       "        text-align: right;\n",
       "    }\n",
       "</style>\n",
       "<table border=\"1\" class=\"dataframe\">\n",
       "  <thead>\n",
       "    <tr style=\"text-align: right;\">\n",
       "      <th></th>\n",
       "      <th>text</th>\n",
       "    </tr>\n",
       "  </thead>\n",
       "  <tbody>\n",
       "    <tr>\n",
       "      <th>0</th>\n",
       "      <td>breaking  over   ukrainian military casualties...</td>\n",
       "    </tr>\n",
       "    <tr>\n",
       "      <th>1</th>\n",
       "      <td>breaking  a cruise missile launched by the rus...</td>\n",
       "    </tr>\n",
       "    <tr>\n",
       "      <th>2</th>\n",
       "      <td>my heart goes out to the people in  ukaraine  ...</td>\n",
       "    </tr>\n",
       "    <tr>\n",
       "      <th>3</th>\n",
       "      <td>russia  ukraine       russian air defense uni...</td>\n",
       "    </tr>\n",
       "    <tr>\n",
       "      <th>4</th>\n",
       "      <td>one very concerning development is  russia has...</td>\n",
       "    </tr>\n",
       "  </tbody>\n",
       "</table>\n",
       "</div>"
      ],
      "text/plain": [
       "                                                text\n",
       "0  breaking  over   ukrainian military casualties...\n",
       "1  breaking  a cruise missile launched by the rus...\n",
       "2  my heart goes out to the people in  ukaraine  ...\n",
       "3   russia  ukraine       russian air defense uni...\n",
       "4  one very concerning development is  russia has..."
      ]
     },
     "execution_count": 4,
     "metadata": {},
     "output_type": "execute_result"
    }
   ],
   "source": [
    "tweets_df.head()"
   ]
  },
  {
   "cell_type": "code",
   "execution_count": 5,
   "id": "85158e35",
   "metadata": {},
   "outputs": [],
   "source": [
    "infile = '../Final_Project/Resources/data set/usa_tweets_clean.csv'"
   ]
  },
  {
   "cell_type": "code",
   "execution_count": 6,
   "id": "0a0681d0",
   "metadata": {},
   "outputs": [],
   "source": [
    "bloblist=list()"
   ]
  },
  {
   "cell_type": "code",
   "execution_count": null,
   "id": "21884c55",
   "metadata": {},
   "outputs": [],
   "source": [
    "tweets_df['text'][1:2501]"
   ]
  },
  {
   "cell_type": "code",
   "execution_count": null,
   "id": "90e0deff",
   "metadata": {},
   "outputs": [],
   "source": [
    "blob_doc = TextBlob(infile)\n",
    "correct_tweets = blob_doc.correct()\n",
    "print(correct_tweets)"
   ]
  },
  {
   "cell_type": "code",
   "execution_count": null,
   "id": "68beb6f9",
   "metadata": {},
   "outputs": [],
   "source": [
    "with open(infile, 'r') as csvfile:\n",
    "        rows = csv.reader(csvfile)\n",
    "for row in rows:\n",
    "        sentence = row[0]\n",
    "        blob = TextBlob(sentence)\n",
    "        print (sentence)\n",
    "        print (blob.sentiment.polarity, blob.sentiment.subjectivity)\n",
    "        rows.close()"
   ]
  },
  {
   "cell_type": "code",
   "execution_count": null,
   "id": "25310746",
   "metadata": {},
   "outputs": [],
   "source": []
  }
 ],
 "metadata": {
  "kernelspec": {
   "display_name": "mlenv",
   "language": "python",
   "name": "mlenv"
  },
  "language_info": {
   "codemirror_mode": {
    "name": "ipython",
    "version": 3
   },
   "file_extension": ".py",
   "mimetype": "text/x-python",
   "name": "python",
   "nbconvert_exporter": "python",
   "pygments_lexer": "ipython3",
   "version": "3.7.11"
  }
 },
 "nbformat": 4,
 "nbformat_minor": 5
}
