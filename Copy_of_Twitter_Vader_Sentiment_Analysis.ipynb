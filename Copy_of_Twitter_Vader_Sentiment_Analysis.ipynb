{
  "cells": [
    {
      "cell_type": "markdown",
      "id": "aa5cf387",
      "metadata": {
        "id": "aa5cf387"
      },
      "source": [
        "### About the Dataset\n",
        "#### Kaggle dataset : [Download The Dataset Here ](https://www.kaggle.com/bwandowando/ukraine-russian-crisis-twitter-dataset-1-2-m-rows/discussion/310030)\n",
        "\n",
        "#### Description\n",
        "This dataset contains 1.2M distinct tweets about the current ongoing Ukraine-Russia conflict.\n",
        "\n",
        "Implementation\n",
        "Two Jupyter notebooks running 24/7, executing every 15 mins monitoring hashtags pertaining to the ongoing Ukraine-Russia conflict. The dataset creator also implemented a simple \"hashtag crawler\" where the dataset creator crawled the top-most hashtags from an initial set of hashtags thus getting the other related hashtags at a given point in time."
      ]
    },
    {
      "cell_type": "code",
      "execution_count": 12,
      "id": "15e82527",
      "metadata": {
        "id": "15e82527"
      },
      "outputs": [],
      "source": [
        "import pandas as pd\n",
        "import numpy as np\n",
        "import re\n",
        "import matplotlib.pyplot as plt "
      ]
    },
    {
      "cell_type": "code",
      "execution_count": 4,
      "id": "0505ce11",
      "metadata": {
        "id": "0505ce11",
        "outputId": "687d66c0-89de-48aa-ee20-a1bf7228be9c"
      },
      "outputs": [
        {
          "name": "stderr",
          "output_type": "stream",
          "text": [
            "/Users/floramatos/opt/anaconda3/envs/PythonData/lib/python3.7/site-packages/IPython/core/interactiveshell.py:3166: DtypeWarning: Columns (15) have mixed types.Specify dtype option on import or set low_memory=False.\n",
            "  interactivity=interactivity, compiler=compiler, result=result)\n"
          ]
        },
        {
          "data": {
            "text/plain": [
              "(1229349, 18)"
            ]
          },
          "execution_count": 4,
          "metadata": {},
          "output_type": "execute_result"
        }
      ],
      "source": [
        "tweets_df = pd.read_csv('resources/dataset/UkraineCombinedTweetsDeduped20220227-131611.csv')\n",
        "tweets_df.shape"
      ]
    },
    {
      "cell_type": "code",
      "execution_count": 29,
      "id": "7e66f5e7",
      "metadata": {},
      "outputs": [
        {
          "data": {
            "text/plain": [
              "64"
            ]
          },
          "execution_count": 29,
          "metadata": {},
          "output_type": "execute_result"
        }
      ],
      "source": [
        "len(tweets_df['language'].unique())"
      ]
    },
    {
      "cell_type": "code",
      "execution_count": 30,
      "id": "1376c333",
      "metadata": {},
      "outputs": [
        {
          "data": {
            "image/png": "[encoded data removed]",
            "text/plain": [
              "<Figure size 432x288 with 1 Axes>"
            ]
          },
          "metadata": {
            "needs_background": "light"
          },
          "output_type": "display_data"
        }
      ],
      "source": [
        "language = tweets_df['language'].value_counts()\n",
        "language[0:10].sort_values().plot(kind='barh', title='Tweets Top 10 Language Distribution', colormap='Paired')\n",
        "plt.ylabel('Language codes')\n",
        "plt.xlabel('Count of tweets')\n",
        "plt.show()"
      ]
    },
    {
      "cell_type": "code",
      "execution_count": 31,
      "id": "72c8a470",
      "metadata": {
        "id": "72c8a470",
        "outputId": "6ab99165-3b3c-4732-b68c-693e34b3dbd3"
      },
      "outputs": [
        {
          "data": {
            "text/plain": [
              "723256"
            ]
          },
          "execution_count": 31,
          "metadata": {},
          "output_type": "execute_result"
        }
      ],
      "source": [
        "# total number of tweets in English laguage (relevant to this project)\n",
        "en_tweets_df = tweets_df[tweets_df['language']=='en']\n",
        "len(en_tweets_df)"
      ]
    },
    {
      "cell_type": "code",
      "execution_count": 36,
      "id": "291a9481",
      "metadata": {},
      "outputs": [
        {
          "data": {
            "text/plain": [
              "106918"
            ]
          },
          "execution_count": 36,
          "metadata": {},
          "output_type": "execute_result"
        }
      ],
      "source": [
        "len(en_tweets_df[\"location\"].unique())"
      ]
    },
    {
      "cell_type": "code",
      "execution_count": 37,
      "id": "5c979a43",
      "metadata": {},
      "outputs": [
        {
          "data": {
            "text/plain": [
              "United States       7160\n",
              "India               6407\n",
              "London, England     3112\n",
              "USA                 2788\n",
              "United Kingdom      2608\n",
              "Canada              2565\n",
              "New Delhi, India    2492\n",
              "London              2369\n",
              "California, USA     2337\n",
              "Lagos, Nigeria      2091\n",
              "Name: location, dtype: int64"
            ]
          },
          "execution_count": 37,
          "metadata": {},
          "output_type": "execute_result"
        }
      ],
      "source": [
        "location = en_tweets_df['location'].value_counts()\n",
        "location[0:10]"
      ]
    },
    {
      "cell_type": "code",
      "execution_count": 32,
      "id": "4cda104f",
      "metadata": {
        "id": "4cda104f"
      },
      "outputs": [],
      "source": [
        "# Drop rows where location is NaN or blank\n",
        "en_tweets_df['location'].isna().sum()\n",
        "en_tweets_df = en_tweets_df[en_tweets_df['location'].notna()]"
      ]
    },
    {
      "cell_type": "code",
      "execution_count": 33,
      "id": "b30932bf",
      "metadata": {
        "id": "b30932bf"
      },
      "outputs": [],
      "source": [
        "# create a csv of english tweets where location is not null\n",
        "en_tweets_df.to_csv('en_tweets.csv', index=False)"
      ]
    },
    {
      "cell_type": "code",
      "execution_count": 35,
      "id": "3ebb3dac",
      "metadata": {
        "id": "3ebb3dac",
        "outputId": "69c2cb3e-532f-4e9c-f0f5-6647ba628abd"
      },
      "outputs": [
        {
          "data": {
            "text/plain": [
              "(440489, 3)"
            ]
          },
          "execution_count": 35,
          "metadata": {},
          "output_type": "execute_result"
        }
      ],
      "source": [
        "# Drop all unnecessary columns: userid, username, acctdesc, usercreatedts, language, favorite_count, extractedts, coordinates\n",
        "en_tweets_df = en_tweets_df[['location','tweetcreatedts','text']]\n",
        "en_tweets_df.shape"
      ]
    },
    {
      "cell_type": "code",
      "execution_count": 38,
      "id": "65f10813",
      "metadata": {
        "id": "65f10813"
      },
      "outputs": [],
      "source": [
        "# Convert column \"location\" into country names\n",
        "def country_column(df):\n",
        "    # select countries to be included in the filtered df\n",
        "    country_list = [\"usa\",\"england\",\"united states\",\"united kingdom\",\"\" \"uk\", \"india\", \"canada\", \"nigeria\", \n",
        "    \"ukraine\", \"russia\", \"poland\", \"pakistan\", \"china\", \"finland\", \"romania\", \n",
        "    \"australia\", \"hungary\", \"new zealand\"]\n",
        "    # create an empty list to hold dataframes\n",
        "    df_list = []\n",
        "    # loop through the country list\n",
        "    for i in country_list:\n",
        "        # filter the the df by country\n",
        "        filtered_df = df[df['location'].str.contains(i, case=False, na = False)]\n",
        "        # assign label to country column \n",
        "        filtered_df['country'] = i\n",
        "        # append filtered df to df_list\n",
        "        df_list.append(filtered_df)\n",
        "        # join dfs in df_list\n",
        "        df = pd.concat(df_list)\n",
        "    return df"
      ]
    },
    {
      "cell_type": "code",
      "execution_count": 39,
      "id": "bcc5ef3c",
      "metadata": {
        "id": "bcc5ef3c",
        "outputId": "7f523223-d4ac-40a3-af1f-1c9230b2edbe"
      },
      "outputs": [
        {
          "data": {
            "text/html": [
              "<div>\n",
              "<style scoped>\n",
              "    .dataframe tbody tr th:only-of-type {\n",
              "        vertical-align: middle;\n",
              "    }\n",
              "\n",
              "    .dataframe tbody tr th {\n",
              "        vertical-align: top;\n",
              "    }\n",
              "\n",
              "    .dataframe thead th {\n",
              "        text-align: right;\n",
              "    }\n",
              "</style>\n",
              "<table border=\"1\" class=\"dataframe\">\n",
              "  <thead>\n",
              "    <tr style=\"text-align: right;\">\n",
              "      <th></th>\n",
              "      <th>location</th>\n",
              "      <th>tweetcreatedts</th>\n",
              "      <th>text</th>\n",
              "      <th>country</th>\n",
              "    </tr>\n",
              "  </thead>\n",
              "  <tbody>\n",
              "    <tr>\n",
              "      <th>60</th>\n",
              "      <td>Texas, USA</td>\n",
              "      <td>2022-02-24 06:48:06.000000</td>\n",
              "      <td>Real #Americans stand #UnitedWithBiden AGAINST...</td>\n",
              "      <td>usa</td>\n",
              "    </tr>\n",
              "    <tr>\n",
              "      <th>217</th>\n",
              "      <td>California, USA</td>\n",
              "      <td>2022-02-24 06:48:13.000000</td>\n",
              "      <td>SPREAD AND SHARE, YOU CAN HELP UKRAINE #Ukrain...</td>\n",
              "      <td>usa</td>\n",
              "    </tr>\n",
              "    <tr>\n",
              "      <th>244</th>\n",
              "      <td>Florida, USA</td>\n",
              "      <td>2022-02-24 06:48:15.000000</td>\n",
              "      <td>Cruise missile flying over Kherson, Ukraine. #...</td>\n",
              "      <td>usa</td>\n",
              "    </tr>\n",
              "    <tr>\n",
              "      <th>255</th>\n",
              "      <td>New York, USA</td>\n",
              "      <td>2022-02-24 06:48:15.000000</td>\n",
              "      <td>🇷🇺 Russian MLRS fire out of Belgorod toward Uk...</td>\n",
              "      <td>usa</td>\n",
              "    </tr>\n",
              "    <tr>\n",
              "      <th>265</th>\n",
              "      <td>USA</td>\n",
              "      <td>2022-02-24 06:48:16.000000</td>\n",
              "      <td>My heart goes out to the people in #Ukaraine, ...</td>\n",
              "      <td>usa</td>\n",
              "    </tr>\n",
              "  </tbody>\n",
              "</table>\n",
              "</div>"
            ],
            "text/plain": [
              "            location              tweetcreatedts  \\\n",
              "60        Texas, USA  2022-02-24 06:48:06.000000   \n",
              "217  California, USA  2022-02-24 06:48:13.000000   \n",
              "244     Florida, USA  2022-02-24 06:48:15.000000   \n",
              "255    New York, USA  2022-02-24 06:48:15.000000   \n",
              "265              USA  2022-02-24 06:48:16.000000   \n",
              "\n",
              "                                                  text country  \n",
              "60   Real #Americans stand #UnitedWithBiden AGAINST...     usa  \n",
              "217  SPREAD AND SHARE, YOU CAN HELP UKRAINE #Ukrain...     usa  \n",
              "244  Cruise missile flying over Kherson, Ukraine. #...     usa  \n",
              "255  🇷🇺 Russian MLRS fire out of Belgorod toward Uk...     usa  \n",
              "265  My heart goes out to the people in #Ukaraine, ...     usa  "
            ]
          },
          "execution_count": 39,
          "metadata": {},
          "output_type": "execute_result"
        }
      ],
      "source": [
        "# small code to supress warnings for the ease of viewing data\n",
        "import warnings\n",
        "warnings.filterwarnings(\"ignore\")\n",
        "# apply function to create column country\n",
        "country_wise_tweets = country_column(en_tweets_df)\n",
        "country_wise_tweets.head()"
      ]
    },
    {
      "cell_type": "code",
      "execution_count": 53,
      "id": "4a3e9d4f",
      "metadata": {},
      "outputs": [
        {
          "data": {
            "text/plain": [
              "usa               26756\n",
              "india               331\n",
              "canada               91\n",
              "uk                   80\n",
              "england              34\n",
              "ukraine              22\n",
              "nigeria              21\n",
              "united states        17\n",
              "australia             9\n",
              "russia                8\n",
              "united kingdom        6\n",
              "china                 4\n",
              "poland                4\n",
              "pakistan              3\n",
              "new zealand           1\n",
              "Name: country, dtype: int64"
            ]
          },
          "execution_count": 53,
          "metadata": {},
          "output_type": "execute_result"
        }
      ],
      "source": [
        "country_wise_tweets['country'].value_counts()"
      ]
    },
    {
      "cell_type": "code",
      "execution_count": 52,
      "id": "1499a175",
      "metadata": {
        "id": "1499a175"
      },
      "outputs": [
        {
          "data": {
            "image/png": "[encoded data removed]",
            "text/plain": [
              "<Figure size 432x288 with 1 Axes>"
            ]
          },
          "metadata": {
            "needs_background": "light"
          },
          "output_type": "display_data"
        }
      ],
      "source": [
        "country = country_wise_tweets['country'].value_counts()\n",
        "country[0:10].sort_values().plot(kind='barh', title='Tweets Top 10 Location Distribution', colormap='Paired')\n",
        "plt.ylabel('Country')\n",
        "plt.xlabel('Count of tweets')\n",
        "plt.show()"
      ]
    },
    {
      "cell_type": "code",
      "execution_count": null,
      "id": "7ec5b7bb",
      "metadata": {
        "id": "7ec5b7bb"
      },
      "outputs": [],
      "source": []
    },
    {
      "cell_type": "markdown",
      "id": "21071d32",
      "metadata": {
        "id": "21071d32"
      },
      "source": [
        "### Create and Clean a sample data set of English tweets from USA "
      ]
    },
    {
      "cell_type": "code",
      "execution_count": null,
      "id": "c1c4b1cb",
      "metadata": {
        "id": "c1c4b1cb"
      },
      "outputs": [],
      "source": []
    },
    {
      "cell_type": "markdown",
      "id": "6650fd83",
      "metadata": {
        "id": "6650fd83"
      },
      "source": [
        "### NOTE: (Add to final report)\n",
        "\n",
        "- News Tweets are about 1% of the entire dataset and hence assumed to not affect the analysis results. \n",
        "\n",
        "- Also, it is difficult to distinguish between the actual news tweets and private accounts sharing news."
      ]
    },
    {
      "cell_type": "markdown",
      "id": "43012942",
      "metadata": {
        "id": "43012942"
      },
      "source": [
        "### Data Cleaning\n",
        "\n",
        "- #### Lowering Case : \n",
        "\n",
        "The words, ‘Tweet’, ‘TWEET’, and ‘tweet’ all add the same value to a sentence.Lowering the case of all the words helps to reduce the dimensions by decreasing the size of the vocabulary."
      ]
    },
    {
      "cell_type": "markdown",
      "id": "1fc0009c",
      "metadata": {
        "id": "1fc0009c"
      },
      "source": [
        "#### Lower the case"
      ]
    },
    {
      "cell_type": "markdown",
      "id": "50b390bd",
      "metadata": {
        "id": "50b390bd"
      },
      "source": [
        "#### Remove mentions "
      ]
    },
    {
      "cell_type": "markdown",
      "id": "0b47c8cf",
      "metadata": {
        "id": "0b47c8cf"
      },
      "source": [
        "#### Remove hyperlinks"
      ]
    },
    {
      "cell_type": "markdown",
      "id": "30956b08",
      "metadata": {
        "id": "30956b08"
      },
      "source": [
        "#### Remove special characters"
      ]
    },
    {
      "cell_type": "markdown",
      "id": "0b83cd97",
      "metadata": {
        "id": "0b83cd97"
      },
      "source": [
        "#### Store cleaned tweets in csv"
      ]
    },
    {
      "cell_type": "markdown",
      "id": "8e5d693f",
      "metadata": {
        "id": "8e5d693f"
      },
      "source": [
        "#### Cleaned tweets df preview"
      ]
    },
    {
      "cell_type": "code",
      "execution_count": 40,
      "id": "93fbce0f",
      "metadata": {
        "id": "93fbce0f",
        "outputId": "fb2881c1-fdb7-4d12-f9b3-f62e3c98dce1"
      },
      "outputs": [
        {
          "data": {
            "text/html": [
              "<div>\n",
              "<style scoped>\n",
              "    .dataframe tbody tr th:only-of-type {\n",
              "        vertical-align: middle;\n",
              "    }\n",
              "\n",
              "    .dataframe tbody tr th {\n",
              "        vertical-align: top;\n",
              "    }\n",
              "\n",
              "    .dataframe thead th {\n",
              "        text-align: right;\n",
              "    }\n",
              "</style>\n",
              "<table border=\"1\" class=\"dataframe\">\n",
              "  <thead>\n",
              "    <tr style=\"text-align: right;\">\n",
              "      <th></th>\n",
              "      <th>text</th>\n",
              "    </tr>\n",
              "  </thead>\n",
              "  <tbody>\n",
              "    <tr>\n",
              "      <th>5</th>\n",
              "      <td>a cruise missile fired by the russian army fel...</td>\n",
              "    </tr>\n",
              "    <tr>\n",
              "      <th>13</th>\n",
              "      <td>spread and share  you can help ukraine</td>\n",
              "    </tr>\n",
              "    <tr>\n",
              "      <th>14</th>\n",
              "      <td>footage of the airport bombing in ivano franki...</td>\n",
              "    </tr>\n",
              "    <tr>\n",
              "      <th>16</th>\n",
              "      <td>now this is wrong  absolutely wrong  for      ...</td>\n",
              "    </tr>\n",
              "    <tr>\n",
              "      <th>18</th>\n",
              "      <td>rd mechanized brigade continues to suffer ...</td>\n",
              "    </tr>\n",
              "  </tbody>\n",
              "</table>\n",
              "</div>"
            ],
            "text/plain": [
              "                                                 text\n",
              "5   a cruise missile fired by the russian army fel...\n",
              "13          spread and share  you can help ukraine   \n",
              "14  footage of the airport bombing in ivano franki...\n",
              "16  now this is wrong  absolutely wrong  for      ...\n",
              "18      rd mechanized brigade continues to suffer ..."
            ]
          },
          "execution_count": 40,
          "metadata": {},
          "output_type": "execute_result"
        }
      ],
      "source": [
        "import re\n",
        "\n",
        "def text_cleaning(df, column_name):\n",
        "\n",
        "# convert all text to lower case\n",
        "    df = df[column_name].str.lower().to_frame() # returns a series object\n",
        "    df = df[column_name].str.replace(r\"@[A-Za-z0-9_]+\",\"\", regex = True).to_frame() # remove mentions\n",
        "    df = df[column_name].str.replace(r\"#[A-Za-z0-9_]+\",\"\", regex=True).to_frame() # remove hashtags\n",
        "    df = df[column_name].str.replace(r\"http\\S+|www.\\S+\",\"\",regex=True).to_frame() # remove hyperlinks\n",
        "    df = df[column_name].str.replace(r\"[^\\w\\s]|_|\\d+|[^a-zA-Z]\",\" \",regex=True).to_frame() # remove punctuations\n",
        "\n",
        "    return df    # convert the series object back into a dataframe\n",
        "\n",
        "# clean the tweets using function\n",
        "clean_tweets = text_cleaning(en_tweets_df, 'text')\n",
        "clean_tweets.head()"
      ]
    },
    {
      "cell_type": "code",
      "execution_count": null,
      "id": "cbf6e7b5",
      "metadata": {
        "id": "cbf6e7b5",
        "outputId": "c45c457b-3d9e-4eeb-dcd7-d57b56837b34"
      },
      "outputs": [
        {
          "data": {
            "text/plain": [
              "(440489, 1)"
            ]
          },
          "execution_count": 20,
          "metadata": {},
          "output_type": "execute_result"
        }
      ],
      "source": [
        "clean_tweets.shape"
      ]
    },
    {
      "cell_type": "code",
      "execution_count": 56,
      "id": "6da9f6c9",
      "metadata": {},
      "outputs": [
        {
          "data": {
            "image/png": "[encoded data removed]",
            "text/plain": [
              "<Figure size 432x288 with 1 Axes>"
            ]
          },
          "metadata": {
            "needs_background": "light"
          },
          "output_type": "display_data"
        }
      ],
      "source": [
        "# plot the length of the tweet\n",
        "clean_tweets['length']= clean_tweets['text'].apply(len)\n",
        "clean_tweets['length'].plot(kind='hist', title='Tweets Length Distribution', colormap='Paired')\n",
        "plt.xlabel('Length of tweets')\n",
        "plt.show()"
      ]
    },
    {
      "cell_type": "markdown",
      "id": "f9a12beb",
      "metadata": {
        "id": "f9a12beb"
      },
      "source": [
        "### Data Cleaning Complete\n"
      ]
    },
    {
      "cell_type": "markdown",
      "id": "f1e7e065",
      "metadata": {
        "id": "f1e7e065"
      },
      "source": [
        "### Next : Vader Sentiment Analysis"
      ]
    },
    {
      "cell_type": "markdown",
      "id": "cf015571",
      "metadata": {
        "id": "cf015571"
      },
      "source": [
        "VADER (Valence Aware Dictionary and sEntiment Reasoner) is a lexicon and rule-based sentiment analysis tool that is specifically attuned to sentiments expressed in social media. It is fully open-sourced under the [MIT License] "
      ]
    },
    {
      "cell_type": "code",
      "execution_count": null,
      "id": "4f70a6e8",
      "metadata": {
        "id": "4f70a6e8"
      },
      "outputs": [],
      "source": [
        "# import dependencies, modules required for sentiment analysis from vader package which is \n",
        "# previously installed in the python environment\n",
        "from vaderSentiment.vaderSentiment import SentimentIntensityAnalyzer\n",
        "analyzer = SentimentIntensityAnalyzer()"
      ]
    },
    {
      "cell_type": "code",
      "execution_count": null,
      "id": "309ac0ea",
      "metadata": {
        "id": "309ac0ea",
        "outputId": "88c86e22-2563-4d37-ffb4-d3f15ffc0d09"
      },
      "outputs": [
        {
          "data": {
            "text/html": [
              "<div>\n",
              "<style scoped>\n",
              "    .dataframe tbody tr th:only-of-type {\n",
              "        vertical-align: middle;\n",
              "    }\n",
              "\n",
              "    .dataframe tbody tr th {\n",
              "        vertical-align: top;\n",
              "    }\n",
              "\n",
              "    .dataframe thead th {\n",
              "        text-align: right;\n",
              "    }\n",
              "</style>\n",
              "<table border=\"1\" class=\"dataframe\">\n",
              "  <thead>\n",
              "    <tr style=\"text-align: right;\">\n",
              "      <th></th>\n",
              "      <th>neg</th>\n",
              "      <th>neu</th>\n",
              "      <th>pos</th>\n",
              "      <th>compound</th>\n",
              "    </tr>\n",
              "  </thead>\n",
              "  <tbody>\n",
              "    <tr>\n",
              "      <th>0</th>\n",
              "      <td>0.265</td>\n",
              "      <td>0.735</td>\n",
              "      <td>0.000</td>\n",
              "      <td>-0.5574</td>\n",
              "    </tr>\n",
              "    <tr>\n",
              "      <th>1</th>\n",
              "      <td>0.000</td>\n",
              "      <td>0.505</td>\n",
              "      <td>0.495</td>\n",
              "      <td>0.5994</td>\n",
              "    </tr>\n",
              "    <tr>\n",
              "      <th>2</th>\n",
              "      <td>0.000</td>\n",
              "      <td>1.000</td>\n",
              "      <td>0.000</td>\n",
              "      <td>0.0000</td>\n",
              "    </tr>\n",
              "    <tr>\n",
              "      <th>3</th>\n",
              "      <td>0.282</td>\n",
              "      <td>0.718</td>\n",
              "      <td>0.000</td>\n",
              "      <td>-0.9117</td>\n",
              "    </tr>\n",
              "    <tr>\n",
              "      <th>4</th>\n",
              "      <td>0.437</td>\n",
              "      <td>0.563</td>\n",
              "      <td>0.000</td>\n",
              "      <td>-0.7351</td>\n",
              "    </tr>\n",
              "    <tr>\n",
              "      <th>5</th>\n",
              "      <td>0.226</td>\n",
              "      <td>0.730</td>\n",
              "      <td>0.044</td>\n",
              "      <td>-0.8173</td>\n",
              "    </tr>\n",
              "    <tr>\n",
              "      <th>6</th>\n",
              "      <td>0.000</td>\n",
              "      <td>0.932</td>\n",
              "      <td>0.068</td>\n",
              "      <td>0.4019</td>\n",
              "    </tr>\n",
              "    <tr>\n",
              "      <th>7</th>\n",
              "      <td>0.559</td>\n",
              "      <td>0.441</td>\n",
              "      <td>0.000</td>\n",
              "      <td>-0.5859</td>\n",
              "    </tr>\n",
              "    <tr>\n",
              "      <th>8</th>\n",
              "      <td>0.000</td>\n",
              "      <td>1.000</td>\n",
              "      <td>0.000</td>\n",
              "      <td>0.0000</td>\n",
              "    </tr>\n",
              "    <tr>\n",
              "      <th>9</th>\n",
              "      <td>0.000</td>\n",
              "      <td>0.417</td>\n",
              "      <td>0.583</td>\n",
              "      <td>0.6369</td>\n",
              "    </tr>\n",
              "  </tbody>\n",
              "</table>\n",
              "</div>"
            ],
            "text/plain": [
              "     neg    neu    pos  compound\n",
              "0  0.265  0.735  0.000   -0.5574\n",
              "1  0.000  0.505  0.495    0.5994\n",
              "2  0.000  1.000  0.000    0.0000\n",
              "3  0.282  0.718  0.000   -0.9117\n",
              "4  0.437  0.563  0.000   -0.7351\n",
              "5  0.226  0.730  0.044   -0.8173\n",
              "6  0.000  0.932  0.068    0.4019\n",
              "7  0.559  0.441  0.000   -0.5859\n",
              "8  0.000  1.000  0.000    0.0000\n",
              "9  0.000  0.417  0.583    0.6369"
            ]
          },
          "execution_count": 22,
          "metadata": {},
          "output_type": "execute_result"
        }
      ],
      "source": [
        "# generate sentiment for all the sentnces present in the data set\n",
        "def sentiment_scores(df, column_name):\n",
        "    sentiment_score_list=[]\n",
        "    for row in df[column_name]:\n",
        "        vader_sentiment = analyzer.polarity_scores(row)\n",
        "        sentiment_score_list.append(vader_sentiment)\n",
        "    return pd.DataFrame(sentiment_score_list)\n",
        "    \n",
        "# Let us create sentiment dataframe for tweets using above function\n",
        "sentiments_df = sentiment_scores(clean_tweets,'text')\n",
        "sentiments_df.head(10)"
      ]
    },
    {
      "cell_type": "code",
      "execution_count": null,
      "id": "a9f15ab0",
      "metadata": {
        "id": "a9f15ab0",
        "outputId": "f950d6a5-c2de-4e3f-a07d-a97c8f871567"
      },
      "outputs": [
        {
          "data": {
            "text/html": [
              "<div>\n",
              "<style scoped>\n",
              "    .dataframe tbody tr th:only-of-type {\n",
              "        vertical-align: middle;\n",
              "    }\n",
              "\n",
              "    .dataframe tbody tr th {\n",
              "        vertical-align: top;\n",
              "    }\n",
              "\n",
              "    .dataframe thead th {\n",
              "        text-align: right;\n",
              "    }\n",
              "</style>\n",
              "<table border=\"1\" class=\"dataframe\">\n",
              "  <thead>\n",
              "    <tr style=\"text-align: right;\">\n",
              "      <th></th>\n",
              "      <th>text</th>\n",
              "      <th>neg</th>\n",
              "      <th>neu</th>\n",
              "      <th>pos</th>\n",
              "      <th>compound</th>\n",
              "    </tr>\n",
              "  </thead>\n",
              "  <tbody>\n",
              "    <tr>\n",
              "      <th>0</th>\n",
              "      <td>a cruise missile fired by the russian army fel...</td>\n",
              "      <td>0.265</td>\n",
              "      <td>0.735</td>\n",
              "      <td>0.000</td>\n",
              "      <td>-0.5574</td>\n",
              "    </tr>\n",
              "    <tr>\n",
              "      <th>1</th>\n",
              "      <td>spread and share  you can help ukraine</td>\n",
              "      <td>0.000</td>\n",
              "      <td>0.505</td>\n",
              "      <td>0.495</td>\n",
              "      <td>0.5994</td>\n",
              "    </tr>\n",
              "    <tr>\n",
              "      <th>2</th>\n",
              "      <td>footage of the airport bombing in ivano franki...</td>\n",
              "      <td>0.000</td>\n",
              "      <td>1.000</td>\n",
              "      <td>0.000</td>\n",
              "      <td>0.0000</td>\n",
              "    </tr>\n",
              "    <tr>\n",
              "      <th>3</th>\n",
              "      <td>now this is wrong  absolutely wrong  for      ...</td>\n",
              "      <td>0.282</td>\n",
              "      <td>0.718</td>\n",
              "      <td>0.000</td>\n",
              "      <td>-0.9117</td>\n",
              "    </tr>\n",
              "    <tr>\n",
              "      <th>4</th>\n",
              "      <td>rd mechanized brigade continues to suffer ...</td>\n",
              "      <td>0.437</td>\n",
              "      <td>0.563</td>\n",
              "      <td>0.000</td>\n",
              "      <td>-0.7351</td>\n",
              "    </tr>\n",
              "    <tr>\n",
              "      <th>5</th>\n",
              "      <td>the world must act immediately    is at stake ...</td>\n",
              "      <td>0.226</td>\n",
              "      <td>0.730</td>\n",
              "      <td>0.044</td>\n",
              "      <td>-0.8173</td>\n",
              "    </tr>\n",
              "    <tr>\n",
              "      <th>6</th>\n",
              "      <td>the historic moment when the pm of pakistan mr...</td>\n",
              "      <td>0.000</td>\n",
              "      <td>0.932</td>\n",
              "      <td>0.068</td>\n",
              "      <td>0.4019</td>\n",
              "    </tr>\n",
              "    <tr>\n",
              "      <th>7</th>\n",
              "      <td>from poetry of bitch                          ...</td>\n",
              "      <td>0.559</td>\n",
              "      <td>0.441</td>\n",
              "      <td>0.000</td>\n",
              "      <td>-0.5859</td>\n",
              "    </tr>\n",
              "    <tr>\n",
              "      <th>8</th>\n",
              "      <td>footage of the airport bombing in ivano franki...</td>\n",
              "      <td>0.000</td>\n",
              "      <td>1.000</td>\n",
              "      <td>0.000</td>\n",
              "      <td>0.0000</td>\n",
              "    </tr>\n",
              "    <tr>\n",
              "      <th>9</th>\n",
              "      <td>i love shou toramaru</td>\n",
              "      <td>0.000</td>\n",
              "      <td>0.417</td>\n",
              "      <td>0.583</td>\n",
              "      <td>0.6369</td>\n",
              "    </tr>\n",
              "  </tbody>\n",
              "</table>\n",
              "</div>"
            ],
            "text/plain": [
              "                                                text    neg    neu    pos  \\\n",
              "0  a cruise missile fired by the russian army fel...  0.265  0.735  0.000   \n",
              "1          spread and share  you can help ukraine     0.000  0.505  0.495   \n",
              "2  footage of the airport bombing in ivano franki...  0.000  1.000  0.000   \n",
              "3  now this is wrong  absolutely wrong  for      ...  0.282  0.718  0.000   \n",
              "4      rd mechanized brigade continues to suffer ...  0.437  0.563  0.000   \n",
              "5  the world must act immediately    is at stake ...  0.226  0.730  0.044   \n",
              "6  the historic moment when the pm of pakistan mr...  0.000  0.932  0.068   \n",
              "7  from poetry of bitch                          ...  0.559  0.441  0.000   \n",
              "8  footage of the airport bombing in ivano franki...  0.000  1.000  0.000   \n",
              "9                          i love shou toramaru       0.000  0.417  0.583   \n",
              "\n",
              "   compound  \n",
              "0   -0.5574  \n",
              "1    0.5994  \n",
              "2    0.0000  \n",
              "3   -0.9117  \n",
              "4   -0.7351  \n",
              "5   -0.8173  \n",
              "6    0.4019  \n",
              "7   -0.5859  \n",
              "8    0.0000  \n",
              "9    0.6369  "
            ]
          },
          "execution_count": 23,
          "metadata": {},
          "output_type": "execute_result"
        }
      ],
      "source": [
        "# merge sentiment scores with corresponding tweets\n",
        "\n",
        "tweet_sentiments_df = pd.concat([clean_tweets.reset_index(drop=True),sentiments_df],axis=1)\n",
        "tweet_sentiments_df.head(10)"
      ]
    },
    {
      "cell_type": "code",
      "execution_count": null,
      "id": "99ff8787",
      "metadata": {
        "id": "99ff8787",
        "outputId": "8ed74474-4dfd-4ec2-ddb0-09f363dd42af"
      },
      "outputs": [
        {
          "data": {
            "text/html": [
              "<div>\n",
              "<style scoped>\n",
              "    .dataframe tbody tr th:only-of-type {\n",
              "        vertical-align: middle;\n",
              "    }\n",
              "\n",
              "    .dataframe tbody tr th {\n",
              "        vertical-align: top;\n",
              "    }\n",
              "\n",
              "    .dataframe thead th {\n",
              "        text-align: right;\n",
              "    }\n",
              "</style>\n",
              "<table border=\"1\" class=\"dataframe\">\n",
              "  <thead>\n",
              "    <tr style=\"text-align: right;\">\n",
              "      <th></th>\n",
              "      <th>text</th>\n",
              "      <th>neg</th>\n",
              "      <th>neu</th>\n",
              "      <th>pos</th>\n",
              "      <th>compound</th>\n",
              "      <th>sentiment</th>\n",
              "    </tr>\n",
              "  </thead>\n",
              "  <tbody>\n",
              "    <tr>\n",
              "      <th>0</th>\n",
              "      <td>a cruise missile fired by the russian army fel...</td>\n",
              "      <td>0.265</td>\n",
              "      <td>0.735</td>\n",
              "      <td>0.000</td>\n",
              "      <td>-0.5574</td>\n",
              "      <td>negative</td>\n",
              "    </tr>\n",
              "    <tr>\n",
              "      <th>1</th>\n",
              "      <td>spread and share  you can help ukraine</td>\n",
              "      <td>0.000</td>\n",
              "      <td>0.505</td>\n",
              "      <td>0.495</td>\n",
              "      <td>0.5994</td>\n",
              "      <td>positive</td>\n",
              "    </tr>\n",
              "    <tr>\n",
              "      <th>2</th>\n",
              "      <td>footage of the airport bombing in ivano franki...</td>\n",
              "      <td>0.000</td>\n",
              "      <td>1.000</td>\n",
              "      <td>0.000</td>\n",
              "      <td>0.0000</td>\n",
              "      <td>neutral</td>\n",
              "    </tr>\n",
              "    <tr>\n",
              "      <th>3</th>\n",
              "      <td>now this is wrong  absolutely wrong  for      ...</td>\n",
              "      <td>0.282</td>\n",
              "      <td>0.718</td>\n",
              "      <td>0.000</td>\n",
              "      <td>-0.9117</td>\n",
              "      <td>negative</td>\n",
              "    </tr>\n",
              "    <tr>\n",
              "      <th>4</th>\n",
              "      <td>rd mechanized brigade continues to suffer ...</td>\n",
              "      <td>0.437</td>\n",
              "      <td>0.563</td>\n",
              "      <td>0.000</td>\n",
              "      <td>-0.7351</td>\n",
              "      <td>negative</td>\n",
              "    </tr>\n",
              "  </tbody>\n",
              "</table>\n",
              "</div>"
            ],
            "text/plain": [
              "                                                text    neg    neu    pos  \\\n",
              "0  a cruise missile fired by the russian army fel...  0.265  0.735  0.000   \n",
              "1          spread and share  you can help ukraine     0.000  0.505  0.495   \n",
              "2  footage of the airport bombing in ivano franki...  0.000  1.000  0.000   \n",
              "3  now this is wrong  absolutely wrong  for      ...  0.282  0.718  0.000   \n",
              "4      rd mechanized brigade continues to suffer ...  0.437  0.563  0.000   \n",
              "\n",
              "   compound sentiment  \n",
              "0   -0.5574  negative  \n",
              "1    0.5994  positive  \n",
              "2    0.0000   neutral  \n",
              "3   -0.9117  negative  \n",
              "4   -0.7351  negative  "
            ]
          },
          "execution_count": 24,
          "metadata": {},
          "output_type": "execute_result"
        }
      ],
      "source": [
        "# convert scores into positive, neutral, negative \n",
        "\n",
        "# create a list of conditions\n",
        "conditions = [\n",
        "              (tweet_sentiments_df['compound'] < 0),\n",
        "              (tweet_sentiments_df['compound'] == 0),\n",
        "              (tweet_sentiments_df['compound'] > 0)\n",
        "              ]\n",
        "\n",
        "# create a list of values corresponding with each condition\n",
        "values = ['negative','neutral','positive']\n",
        "\n",
        "\n",
        "tweet_sentiments_df['sentiment'] = np.select(conditions, values)\n",
        "tweet_sentiments_df.head()"
      ]
    },
    {
      "cell_type": "code",
      "execution_count": null,
      "id": "55af254e",
      "metadata": {
        "id": "55af254e"
      },
      "outputs": [],
      "source": [
        "# save the "
      ]
    },
    {
      "cell_type": "code",
      "execution_count": null,
      "id": "c0e1f5c3",
      "metadata": {
        "id": "c0e1f5c3",
        "outputId": "ca5f868a-8278-4267-c6bc-2a217fdecea4"
      },
      "outputs": [
        {
          "data": {
            "text/plain": [
              "<AxesSubplot:>"
            ]
          },
          "execution_count": 26,
          "metadata": {},
          "output_type": "execute_result"
        },
        {
          "data": {
            "image/png": "[encoded data removed]",
            "text/plain": [
              "<Figure size 432x288 with 1 Axes>"
            ]
          },
          "metadata": {},
          "output_type": "display_data"
        }
      ],
      "source": [
        "# import dependencies for visualization\n",
        "import matplotlib.pyplot as plt\n",
        "plt.style.use('fivethirtyeight')\n",
        "\n",
        "# Vizualization\n",
        "\n",
        "results = tweet_sentiments_df['sentiment'].value_counts()\n",
        "results.plot(kind='bar',rot=0,color=['purple','limegreen','skyblue'])"
      ]
    },
    {
      "cell_type": "code",
      "execution_count": null,
      "id": "d088a1e2",
      "metadata": {
        "id": "d088a1e2"
      },
      "outputs": [],
      "source": []
    }
  ],
  "metadata": {
    "colab": {
      "name": "Copy of Twitter_Vader_Sentiment_Analysis.ipynb",
      "provenance": []
    },
    "kernelspec": {
      "display_name": "Python 3 (ipykernel)",
      "language": "python",
      "name": "python3"
    },
    "language_info": {
      "codemirror_mode": {
        "name": "ipython",
        "version": 3
      },
      "file_extension": ".py",
      "mimetype": "text/x-python",
      "name": "python",
      "nbconvert_exporter": "python",
      "pygments_lexer": "ipython3",
      "version": "3.7.10"
    }
  },
  "nbformat": 4,
  "nbformat_minor": 5
}
