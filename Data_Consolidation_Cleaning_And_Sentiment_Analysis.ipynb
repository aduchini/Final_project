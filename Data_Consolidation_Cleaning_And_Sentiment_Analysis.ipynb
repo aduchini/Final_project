{
 "cells": [
  {
   "cell_type": "markdown",
   "id": "aa5cf387",
   "metadata": {},
   "source": [
    "### About the Dataset\n",
    "#### Kaggle dataset : [Download The Dataset Here ](https://www.kaggle.com/bwandowando/ukraine-russian-crisis-twitter-dataset-1-2-m-rows/discussion/310030)\n",
    "\n",
    "#### Description\n",
    "This dataset contains 1.2M distinct tweets about the current ongoing Ukraine-Russia conflict.\n",
    "\n",
    "Implementation\n",
    "Two Jupyter notebooks running 24/7, executing every 15 mins monitoring hashtags pertaining to the ongoing Ukraine-Russia conflict. The dataset creator also implemented a simple \"hashtag crawler\" where the dataset creator crawled the top-most hashtags from an initial set of hashtags thus getting the other related hashtags at a given point in time."
   ]
  },
  {
   "cell_type": "markdown",
   "id": "53cd3955",
   "metadata": {},
   "source": [
    "#### Import dependencies"
   ]
  },
  {
   "cell_type": "code",
   "execution_count": 50,
   "id": "15e82527",
   "metadata": {},
   "outputs": [],
   "source": [
    "import pandas as pd\n",
    "import numpy as np\n",
    "import re\n",
    "import datetime as dt\n",
    "pd.set_option('display.max_colwidth', None)"
   ]
  },
  {
   "cell_type": "markdown",
   "id": "3084a1b9",
   "metadata": {},
   "source": [
    "### Import all csv files for all dates and combine to get consolidated csv"
   ]
  },
  {
   "cell_type": "code",
   "execution_count": 51,
   "id": "21eed3f0",
   "metadata": {},
   "outputs": [
    {
     "name": "stderr",
     "output_type": "stream",
     "text": [
      "/var/folders/36/42s_c14d5kv7yjr4yyn4sr6h0000gn/T/ipykernel_65950/1789386630.py:9: DtypeWarning: Columns (15) have mixed types. Specify dtype option on import or set low_memory=False.\n",
      "  df = pd.read_csv(file, index_col = None)\n",
      "/var/folders/36/42s_c14d5kv7yjr4yyn4sr6h0000gn/T/ipykernel_65950/1789386630.py:9: DtypeWarning: Columns (15) have mixed types. Specify dtype option on import or set low_memory=False.\n",
      "  df = pd.read_csv(file, index_col = None)\n",
      "/var/folders/36/42s_c14d5kv7yjr4yyn4sr6h0000gn/T/ipykernel_65950/1789386630.py:9: DtypeWarning: Columns (15) have mixed types. Specify dtype option on import or set low_memory=False.\n",
      "  df = pd.read_csv(file, index_col = None)\n",
      "/var/folders/36/42s_c14d5kv7yjr4yyn4sr6h0000gn/T/ipykernel_65950/1789386630.py:9: DtypeWarning: Columns (15) have mixed types. Specify dtype option on import or set low_memory=False.\n",
      "  df = pd.read_csv(file, index_col = None)\n",
      "/var/folders/36/42s_c14d5kv7yjr4yyn4sr6h0000gn/T/ipykernel_65950/1789386630.py:9: DtypeWarning: Columns (15) have mixed types. Specify dtype option on import or set low_memory=False.\n",
      "  df = pd.read_csv(file, index_col = None)\n",
      "/var/folders/36/42s_c14d5kv7yjr4yyn4sr6h0000gn/T/ipykernel_65950/1789386630.py:9: DtypeWarning: Columns (15) have mixed types. Specify dtype option on import or set low_memory=False.\n",
      "  df = pd.read_csv(file, index_col = None)\n",
      "/var/folders/36/42s_c14d5kv7yjr4yyn4sr6h0000gn/T/ipykernel_65950/1789386630.py:9: DtypeWarning: Columns (15) have mixed types. Specify dtype option on import or set low_memory=False.\n",
      "  df = pd.read_csv(file, index_col = None)\n",
      "/var/folders/36/42s_c14d5kv7yjr4yyn4sr6h0000gn/T/ipykernel_65950/1789386630.py:9: DtypeWarning: Columns (15) have mixed types. Specify dtype option on import or set low_memory=False.\n",
      "  df = pd.read_csv(file, index_col = None)\n",
      "/var/folders/36/42s_c14d5kv7yjr4yyn4sr6h0000gn/T/ipykernel_65950/1789386630.py:9: DtypeWarning: Columns (15) have mixed types. Specify dtype option on import or set low_memory=False.\n",
      "  df = pd.read_csv(file, index_col = None)\n",
      "/var/folders/36/42s_c14d5kv7yjr4yyn4sr6h0000gn/T/ipykernel_65950/1789386630.py:9: DtypeWarning: Columns (15) have mixed types. Specify dtype option on import or set low_memory=False.\n",
      "  df = pd.read_csv(file, index_col = None)\n",
      "/var/folders/36/42s_c14d5kv7yjr4yyn4sr6h0000gn/T/ipykernel_65950/1789386630.py:9: DtypeWarning: Columns (15) have mixed types. Specify dtype option on import or set low_memory=False.\n",
      "  df = pd.read_csv(file, index_col = None)\n"
     ]
    }
   ],
   "source": [
    "import glob\n",
    "\n",
    "path = r'resources/archive'\n",
    "all_files = glob.glob(path + '/*.csv')\n",
    "\n",
    "consolidated = []\n",
    "\n",
    "for file in all_files:\n",
    "    df = pd.read_csv(file, index_col = None)\n",
    "    consolidated.append(df)\n",
    "\n",
    "all_tweets_consolidated = pd.concat(consolidated, axis=0, ignore_index=True)"
   ]
  },
  {
   "cell_type": "markdown",
   "id": "86d89a58",
   "metadata": {},
   "source": [
    "### Quick Exploration of Data"
   ]
  },
  {
   "cell_type": "code",
   "execution_count": 52,
   "id": "78c71175",
   "metadata": {},
   "outputs": [
    {
     "data": {
      "text/plain": [
       "(11052722, 18)"
      ]
     },
     "execution_count": 52,
     "metadata": {},
     "output_type": "execute_result"
    }
   ],
   "source": [
    "all_tweets_consolidated.shape"
   ]
  },
  {
   "cell_type": "markdown",
   "id": "c91b31c2",
   "metadata": {},
   "source": [
    "### Drop Duplicates"
   ]
  },
  {
   "cell_type": "code",
   "execution_count": 53,
   "id": "b27a394e",
   "metadata": {},
   "outputs": [],
   "source": [
    "all_tweets_consolidated.drop_duplicates(['tweetid'],inplace=True)"
   ]
  },
  {
   "cell_type": "code",
   "execution_count": 15,
   "id": "057ff96c",
   "metadata": {},
   "outputs": [
    {
     "data": {
      "text/plain": [
       "(10727386, 18)"
      ]
     },
     "execution_count": 15,
     "metadata": {},
     "output_type": "execute_result"
    }
   ],
   "source": [
    "all_tweets_consolidated.shape"
   ]
  },
  {
   "cell_type": "code",
   "execution_count": 27,
   "id": "a578b8b5",
   "metadata": {},
   "outputs": [],
   "source": [
    "# save the above dataframe as a csv\n",
    "all_tweets_consolidated.to_csv('Datasets_Final_Project/all_tweets_consolidated.csv', index=False)"
   ]
  },
  {
   "cell_type": "markdown",
   "id": "f1cc504a",
   "metadata": {},
   "source": [
    "#### Load the csv dataset into a dataframe"
   ]
  },
  {
   "cell_type": "code",
   "execution_count": 4,
   "id": "0505ce11",
   "metadata": {},
   "outputs": [
    {
     "name": "stderr",
     "output_type": "stream",
     "text": [
      "/var/folders/36/42s_c14d5kv7yjr4yyn4sr6h0000gn/T/ipykernel_65950/3556057717.py:1: DtypeWarning: Columns (0,1,2,3,4,5,7,8,9,10,11,12,13,14,15,17) have mixed types. Specify dtype option on import or set low_memory=False.\n",
      "  tweets_df = pd.read_csv('Datasets_Final_Project/all_tweets_consolidated.csv')\n"
     ]
    }
   ],
   "source": [
    "tweets_df = pd.read_csv('Datasets_Final_Project/all_tweets_consolidated.csv')"
   ]
  },
  {
   "cell_type": "markdown",
   "id": "21071d32",
   "metadata": {},
   "source": [
    "#### Create a data set of English tweets"
   ]
  },
  {
   "cell_type": "code",
   "execution_count": 5,
   "id": "72c8a470",
   "metadata": {},
   "outputs": [
    {
     "data": {
      "text/plain": [
       "7113869"
      ]
     },
     "execution_count": 5,
     "metadata": {},
     "output_type": "execute_result"
    }
   ],
   "source": [
    "# Filter English laguage tweets from the data (relevant to this project)\n",
    "en_tweets_df =  tweets_df[tweets_df['language']=='en']\n",
    "len(en_tweets_df)"
   ]
  },
  {
   "cell_type": "markdown",
   "id": "f801284f",
   "metadata": {},
   "source": [
    "### Data Cleaning"
   ]
  },
  {
   "cell_type": "code",
   "execution_count": 6,
   "id": "4cda104f",
   "metadata": {},
   "outputs": [],
   "source": [
    "# Drop rows where location is NaN or blank\n",
    "en_tweets_df['location'].isna().sum()\n",
    "en_tweets_df = en_tweets_df[en_tweets_df['location'].notna()]"
   ]
  },
  {
   "cell_type": "code",
   "execution_count": 7,
   "id": "2061f5d6",
   "metadata": {},
   "outputs": [
    {
     "data": {
      "text/plain": [
       "4233850"
      ]
     },
     "execution_count": 7,
     "metadata": {},
     "output_type": "execute_result"
    }
   ],
   "source": [
    "len(en_tweets_df)"
   ]
  },
  {
   "cell_type": "code",
   "execution_count": 536,
   "id": "b30932bf",
   "metadata": {},
   "outputs": [],
   "source": [
    "# create a csv of english tweets where location is not null\n",
    "en_tweets_df.to_csv('en_tweets.csv', index=False)"
   ]
  },
  {
   "cell_type": "markdown",
   "id": "09b22fd0",
   "metadata": {},
   "source": [
    "### Drop the columns that are not required"
   ]
  },
  {
   "cell_type": "code",
   "execution_count": 8,
   "id": "3ebb3dac",
   "metadata": {},
   "outputs": [
    {
     "data": {
      "text/html": [
       "<div>\n",
       "<style scoped>\n",
       "    .dataframe tbody tr th:only-of-type {\n",
       "        vertical-align: middle;\n",
       "    }\n",
       "\n",
       "    .dataframe tbody tr th {\n",
       "        vertical-align: top;\n",
       "    }\n",
       "\n",
       "    .dataframe thead th {\n",
       "        text-align: right;\n",
       "    }\n",
       "</style>\n",
       "<table border=\"1\" class=\"dataframe\">\n",
       "  <thead>\n",
       "    <tr style=\"text-align: right;\">\n",
       "      <th></th>\n",
       "      <th>tweetcreatedts</th>\n",
       "      <th>text</th>\n",
       "      <th>location</th>\n",
       "      <th>hashtags</th>\n",
       "      <th>retweetcount</th>\n",
       "      <th>favorite_count</th>\n",
       "    </tr>\n",
       "  </thead>\n",
       "  <tbody>\n",
       "    <tr>\n",
       "      <th>1</th>\n",
       "      <td>2022-03-08 00:01:12</td>\n",
       "      <td>\"Kyiv Ghost\" shot down the #Russian Caliber cr...</td>\n",
       "      <td>Olympia WA</td>\n",
       "      <td>[{'text': 'Russian', 'indices': [45, 53]}, {'t...</td>\n",
       "      <td>32.0</td>\n",
       "      <td>0.0</td>\n",
       "    </tr>\n",
       "    <tr>\n",
       "      <th>2</th>\n",
       "      <td>2022-03-08 00:01:12</td>\n",
       "      <td>#China wants to mediate the #Ukraine war to re...</td>\n",
       "      <td>Georgia</td>\n",
       "      <td>[{'text': 'China', 'indices': [18, 24]}, {'tex...</td>\n",
       "      <td>79.0</td>\n",
       "      <td>0.0</td>\n",
       "    </tr>\n",
       "  </tbody>\n",
       "</table>\n",
       "</div>"
      ],
      "text/plain": [
       "        tweetcreatedts                                               text  \\\n",
       "1  2022-03-08 00:01:12  \"Kyiv Ghost\" shot down the #Russian Caliber cr...   \n",
       "2  2022-03-08 00:01:12  #China wants to mediate the #Ukraine war to re...   \n",
       "\n",
       "     location                                           hashtags retweetcount  \\\n",
       "1  Olympia WA  [{'text': 'Russian', 'indices': [45, 53]}, {'t...         32.0   \n",
       "2   Georgia    [{'text': 'China', 'indices': [18, 24]}, {'tex...         79.0   \n",
       "\n",
       "   favorite_count  \n",
       "1             0.0  \n",
       "2             0.0  "
      ]
     },
     "execution_count": 8,
     "metadata": {},
     "output_type": "execute_result"
    }
   ],
   "source": [
    "# Drop all unnecessary columns: userid, username, acctdesc, usercreatedts, language, favorite_count, extractedts, coordinates\n",
    "tweets_df = en_tweets_df[['tweetcreatedts','text','location','hashtags','retweetcount','favorite_count']]\n",
    "tweets_df.head(2)"
   ]
  },
  {
   "cell_type": "markdown",
   "id": "c4f82aa7",
   "metadata": {},
   "source": [
    "### Create Country column in the dataframe based on location column"
   ]
  },
  {
   "cell_type": "code",
   "execution_count": 64,
   "id": "1f111ef1",
   "metadata": {},
   "outputs": [],
   "source": [
    "# create country column based on location column\n",
    "# Following function compares the dictionary values with strings in location column,\n",
    "# to find \n",
    "#def country_col(df):\n",
    "country_dicts = [{'usa':['united states','u.s.a','United States of America','Louisiana','san francisco','nyc','Philadelphia','Los Angeles','Portland','colorado','miami','brooklyn','dallas','atlanta','austin','san diego','Las Vegas','chicago','boston','new york','houston','texas','Florida','Seattle','Washington DC']},\n",
    "               {'india':['india','New Delhi','Bharat','Mumbai','Hyderabad','Bengaluru','Kolkata','Chennai','Bangalore','Delhi','भारत','Pune']},\n",
    "               {'ukraine':['Kyiv','Дніпро','ukraine','Kharkiv','Odessa','Donetsk','Харків','Україна','Kiev Ukraine','Киев','Київ']},\n",
    "               {'uk':['england','London','United Kingdom','Liverpool','scotland','Lviv']},\n",
    "               {'belarus':['belarus','minsk','miensk','беларусь','Светлогорск','Минск','Свободная','жыве','Берасце']},\n",
    "               {'slovakia':['slovakia','Banska Stiavnica','Trencin','košice','Zilina','Kosice','Bratislava','Žilina','Slovensko','slovenská']},\n",
    "               {'moldova':['moldova','Chisinau','Chişinău']},\n",
    "               {'georgia':['georgia','Géorgie','Batumi','საქართველო','Tbilissi','Zugdidi','Samegrelo','sakartvelo','Fitzgerald']},\n",
    "               {'spain':['España','spain','Madrid','Barcelona','El Castanar']},\n",
    "               {'kazakhstan':['kazakhstan','Shymkent','Astana','Nur-Sultan','Almaty','Qazaqstan','Karagandy','turkistan']},\n",
    "               {'canada':['canada','Ontario','Toronto','Vancouver','Québec','Alberta']},\n",
    "               {'mexico':['México','Mexico','Guanajuato','Ciudad de México']},\n",
    "               {'lebanon':['Lebanon']},\n",
    "               {'malta':['malta']},\n",
    "               {'syria':['Syria']},\n",
    "               {'yemen':['Yemen']},\n",
    "               {'hungary':['budapest','hungary','Heves County','Nyársapát','Pécs','Szombathely','Debrecen','Szeged','Bács-Kiskun County','Magyarország','Gyöngyös']},\n",
    "               {'argentina':['Buenos Aires','Argentina']},\n",
    "               {'taiwan':['Taipei City','taiwan']},\n",
    "               {'luxembourg':['Luxembourg']},\n",
    "               {'brasil':['Brasil','São Paulo','Brazil']},\n",
    "               {'ghana':['Accra','ghana','Kumasi']},\n",
    "               {'chile':['Chile']},\n",
    "               {'denmark':['Denmark','København']},\n",
    "               {'switzerland':['Switzerland','Geneva','Zürich','Schweiz']},\n",
    "               {'norway':['Norway','Oslo']},\n",
    "               {'france':['france','Paris','Strasbourg','Marseille']},\n",
    "               {'ireland':['Ireland','Dublin City']},\n",
    "               {'netherland':['Nederland','netherland','netherlands','holland','Amsterdam']},\n",
    "               {'portugal':['Portugal','Lisboa','Porto','Lisbon']},\n",
    "               {'singapore':['Singapore']},\n",
    "               {'germany':['Deutschland','germany','berlin','Hamburg','Bayern','München']},\n",
    "               {'austria':['Österreich','wien','austria','Vienna']},\n",
    "               {'finland':['finland','Helsinki','Jyväskylä','Iivisniemi','Lappeenranta','Häme','Suomi','Kauniainen','Sastamala','Lahti','Kotka']},\n",
    "               {'romania':['Romania','Bucharest','roma','România','Bucureşti','rome']},\n",
    "               {'greece':['Greece','Athens','Attiki','Αττική','Ελλάς']},\n",
    "               {'sweden':['sweden','Stockholm','Sverige','Gothenburg']},\n",
    "               {'italy':['italy','italia','Milano','Lombardia']},\n",
    "               {'belgium':['belgium','brussels','Belgique','Bruxelles','België']},\n",
    "               {'czechia':['Prague','Czechia','Czech Republic','Praha','Česká republika']},\n",
    "               {'venezuela':['Venezuela']},\n",
    "               {'phillipines':['Philippines']},\n",
    "               {'thailand':['bangkok','thailand','ประเทศไทย','กรุงเทพมหานคร, ประเทศไทย']},\n",
    "               {'malaysia':['Malaysia']},\n",
    "               {'japan':['tokyo','japan']},\n",
    "               {'indonesia':['Indonesia']},\n",
    "               {'latvia':['Latvia','Riga','Latvija']},\n",
    "               {'ethiopia':['Ethiopia']},\n",
    "               {'estonia':['Estonia','Tallinn']},\n",
    "               {'nigeria':['Nigeria','Lagos','Abuja']},\n",
    "               {'south africa':['South Africa','Johannesburg','Cape Town','Pretoria']},\n",
    "               {'kenya':['kenya','nairobi']},\n",
    "               {'turkey':['turkey','istanbul','Türkiye']},\n",
    "               {'lithuania':['Lithuania','Vilnius']},\n",
    "               {'uae':['Dubai','United Arab Emirates']},\n",
    "               {'israel':['Israel','Jerusalem']},\n",
    "               {'iran':['جمهوری اسلامی ایران','Islamic Republic of Iran']},\n",
    "               {'pakistan':['pakistan']},\n",
    "               {'bangladesh':['Bangladesh','dhaka']},\n",
    "               {'russia':['russia','Россия']},\n",
    "               {'poland':['poland','polska','Warsaw','Krakow','lodz','wroclaw','poznan','gdansk','Warszawa']},\n",
    "               {'china':['China', '俄罗斯','俄羅斯','Hong Kong','Beijing']},\n",
    "               {'australia':['australia', 'sydney','Melbourne','Vienna','Queensland','Brisbane','Canberra']},\n",
    "               {'nz':['new zealand','Auckland']}]\n",
    "\n",
    "\n",
    "def find_country(location,country_dicts):   \n",
    "    for country_dict in country_dicts:\n",
    "        for country_name,city_list in country_dict.items():\n",
    "            for city_name in city_list:\n",
    "                condition = city_name.lower() in location.lower()\n",
    "                if city_name.lower() in location.lower():\n",
    "                    return country_name\n",
    "    return np.nan\n",
    "\n",
    "\n",
    "tweets_df['country'] = tweets_df['location'].apply(lambda x: find_country(x, country_dicts))"
   ]
  },
  {
   "cell_type": "markdown",
   "id": "170074c6",
   "metadata": {},
   "source": [
    "### Drop nan values and clean the country column"
   ]
  },
  {
   "cell_type": "code",
   "execution_count": 65,
   "id": "7101b740",
   "metadata": {},
   "outputs": [
    {
     "data": {
      "text/plain": [
       "(2103692, 7)"
      ]
     },
     "execution_count": 65,
     "metadata": {},
     "output_type": "execute_result"
    }
   ],
   "source": [
    "# Create a new dataframe where country column is not na\n",
    "tweets_df = tweets_df[tweets_df['country'].notna()]\n",
    "tweets_df.shape"
   ]
  },
  {
   "cell_type": "code",
   "execution_count": 66,
   "id": "774de584",
   "metadata": {},
   "outputs": [
    {
     "data": {
      "text/plain": [
       "usa           393736\n",
       "uk            298239\n",
       "india         212396\n",
       "canada        147466\n",
       "ukraine       137551\n",
       "               ...  \n",
       "slovakia         235\n",
       "belarus          110\n",
       "moldova           59\n",
       "georgia           24\n",
       "kazakhstan        14\n",
       "Name: country, Length: 64, dtype: int64"
      ]
     },
     "execution_count": 66,
     "metadata": {},
     "output_type": "execute_result"
    }
   ],
   "source": [
    "tweets_df['country'].value_counts()"
   ]
  },
  {
   "cell_type": "markdown",
   "id": "33b0b9b6",
   "metadata": {},
   "source": [
    "### Reset the index of the dataframe"
   ]
  },
  {
   "cell_type": "code",
   "execution_count": 67,
   "id": "4e319b46",
   "metadata": {},
   "outputs": [
    {
     "data": {
      "text/html": [
       "<div>\n",
       "<style scoped>\n",
       "    .dataframe tbody tr th:only-of-type {\n",
       "        vertical-align: middle;\n",
       "    }\n",
       "\n",
       "    .dataframe tbody tr th {\n",
       "        vertical-align: top;\n",
       "    }\n",
       "\n",
       "    .dataframe thead th {\n",
       "        text-align: right;\n",
       "    }\n",
       "</style>\n",
       "<table border=\"1\" class=\"dataframe\">\n",
       "  <thead>\n",
       "    <tr style=\"text-align: right;\">\n",
       "      <th></th>\n",
       "      <th>tweetcreatedts</th>\n",
       "      <th>text</th>\n",
       "      <th>location</th>\n",
       "      <th>hashtags</th>\n",
       "      <th>retweetcount</th>\n",
       "      <th>favorite_count</th>\n",
       "      <th>country</th>\n",
       "    </tr>\n",
       "  </thead>\n",
       "  <tbody>\n",
       "    <tr>\n",
       "      <th>2103690</th>\n",
       "      <td>2022-03-11</td>\n",
       "      <td>if you see that there are people who volunteer  who want to come and help people who live in   we have to help them to do that  we should help them to move to the conflict zone     to defence minister</td>\n",
       "      <td>London, England</td>\n",
       "      <td>[{'text': 'Donbass', 'indices': [106, 114]}]</td>\n",
       "      <td>27.0</td>\n",
       "      <td>0.0</td>\n",
       "      <td>uk</td>\n",
       "    </tr>\n",
       "    <tr>\n",
       "      <th>2103691</th>\n",
       "      <td>2022-03-11</td>\n",
       "      <td>and now  israel is in the picture    to understand the present crisis  we need to study history geopolitics   cultural relativism   foreign relations     foreign policies  to know where this crisis may lead us  we need to study the book of revelation</td>\n",
       "      <td>Manila, Philippines</td>\n",
       "      <td>[{'text': 'RussiaUkraineWar', 'indices': [254, 271]}, {'text': 'israel', 'indices': [272, 279]}]</td>\n",
       "      <td>0.0</td>\n",
       "      <td>0.0</td>\n",
       "      <td>phillipines</td>\n",
       "    </tr>\n",
       "  </tbody>\n",
       "</table>\n",
       "</div>"
      ],
      "text/plain": [
       "        tweetcreatedts  \\\n",
       "2103690     2022-03-11   \n",
       "2103691     2022-03-11   \n",
       "\n",
       "                                                                                                                                                                                                                                                                   text  \\\n",
       "2103690                                                 if you see that there are people who volunteer  who want to come and help people who live in   we have to help them to do that  we should help them to move to the conflict zone     to defence minister          \n",
       "2103691  and now  israel is in the picture    to understand the present crisis  we need to study history geopolitics   cultural relativism   foreign relations     foreign policies  to know where this crisis may lead us  we need to study the book of revelation       \n",
       "\n",
       "                    location  \\\n",
       "2103690      London, England   \n",
       "2103691  Manila, Philippines   \n",
       "\n",
       "                                                                                                 hashtags  \\\n",
       "2103690                                                      [{'text': 'Donbass', 'indices': [106, 114]}]   \n",
       "2103691  [{'text': 'RussiaUkraineWar', 'indices': [254, 271]}, {'text': 'israel', 'indices': [272, 279]}]   \n",
       "\n",
       "        retweetcount  favorite_count      country  \n",
       "2103690         27.0             0.0           uk  \n",
       "2103691          0.0             0.0  phillipines  "
      ]
     },
     "execution_count": 67,
     "metadata": {},
     "output_type": "execute_result"
    }
   ],
   "source": [
    "# reset index of the new df\n",
    "tweets_df.reset_index(drop=True,inplace=True)\n",
    "tweets_df.tail(2)"
   ]
  },
  {
   "cell_type": "markdown",
   "id": "7687e46f",
   "metadata": {},
   "source": [
    "### Clean Date column by formatting the date"
   ]
  },
  {
   "cell_type": "code",
   "execution_count": 68,
   "id": "21767deb",
   "metadata": {},
   "outputs": [
    {
     "data": {
      "text/html": [
       "<div>\n",
       "<style scoped>\n",
       "    .dataframe tbody tr th:only-of-type {\n",
       "        vertical-align: middle;\n",
       "    }\n",
       "\n",
       "    .dataframe tbody tr th {\n",
       "        vertical-align: top;\n",
       "    }\n",
       "\n",
       "    .dataframe thead th {\n",
       "        text-align: right;\n",
       "    }\n",
       "</style>\n",
       "<table border=\"1\" class=\"dataframe\">\n",
       "  <thead>\n",
       "    <tr style=\"text-align: right;\">\n",
       "      <th></th>\n",
       "      <th>tweetcreatedts</th>\n",
       "      <th>text</th>\n",
       "      <th>location</th>\n",
       "      <th>hashtags</th>\n",
       "      <th>retweetcount</th>\n",
       "      <th>favorite_count</th>\n",
       "      <th>country</th>\n",
       "    </tr>\n",
       "  </thead>\n",
       "  <tbody>\n",
       "    <tr>\n",
       "      <th>2103690</th>\n",
       "      <td>2022-03-11</td>\n",
       "      <td>if you see that there are people who volunteer  who want to come and help people who live in   we have to help them to do that  we should help them to move to the conflict zone     to defence minister</td>\n",
       "      <td>London, England</td>\n",
       "      <td>[{'text': 'Donbass', 'indices': [106, 114]}]</td>\n",
       "      <td>27.0</td>\n",
       "      <td>0.0</td>\n",
       "      <td>uk</td>\n",
       "    </tr>\n",
       "    <tr>\n",
       "      <th>2103691</th>\n",
       "      <td>2022-03-11</td>\n",
       "      <td>and now  israel is in the picture    to understand the present crisis  we need to study history geopolitics   cultural relativism   foreign relations     foreign policies  to know where this crisis may lead us  we need to study the book of revelation</td>\n",
       "      <td>Manila, Philippines</td>\n",
       "      <td>[{'text': 'RussiaUkraineWar', 'indices': [254, 271]}, {'text': 'israel', 'indices': [272, 279]}]</td>\n",
       "      <td>0.0</td>\n",
       "      <td>0.0</td>\n",
       "      <td>phillipines</td>\n",
       "    </tr>\n",
       "  </tbody>\n",
       "</table>\n",
       "</div>"
      ],
      "text/plain": [
       "        tweetcreatedts  \\\n",
       "2103690     2022-03-11   \n",
       "2103691     2022-03-11   \n",
       "\n",
       "                                                                                                                                                                                                                                                                   text  \\\n",
       "2103690                                                 if you see that there are people who volunteer  who want to come and help people who live in   we have to help them to do that  we should help them to move to the conflict zone     to defence minister          \n",
       "2103691  and now  israel is in the picture    to understand the present crisis  we need to study history geopolitics   cultural relativism   foreign relations     foreign policies  to know where this crisis may lead us  we need to study the book of revelation       \n",
       "\n",
       "                    location  \\\n",
       "2103690      London, England   \n",
       "2103691  Manila, Philippines   \n",
       "\n",
       "                                                                                                 hashtags  \\\n",
       "2103690                                                      [{'text': 'Donbass', 'indices': [106, 114]}]   \n",
       "2103691  [{'text': 'RussiaUkraineWar', 'indices': [254, 271]}, {'text': 'israel', 'indices': [272, 279]}]   \n",
       "\n",
       "        retweetcount  favorite_count      country  \n",
       "2103690         27.0             0.0           uk  \n",
       "2103691          0.0             0.0  phillipines  "
      ]
     },
     "execution_count": 68,
     "metadata": {},
     "output_type": "execute_result"
    }
   ],
   "source": [
    "# clean the date column by changing the date format to date object\n",
    "tweets_df['tweetcreatedts'] = pd.to_datetime(tweets_df['tweetcreatedts']).dt.date\n",
    "tweets_df.tail(2)"
   ]
  },
  {
   "cell_type": "markdown",
   "id": "905fa34b",
   "metadata": {},
   "source": [
    "### Let us clean tweets using a function which will perform following operations :\n",
    "\n",
    "- convert all text to lowercase\n",
    "- remove mentions\n",
    "- remove hashtags\n",
    "- remove hyperlinks\n",
    "- remove punctuations and special characters \n"
   ]
  },
  {
   "cell_type": "code",
   "execution_count": 69,
   "id": "93fbce0f",
   "metadata": {},
   "outputs": [],
   "source": [
    "import re\n",
    "\n",
    "def text_cleaning(df, column_name):\n",
    "\n",
    "# convert all text to lower case\n",
    "    df[column_name] = df[column_name].str.lower().to_frame() # returns a series object\n",
    "    df[column_name] = df[column_name].str.replace(r\"@[A-Za-z0-9_']+\",\"\", regex = True).to_frame() # remove mentions\n",
    "    df[column_name] = df[column_name].str.replace(r\"#[A-Za-z0-9_]+\",\"\", regex=True).to_frame() # remove hashtags\n",
    "    df[column_name] = df[column_name].str.replace(r\"http\\S+|www.\\S+\",\"\",regex=True).to_frame() # remove hyperlinks\n",
    "    df[column_name] = df[column_name].str.replace(r\"[^\\w\\s]|_|\\d+|amp|[^a-zA-Z]\",\" \",regex=True).to_frame() # remove punctuations\n",
    "\n",
    "    return df"
   ]
  },
  {
   "cell_type": "markdown",
   "id": "8e5d693f",
   "metadata": {},
   "source": [
    "#### Cleaned tweets df preview"
   ]
  },
  {
   "cell_type": "code",
   "execution_count": 70,
   "id": "0e4dac9c",
   "metadata": {},
   "outputs": [
    {
     "data": {
      "text/html": [
       "<div>\n",
       "<style scoped>\n",
       "    .dataframe tbody tr th:only-of-type {\n",
       "        vertical-align: middle;\n",
       "    }\n",
       "\n",
       "    .dataframe tbody tr th {\n",
       "        vertical-align: top;\n",
       "    }\n",
       "\n",
       "    .dataframe thead th {\n",
       "        text-align: right;\n",
       "    }\n",
       "</style>\n",
       "<table border=\"1\" class=\"dataframe\">\n",
       "  <thead>\n",
       "    <tr style=\"text-align: right;\">\n",
       "      <th></th>\n",
       "      <th>tweetcreatedts</th>\n",
       "      <th>text</th>\n",
       "      <th>location</th>\n",
       "      <th>hashtags</th>\n",
       "      <th>retweetcount</th>\n",
       "      <th>favorite_count</th>\n",
       "      <th>country</th>\n",
       "    </tr>\n",
       "  </thead>\n",
       "  <tbody>\n",
       "    <tr>\n",
       "      <th>2103690</th>\n",
       "      <td>2022-03-11</td>\n",
       "      <td>if you see that there are people who volunteer  who want to come and help people who live in   we have to help them to do that  we should help them to move to the conflict zone     to defence minister</td>\n",
       "      <td>London, England</td>\n",
       "      <td>[{'text': 'Donbass', 'indices': [106, 114]}]</td>\n",
       "      <td>27.0</td>\n",
       "      <td>0.0</td>\n",
       "      <td>uk</td>\n",
       "    </tr>\n",
       "    <tr>\n",
       "      <th>2103691</th>\n",
       "      <td>2022-03-11</td>\n",
       "      <td>and now  israel is in the picture    to understand the present crisis  we need to study history geopolitics   cultural relativism   foreign relations     foreign policies  to know where this crisis may lead us  we need to study the book of revelation</td>\n",
       "      <td>Manila, Philippines</td>\n",
       "      <td>[{'text': 'RussiaUkraineWar', 'indices': [254, 271]}, {'text': 'israel', 'indices': [272, 279]}]</td>\n",
       "      <td>0.0</td>\n",
       "      <td>0.0</td>\n",
       "      <td>phillipines</td>\n",
       "    </tr>\n",
       "  </tbody>\n",
       "</table>\n",
       "</div>"
      ],
      "text/plain": [
       "        tweetcreatedts  \\\n",
       "2103690     2022-03-11   \n",
       "2103691     2022-03-11   \n",
       "\n",
       "                                                                                                                                                                                                                                                                   text  \\\n",
       "2103690                                                 if you see that there are people who volunteer  who want to come and help people who live in   we have to help them to do that  we should help them to move to the conflict zone     to defence minister          \n",
       "2103691  and now  israel is in the picture    to understand the present crisis  we need to study history geopolitics   cultural relativism   foreign relations     foreign policies  to know where this crisis may lead us  we need to study the book of revelation       \n",
       "\n",
       "                    location  \\\n",
       "2103690      London, England   \n",
       "2103691  Manila, Philippines   \n",
       "\n",
       "                                                                                                 hashtags  \\\n",
       "2103690                                                      [{'text': 'Donbass', 'indices': [106, 114]}]   \n",
       "2103691  [{'text': 'RussiaUkraineWar', 'indices': [254, 271]}, {'text': 'israel', 'indices': [272, 279]}]   \n",
       "\n",
       "        retweetcount  favorite_count      country  \n",
       "2103690         27.0             0.0           uk  \n",
       "2103691          0.0             0.0  phillipines  "
      ]
     },
     "execution_count": 70,
     "metadata": {},
     "output_type": "execute_result"
    }
   ],
   "source": [
    "# clean the tweets using function\n",
    "cleaned_tweets_df = text_cleaning(tweets_df,'text')\n",
    "cleaned_tweets_df.tail(2)"
   ]
  },
  {
   "cell_type": "markdown",
   "id": "f9a12beb",
   "metadata": {},
   "source": [
    "### Data Cleaning Complete\n"
   ]
  },
  {
   "cell_type": "markdown",
   "id": "6650fd83",
   "metadata": {},
   "source": [
    "#### NOTE: (Add to final report)\n",
    "\n",
    "- News Tweets are about 1% of the entire dataset and hence assumed to not affect the analysis results. \n",
    "\n",
    "- Also, it is difficult to distinguish between the actual news tweets and private accounts sharing news."
   ]
  },
  {
   "cell_type": "markdown",
   "id": "f1e7e065",
   "metadata": {},
   "source": [
    "### Vader Sentiment Analysis"
   ]
  },
  {
   "cell_type": "markdown",
   "id": "cf015571",
   "metadata": {},
   "source": [
    "VADER (Valence Aware Dictionary and sEntiment Reasoner) is a lexicon and rule-based sentiment analysis tool that is specifically attuned to sentiments expressed in social media. It is fully open-sourced under the [MIT License] "
   ]
  },
  {
   "cell_type": "code",
   "execution_count": 71,
   "id": "4f70a6e8",
   "metadata": {},
   "outputs": [],
   "source": [
    "# Import dependencies, modules required for sentiment analysis from vader package which is \n",
    "# Previously installed in the python environment\n",
    "from vaderSentiment.vaderSentiment import SentimentIntensityAnalyzer\n",
    "analyzer = SentimentIntensityAnalyzer()"
   ]
  },
  {
   "cell_type": "code",
   "execution_count": 72,
   "id": "309ac0ea",
   "metadata": {},
   "outputs": [
    {
     "data": {
      "text/html": [
       "<div>\n",
       "<style scoped>\n",
       "    .dataframe tbody tr th:only-of-type {\n",
       "        vertical-align: middle;\n",
       "    }\n",
       "\n",
       "    .dataframe tbody tr th {\n",
       "        vertical-align: top;\n",
       "    }\n",
       "\n",
       "    .dataframe thead th {\n",
       "        text-align: right;\n",
       "    }\n",
       "</style>\n",
       "<table border=\"1\" class=\"dataframe\">\n",
       "  <thead>\n",
       "    <tr style=\"text-align: right;\">\n",
       "      <th></th>\n",
       "      <th>neg</th>\n",
       "      <th>neu</th>\n",
       "      <th>pos</th>\n",
       "      <th>compound</th>\n",
       "    </tr>\n",
       "  </thead>\n",
       "  <tbody>\n",
       "    <tr>\n",
       "      <th>2103682</th>\n",
       "      <td>0.155</td>\n",
       "      <td>0.743</td>\n",
       "      <td>0.101</td>\n",
       "      <td>-0.3818</td>\n",
       "    </tr>\n",
       "    <tr>\n",
       "      <th>2103683</th>\n",
       "      <td>0.257</td>\n",
       "      <td>0.563</td>\n",
       "      <td>0.180</td>\n",
       "      <td>-0.6815</td>\n",
       "    </tr>\n",
       "    <tr>\n",
       "      <th>2103684</th>\n",
       "      <td>0.155</td>\n",
       "      <td>0.743</td>\n",
       "      <td>0.101</td>\n",
       "      <td>-0.3818</td>\n",
       "    </tr>\n",
       "    <tr>\n",
       "      <th>2103685</th>\n",
       "      <td>0.155</td>\n",
       "      <td>0.743</td>\n",
       "      <td>0.101</td>\n",
       "      <td>-0.3818</td>\n",
       "    </tr>\n",
       "    <tr>\n",
       "      <th>2103686</th>\n",
       "      <td>0.192</td>\n",
       "      <td>0.808</td>\n",
       "      <td>0.000</td>\n",
       "      <td>-0.7845</td>\n",
       "    </tr>\n",
       "    <tr>\n",
       "      <th>2103687</th>\n",
       "      <td>0.000</td>\n",
       "      <td>1.000</td>\n",
       "      <td>0.000</td>\n",
       "      <td>0.0000</td>\n",
       "    </tr>\n",
       "    <tr>\n",
       "      <th>2103688</th>\n",
       "      <td>0.000</td>\n",
       "      <td>0.858</td>\n",
       "      <td>0.142</td>\n",
       "      <td>0.6808</td>\n",
       "    </tr>\n",
       "    <tr>\n",
       "      <th>2103689</th>\n",
       "      <td>0.268</td>\n",
       "      <td>0.732</td>\n",
       "      <td>0.000</td>\n",
       "      <td>-0.8470</td>\n",
       "    </tr>\n",
       "    <tr>\n",
       "      <th>2103690</th>\n",
       "      <td>0.049</td>\n",
       "      <td>0.722</td>\n",
       "      <td>0.229</td>\n",
       "      <td>0.7579</td>\n",
       "    </tr>\n",
       "    <tr>\n",
       "      <th>2103691</th>\n",
       "      <td>0.191</td>\n",
       "      <td>0.809</td>\n",
       "      <td>0.000</td>\n",
       "      <td>-0.8743</td>\n",
       "    </tr>\n",
       "  </tbody>\n",
       "</table>\n",
       "</div>"
      ],
      "text/plain": [
       "           neg    neu    pos  compound\n",
       "2103682  0.155  0.743  0.101   -0.3818\n",
       "2103683  0.257  0.563  0.180   -0.6815\n",
       "2103684  0.155  0.743  0.101   -0.3818\n",
       "2103685  0.155  0.743  0.101   -0.3818\n",
       "2103686  0.192  0.808  0.000   -0.7845\n",
       "2103687  0.000  1.000  0.000    0.0000\n",
       "2103688  0.000  0.858  0.142    0.6808\n",
       "2103689  0.268  0.732  0.000   -0.8470\n",
       "2103690  0.049  0.722  0.229    0.7579\n",
       "2103691  0.191  0.809  0.000   -0.8743"
      ]
     },
     "execution_count": 72,
     "metadata": {},
     "output_type": "execute_result"
    }
   ],
   "source": [
    "# Generate sentiment for all the sentnces present in the data set\n",
    "def sentiment_scores(df, column_name):\n",
    "    sentiment_score_list=[]\n",
    "    for row in df[column_name]:\n",
    "        vader_sentiment = analyzer.polarity_scores(row)\n",
    "        sentiment_score_list.append(vader_sentiment)\n",
    "    return pd.DataFrame(sentiment_score_list)\n",
    "    \n",
    "# Let us create sentiment dataframe for tweets using above function\n",
    "sentiments_df = sentiment_scores(cleaned_tweets_df,'text')\n",
    "sentiments_df.tail(10)"
   ]
  },
  {
   "cell_type": "code",
   "execution_count": 73,
   "id": "15da6f2b",
   "metadata": {},
   "outputs": [],
   "source": [
    "# Concatenate tweets and sentiment scores into a new dataframe\n",
    "tweet_sentiments_df = pd.concat([cleaned_tweets_df,sentiments_df],axis=1)"
   ]
  },
  {
   "cell_type": "code",
   "execution_count": 74,
   "id": "3e7ff946",
   "metadata": {},
   "outputs": [
    {
     "data": {
      "text/html": [
       "<div>\n",
       "<style scoped>\n",
       "    .dataframe tbody tr th:only-of-type {\n",
       "        vertical-align: middle;\n",
       "    }\n",
       "\n",
       "    .dataframe tbody tr th {\n",
       "        vertical-align: top;\n",
       "    }\n",
       "\n",
       "    .dataframe thead th {\n",
       "        text-align: right;\n",
       "    }\n",
       "</style>\n",
       "<table border=\"1\" class=\"dataframe\">\n",
       "  <thead>\n",
       "    <tr style=\"text-align: right;\">\n",
       "      <th></th>\n",
       "      <th>tweetcreatedts</th>\n",
       "      <th>text</th>\n",
       "      <th>location</th>\n",
       "      <th>hashtags</th>\n",
       "      <th>retweetcount</th>\n",
       "      <th>favorite_count</th>\n",
       "      <th>country</th>\n",
       "      <th>neg</th>\n",
       "      <th>neu</th>\n",
       "      <th>pos</th>\n",
       "      <th>compound</th>\n",
       "    </tr>\n",
       "  </thead>\n",
       "  <tbody>\n",
       "    <tr>\n",
       "      <th>0</th>\n",
       "      <td>2022-03-08</td>\n",
       "      <td>a fox s tale   for</td>\n",
       "      <td>Orkney Scotland</td>\n",
       "      <td>[{'text': 'Ukraine', 'indices': [19, 27]}]</td>\n",
       "      <td>0.0</td>\n",
       "      <td>0.0</td>\n",
       "      <td>uk</td>\n",
       "      <td>0.0</td>\n",
       "      <td>1.0</td>\n",
       "      <td>0.0</td>\n",
       "      <td>0.0</td>\n",
       "    </tr>\n",
       "    <tr>\n",
       "      <th>1</th>\n",
       "      <td>2022-03-08</td>\n",
       "      <td>ukraine</td>\n",
       "      <td>Hyères, France</td>\n",
       "      <td>[{'text': 'Ukraine', 'indices': [11, 19]}, {'text': 'Zelensky', 'indices': [20, 29]}, {'text': 'Putin', 'indices': [34, 40]}, {'text': 'WarCrimes', 'indices': [41, 51]}, {'text': 'Russia', 'indices': [58, 65]}]</td>\n",
       "      <td>0.0</td>\n",
       "      <td>0.0</td>\n",
       "      <td>france</td>\n",
       "      <td>0.0</td>\n",
       "      <td>1.0</td>\n",
       "      <td>0.0</td>\n",
       "      <td>0.0</td>\n",
       "    </tr>\n",
       "    <tr>\n",
       "      <th>2</th>\n",
       "      <td>2022-03-08</td>\n",
       "      <td>russia s  enlargement redlines     cable from   written by  director william j  burns  then us ambassador to moscow link</td>\n",
       "      <td>Essonne, Ile-de-France</td>\n",
       "      <td>[{'text': 'NATO', 'indices': [25, 30]}, {'text': 'Ukraine', 'indices': [55, 63]}, {'text': 'CIA', 'indices': [91, 95]}]</td>\n",
       "      <td>1377.0</td>\n",
       "      <td>0.0</td>\n",
       "      <td>france</td>\n",
       "      <td>0.0</td>\n",
       "      <td>1.0</td>\n",
       "      <td>0.0</td>\n",
       "      <td>0.0</td>\n",
       "    </tr>\n",
       "  </tbody>\n",
       "</table>\n",
       "</div>"
      ],
      "text/plain": [
       "  tweetcreatedts  \\\n",
       "0     2022-03-08   \n",
       "1     2022-03-08   \n",
       "2     2022-03-08   \n",
       "\n",
       "                                                                                                                           text  \\\n",
       "0                                                                                                          a fox s tale   for     \n",
       "1                                                                                                      ukraine                    \n",
       "2   russia s  enlargement redlines     cable from   written by  director william j  burns  then us ambassador to moscow link      \n",
       "\n",
       "                 location  \\\n",
       "0         Orkney Scotland   \n",
       "1          Hyères, France   \n",
       "2  Essonne, Ile-de-France   \n",
       "\n",
       "                                                                                                                                                                                                             hashtags  \\\n",
       "0                                                                                                                                                                          [{'text': 'Ukraine', 'indices': [19, 27]}]   \n",
       "1  [{'text': 'Ukraine', 'indices': [11, 19]}, {'text': 'Zelensky', 'indices': [20, 29]}, {'text': 'Putin', 'indices': [34, 40]}, {'text': 'WarCrimes', 'indices': [41, 51]}, {'text': 'Russia', 'indices': [58, 65]}]   \n",
       "2                                                                                             [{'text': 'NATO', 'indices': [25, 30]}, {'text': 'Ukraine', 'indices': [55, 63]}, {'text': 'CIA', 'indices': [91, 95]}]   \n",
       "\n",
       "  retweetcount  favorite_count country  neg  neu  pos  compound  \n",
       "0          0.0             0.0      uk  0.0  1.0  0.0       0.0  \n",
       "1          0.0             0.0  france  0.0  1.0  0.0       0.0  \n",
       "2       1377.0             0.0  france  0.0  1.0  0.0       0.0  "
      ]
     },
     "execution_count": 74,
     "metadata": {},
     "output_type": "execute_result"
    }
   ],
   "source": [
    "#tweet_sentiments_df = pd.concat([cleaned_tweets_df.reset_index(drop=True),sentiments_df],axis=1)\n",
    "tweet_sentiments_df.head(3)"
   ]
  },
  {
   "cell_type": "code",
   "execution_count": 76,
   "id": "e34e6702",
   "metadata": {},
   "outputs": [
    {
     "data": {
      "text/html": [
       "<div>\n",
       "<style scoped>\n",
       "    .dataframe tbody tr th:only-of-type {\n",
       "        vertical-align: middle;\n",
       "    }\n",
       "\n",
       "    .dataframe tbody tr th {\n",
       "        vertical-align: top;\n",
       "    }\n",
       "\n",
       "    .dataframe thead th {\n",
       "        text-align: right;\n",
       "    }\n",
       "</style>\n",
       "<table border=\"1\" class=\"dataframe\">\n",
       "  <thead>\n",
       "    <tr style=\"text-align: right;\">\n",
       "      <th></th>\n",
       "      <th>compound</th>\n",
       "    </tr>\n",
       "  </thead>\n",
       "  <tbody>\n",
       "    <tr>\n",
       "      <th>count</th>\n",
       "      <td>2.103692e+06</td>\n",
       "    </tr>\n",
       "    <tr>\n",
       "      <th>mean</th>\n",
       "      <td>-6.698872e-02</td>\n",
       "    </tr>\n",
       "    <tr>\n",
       "      <th>std</th>\n",
       "      <td>5.278712e-01</td>\n",
       "    </tr>\n",
       "    <tr>\n",
       "      <th>min</th>\n",
       "      <td>-9.977000e-01</td>\n",
       "    </tr>\n",
       "    <tr>\n",
       "      <th>25%</th>\n",
       "      <td>-5.267000e-01</td>\n",
       "    </tr>\n",
       "    <tr>\n",
       "      <th>50%</th>\n",
       "      <td>0.000000e+00</td>\n",
       "    </tr>\n",
       "    <tr>\n",
       "      <th>75%</th>\n",
       "      <td>3.818000e-01</td>\n",
       "    </tr>\n",
       "    <tr>\n",
       "      <th>max</th>\n",
       "      <td>9.961000e-01</td>\n",
       "    </tr>\n",
       "  </tbody>\n",
       "</table>\n",
       "</div>"
      ],
      "text/plain": [
       "           compound\n",
       "count  2.103692e+06\n",
       "mean  -6.698872e-02\n",
       "std    5.278712e-01\n",
       "min   -9.977000e-01\n",
       "25%   -5.267000e-01\n",
       "50%    0.000000e+00\n",
       "75%    3.818000e-01\n",
       "max    9.961000e-01"
      ]
     },
     "execution_count": 76,
     "metadata": {},
     "output_type": "execute_result"
    }
   ],
   "source": [
    "# check the data distribution using describe function\n",
    "tweet_sentiments_df[['compound']].describe()"
   ]
  },
  {
   "cell_type": "code",
   "execution_count": 124,
   "id": "99ff8787",
   "metadata": {},
   "outputs": [
    {
     "data": {
      "text/html": [
       "<div>\n",
       "<style scoped>\n",
       "    .dataframe tbody tr th:only-of-type {\n",
       "        vertical-align: middle;\n",
       "    }\n",
       "\n",
       "    .dataframe tbody tr th {\n",
       "        vertical-align: top;\n",
       "    }\n",
       "\n",
       "    .dataframe thead th {\n",
       "        text-align: right;\n",
       "    }\n",
       "</style>\n",
       "<table border=\"1\" class=\"dataframe\">\n",
       "  <thead>\n",
       "    <tr style=\"text-align: right;\">\n",
       "      <th></th>\n",
       "      <th>tweetcreatedts</th>\n",
       "      <th>text</th>\n",
       "      <th>location</th>\n",
       "      <th>hashtags</th>\n",
       "      <th>retweetcount</th>\n",
       "      <th>favorite_count</th>\n",
       "      <th>country</th>\n",
       "      <th>neg</th>\n",
       "      <th>neu</th>\n",
       "      <th>pos</th>\n",
       "      <th>compound</th>\n",
       "      <th>sentiment</th>\n",
       "    </tr>\n",
       "  </thead>\n",
       "  <tbody>\n",
       "    <tr>\n",
       "      <th>0</th>\n",
       "      <td>2022-03-08</td>\n",
       "      <td>a fox s tale   for</td>\n",
       "      <td>Orkney Scotland</td>\n",
       "      <td>[{'text': 'Ukraine', 'indices': [19, 27]}]</td>\n",
       "      <td>0.0</td>\n",
       "      <td>0.0</td>\n",
       "      <td>uk</td>\n",
       "      <td>0.00</td>\n",
       "      <td>1.000</td>\n",
       "      <td>0.000</td>\n",
       "      <td>0.0000</td>\n",
       "      <td>neutral</td>\n",
       "    </tr>\n",
       "    <tr>\n",
       "      <th>1</th>\n",
       "      <td>2022-03-08</td>\n",
       "      <td>ukraine</td>\n",
       "      <td>Hyères, France</td>\n",
       "      <td>[{'text': 'Ukraine', 'indices': [11, 19]}, {'text': 'Zelensky', 'indices': [20, 29]}, {'text': 'Putin', 'indices': [34, 40]}, {'text': 'WarCrimes', 'indices': [41, 51]}, {'text': 'Russia', 'indices': [58, 65]}]</td>\n",
       "      <td>0.0</td>\n",
       "      <td>0.0</td>\n",
       "      <td>france</td>\n",
       "      <td>0.00</td>\n",
       "      <td>1.000</td>\n",
       "      <td>0.000</td>\n",
       "      <td>0.0000</td>\n",
       "      <td>neutral</td>\n",
       "    </tr>\n",
       "    <tr>\n",
       "      <th>2</th>\n",
       "      <td>2022-03-08</td>\n",
       "      <td>russia s  enlargement redlines     cable from   written by  director william j  burns  then us ambassador to moscow link</td>\n",
       "      <td>Essonne, Ile-de-France</td>\n",
       "      <td>[{'text': 'NATO', 'indices': [25, 30]}, {'text': 'Ukraine', 'indices': [55, 63]}, {'text': 'CIA', 'indices': [91, 95]}]</td>\n",
       "      <td>1377.0</td>\n",
       "      <td>0.0</td>\n",
       "      <td>france</td>\n",
       "      <td>0.00</td>\n",
       "      <td>1.000</td>\n",
       "      <td>0.000</td>\n",
       "      <td>0.0000</td>\n",
       "      <td>neutral</td>\n",
       "    </tr>\n",
       "    <tr>\n",
       "      <th>3</th>\n",
       "      <td>2022-03-08</td>\n",
       "      <td>can t help but think that hm queen is quietly saying it with flowers</td>\n",
       "      <td>Australia</td>\n",
       "      <td>[{'text': 'Ukraine️', 'indices': [89, 98]}]</td>\n",
       "      <td>34.0</td>\n",
       "      <td>0.0</td>\n",
       "      <td>australia</td>\n",
       "      <td>0.00</td>\n",
       "      <td>0.875</td>\n",
       "      <td>0.125</td>\n",
       "      <td>0.2144</td>\n",
       "      <td>neutral</td>\n",
       "    </tr>\n",
       "    <tr>\n",
       "      <th>4</th>\n",
       "      <td>2022-03-08</td>\n",
       "      <td>another invading  general killed by  freedom fighters</td>\n",
       "      <td>Hyères, France</td>\n",
       "      <td>[{'text': 'Russian', 'indices': [36, 44]}, {'text': 'Ukraine', 'indices': [63, 71]}]</td>\n",
       "      <td>2.0</td>\n",
       "      <td>0.0</td>\n",
       "      <td>france</td>\n",
       "      <td>0.41</td>\n",
       "      <td>0.288</td>\n",
       "      <td>0.302</td>\n",
       "      <td>-0.1280</td>\n",
       "      <td>neutral</td>\n",
       "    </tr>\n",
       "  </tbody>\n",
       "</table>\n",
       "</div>"
      ],
      "text/plain": [
       "  tweetcreatedts  \\\n",
       "0     2022-03-08   \n",
       "1     2022-03-08   \n",
       "2     2022-03-08   \n",
       "3     2022-03-08   \n",
       "4     2022-03-08   \n",
       "\n",
       "                                                                                                                           text  \\\n",
       "0                                                                                                          a fox s tale   for     \n",
       "1                                                                                                      ukraine                    \n",
       "2   russia s  enlargement redlines     cable from   written by  director william j  burns  then us ambassador to moscow link      \n",
       "3                                                      can t help but think that hm queen is quietly saying it with flowers       \n",
       "4                                                                      another invading  general killed by  freedom fighters      \n",
       "\n",
       "                 location  \\\n",
       "0         Orkney Scotland   \n",
       "1          Hyères, France   \n",
       "2  Essonne, Ile-de-France   \n",
       "3              Australia    \n",
       "4          Hyères, France   \n",
       "\n",
       "                                                                                                                                                                                                             hashtags  \\\n",
       "0                                                                                                                                                                          [{'text': 'Ukraine', 'indices': [19, 27]}]   \n",
       "1  [{'text': 'Ukraine', 'indices': [11, 19]}, {'text': 'Zelensky', 'indices': [20, 29]}, {'text': 'Putin', 'indices': [34, 40]}, {'text': 'WarCrimes', 'indices': [41, 51]}, {'text': 'Russia', 'indices': [58, 65]}]   \n",
       "2                                                                                             [{'text': 'NATO', 'indices': [25, 30]}, {'text': 'Ukraine', 'indices': [55, 63]}, {'text': 'CIA', 'indices': [91, 95]}]   \n",
       "3                                                                                                                                                                         [{'text': 'Ukraine️', 'indices': [89, 98]}]   \n",
       "4                                                                                                                                [{'text': 'Russian', 'indices': [36, 44]}, {'text': 'Ukraine', 'indices': [63, 71]}]   \n",
       "\n",
       "  retweetcount  favorite_count    country   neg    neu    pos  compound  \\\n",
       "0          0.0             0.0         uk  0.00  1.000  0.000    0.0000   \n",
       "1          0.0             0.0     france  0.00  1.000  0.000    0.0000   \n",
       "2       1377.0             0.0     france  0.00  1.000  0.000    0.0000   \n",
       "3         34.0             0.0  australia  0.00  0.875  0.125    0.2144   \n",
       "4          2.0             0.0     france  0.41  0.288  0.302   -0.1280   \n",
       "\n",
       "  sentiment  \n",
       "0   neutral  \n",
       "1   neutral  \n",
       "2   neutral  \n",
       "3   neutral  \n",
       "4   neutral  "
      ]
     },
     "execution_count": 124,
     "metadata": {},
     "output_type": "execute_result"
    }
   ],
   "source": [
    "# convert scores into positive, neutral, negative \n",
    "\n",
    "# create a list of conditions\n",
    "conditions = [\n",
    "              (tweet_sentiments_df['compound'] < -0.3),\n",
    "              (tweet_sentiments_df['compound'] >= -0.3) &(tweet_sentiments_df['compound'] < 0.3),\n",
    "              (tweet_sentiments_df['compound'] >= 0.3)\n",
    "              ]\n",
    "\n",
    "# create a list of values corresponding with each condition -1 for negative, 0 neutral and 1 positive\n",
    "values = ['negative','neutral','positive']\n",
    "\n",
    "\n",
    "tweet_sentiments_df['sentiment'] = np.select(conditions, values)\n",
    "tweet_sentiments_df.head()"
   ]
  },
  {
   "cell_type": "code",
   "execution_count": 125,
   "id": "3e88472b",
   "metadata": {},
   "outputs": [
    {
     "data": {
      "text/plain": [
       "negative    770308\n",
       "neutral     746784\n",
       "positive    586600\n",
       "Name: sentiment, dtype: int64"
      ]
     },
     "execution_count": 125,
     "metadata": {},
     "output_type": "execute_result"
    }
   ],
   "source": [
    "tweet_sentiments_df['sentiment'].value_counts()"
   ]
  },
  {
   "cell_type": "code",
   "execution_count": 126,
   "id": "6b8d3cee",
   "metadata": {},
   "outputs": [
    {
     "data": {
      "text/plain": [
       "<AxesSubplot:>"
      ]
     },
     "execution_count": 126,
     "metadata": {},
     "output_type": "execute_result"
    },
    {
     "data": {
      "image/png": "[encoded data removed]",
      "text/plain": [
       "<Figure size 432x288 with 1 Axes>"
      ]
     },
     "metadata": {},
     "output_type": "display_data"
    }
   ],
   "source": [
    "# import dependencies for visualization\n",
    "import matplotlib.pyplot as plt\n",
    "plt.style.use('fivethirtyeight')\n",
    "\n",
    "# Vizualization\n",
    "results = tweet_sentiments_df['sentiment'].value_counts()\n",
    "results.plot(kind='bar',rot=0,color=['purple','limegreen','skyblue'])"
   ]
  },
  {
   "cell_type": "markdown",
   "id": "338c33ba",
   "metadata": {},
   "source": [
    "### Saving the Data into various forms for further analysis:"
   ]
  },
  {
   "cell_type": "markdown",
   "id": "5316120d",
   "metadata": {},
   "source": [
    "### Save the cleaned_tweets_df dataframe as csv data set"
   ]
  },
  {
   "cell_type": "code",
   "execution_count": 38,
   "id": "28be252d",
   "metadata": {},
   "outputs": [],
   "source": [
    "cleaned_tweets_df.to_csv('Datasets_Final_Project/cleaned_tweets_with_additional_countries.csv', index=False)"
   ]
  },
  {
   "cell_type": "markdown",
   "id": "816d7519",
   "metadata": {},
   "source": [
    "### Save the tweet_sentiments_df dataframe as csv data set"
   ]
  },
  {
   "cell_type": "code",
   "execution_count": 103,
   "id": "75d8cd56",
   "metadata": {},
   "outputs": [],
   "source": [
    "# save the above dataframe as a csv\n",
    "tweet_sentiments_df.to_csv('Datasets_Final_Project/tweet_sentiments_with_additional_countries_equal_bins.csv', index=False)"
   ]
  },
  {
   "cell_type": "markdown",
   "id": "6065a662",
   "metadata": {},
   "source": [
    "### Save the  cleaned_tweets_df dataframe as sqlite data set"
   ]
  },
  {
   "cell_type": "code",
   "execution_count": 554,
   "id": "3f0aaea2",
   "metadata": {},
   "outputs": [],
   "source": [
    "#import sqlite3\n",
    "#conn = sqlite3.connect('Datasets_Final_Project/cleaned_tweets.sqlite')\n",
    "#cleaned_tweets_df.to_sql(name='cleaned_tweets', con=conn)\n",
    "#conn.close()"
   ]
  },
  {
   "cell_type": "markdown",
   "id": "d53e4ba8",
   "metadata": {},
   "source": [
    "### Save the tweet_sentiments_df dataframe as sqlite data set"
   ]
  },
  {
   "cell_type": "code",
   "execution_count": null,
   "id": "01cc02a4",
   "metadata": {},
   "outputs": [],
   "source": [
    "import sqlite3\n",
    "conn = sqlite3.connect('Datasets_Final_Project/tweet_sentiments_df.sqlite')\n",
    "tweet_sentiments_df.to_sql(name='tweet_sentiments',con=conn)\n",
    "conn.close()"
   ]
  },
  {
   "cell_type": "markdown",
   "id": "9e473b14",
   "metadata": {},
   "source": [
    "### Save the cleaned_tweets_df dataframe as json data set"
   ]
  },
  {
   "cell_type": "code",
   "execution_count": 320,
   "id": "5369905d",
   "metadata": {},
   "outputs": [],
   "source": [
    "cleaned_tweets_df.to_json('Datasets_Final_Project/cleaned_tweets.json')"
   ]
  },
  {
   "cell_type": "markdown",
   "id": "a90f7d93",
   "metadata": {},
   "source": [
    "### Save the tweet_sentiments_df dataframe as json data set"
   ]
  },
  {
   "cell_type": "code",
   "execution_count": 321,
   "id": "97ce2f1e",
   "metadata": {},
   "outputs": [],
   "source": [
    "tweet_sentiments_df.to_json('Datasets_Final_Project/tweet_sentiments.json')"
   ]
  }
 ],
 "metadata": {
  "kernelspec": {
   "display_name": "Python 3 (ipykernel)",
   "language": "python",
   "name": "python3"
  },
  "language_info": {
   "codemirror_mode": {
    "name": "ipython",
    "version": 3
   },
   "file_extension": ".py",
   "mimetype": "text/x-python",
   "name": "python",
   "nbconvert_exporter": "python",
   "pygments_lexer": "ipython3",
   "version": "3.8.12"
  }
 },
 "nbformat": 4,
 "nbformat_minor": 5
}
