{
  "cells": [
    {
      "cell_type": "markdown",
      "metadata": {},
      "source": [
        "# Comparison of Machine Learning Models for Sentiment Analysis\n",
        "- Random Forest\n",
        "- Support Vector Classification (SVC)\n",
        "- Multinomial Naive Bayes\n",
        "- Logistic Regression"
      ]
    },
    {
      "cell_type": "code",
      "execution_count": 50,
      "metadata": {},
      "outputs": [],
      "source": [
        "# import dependencies\n",
        "import pandas as pd\n",
        "import numpy as np\n",
        "import seaborn as sns\n",
        "import matplotlib.pyplot as plt\n",
        "import matplotlib.ticker as tick\n",
        "plt.style.use('fivethirtyeight')\n",
        "\n",
        "from sklearn.model_selection import train_test_split\n",
        "from sklearn import metrics\n",
        "from sklearn.metrics import confusion_matrix, ConfusionMatrixDisplay, classification_report\n",
        "from sklearn.metrics import accuracy_score, recall_score, get_scorer, f1_score,roc_auc_score,precision_score\n",
        "from sklearn.feature_extraction.text import CountVectorizer\n",
        "from sklearn.feature_extraction.text import TfidfVectorizer\n",
        "from sklearn.feature_extraction.text import TfidfTransformer\n",
        "from sklearn.linear_model import LogisticRegression\n",
        "from sklearn.ensemble import RandomForestClassifier\n",
        "from sklearn.svm import LinearSVC\n",
        "from sklearn.model_selection import cross_val_score\n",
        "from sklearn.naive_bayes import MultinomialNB\n",
        "#from xgboost import XGBClassifier # maybe excluse this"
      ]
    },
    {
      "cell_type": "code",
      "execution_count": 2,
      "metadata": {},
      "outputs": [
        {
          "data": {
            "text/html": [
              "<div>\n",
              "<style scoped>\n",
              "    .dataframe tbody tr th:only-of-type {\n",
              "        vertical-align: middle;\n",
              "    }\n",
              "\n",
              "    .dataframe tbody tr th {\n",
              "        vertical-align: top;\n",
              "    }\n",
              "\n",
              "    .dataframe thead th {\n",
              "        text-align: right;\n",
              "    }\n",
              "</style>\n",
              "<table border=\"1\" class=\"dataframe\">\n",
              "  <thead>\n",
              "    <tr style=\"text-align: right;\">\n",
              "      <th></th>\n",
              "      <th>location</th>\n",
              "      <th>tweetcreatedts</th>\n",
              "      <th>text</th>\n",
              "      <th>country</th>\n",
              "      <th>neg</th>\n",
              "      <th>neu</th>\n",
              "      <th>pos</th>\n",
              "      <th>compound</th>\n",
              "      <th>sentiment</th>\n",
              "    </tr>\n",
              "  </thead>\n",
              "  <tbody>\n",
              "    <tr>\n",
              "      <th>0</th>\n",
              "      <td>India</td>\n",
              "      <td>2022-03-01</td>\n",
              "      <td>urges government to rescue student along wit...</td>\n",
              "      <td>india</td>\n",
              "      <td>0.000</td>\n",
              "      <td>0.769</td>\n",
              "      <td>0.231</td>\n",
              "      <td>0.5106</td>\n",
              "      <td>positive</td>\n",
              "    </tr>\n",
              "    <tr>\n",
              "      <th>1</th>\n",
              "      <td>Stoney Creek, Ontario</td>\n",
              "      <td>2022-03-01</td>\n",
              "      <td>moscow underground  sometimes the act of resis...</td>\n",
              "      <td>canada</td>\n",
              "      <td>0.000</td>\n",
              "      <td>0.880</td>\n",
              "      <td>0.120</td>\n",
              "      <td>0.3818</td>\n",
              "      <td>positive</td>\n",
              "    </tr>\n",
              "    <tr>\n",
              "      <th>2</th>\n",
              "      <td>Los Angeles, CA</td>\n",
              "      <td>2022-03-01</td>\n",
              "      <td>via   video game industry shares support for u...</td>\n",
              "      <td>usa</td>\n",
              "      <td>0.219</td>\n",
              "      <td>0.506</td>\n",
              "      <td>0.275</td>\n",
              "      <td>0.0000</td>\n",
              "      <td>neutral</td>\n",
              "    </tr>\n",
              "    <tr>\n",
              "      <th>3</th>\n",
              "      <td>Australia</td>\n",
              "      <td>2022-03-01</td>\n",
              "      <td>tomlinson had planned stops in kyiv on july   ...</td>\n",
              "      <td>australia</td>\n",
              "      <td>0.127</td>\n",
              "      <td>0.873</td>\n",
              "      <td>0.000</td>\n",
              "      <td>-0.1531</td>\n",
              "      <td>negative</td>\n",
              "    </tr>\n",
              "    <tr>\n",
              "      <th>4</th>\n",
              "      <td>Ukraine</td>\n",
              "      <td>2022-03-01</td>\n",
              "      <td>stop russian aggression against    close the ...</td>\n",
              "      <td>ukraine</td>\n",
              "      <td>0.320</td>\n",
              "      <td>0.558</td>\n",
              "      <td>0.122</td>\n",
              "      <td>-0.4404</td>\n",
              "      <td>negative</td>\n",
              "    </tr>\n",
              "  </tbody>\n",
              "</table>\n",
              "</div>"
            ],
            "text/plain": [
              "                location tweetcreatedts  \\\n",
              "0                  India     2022-03-01   \n",
              "1  Stoney Creek, Ontario     2022-03-01   \n",
              "2        Los Angeles, CA     2022-03-01   \n",
              "3              Australia     2022-03-01   \n",
              "4                Ukraine     2022-03-01   \n",
              "\n",
              "                                                text    country    neg    neu  \\\n",
              "0    urges government to rescue student along wit...      india  0.000  0.769   \n",
              "1  moscow underground  sometimes the act of resis...     canada  0.000  0.880   \n",
              "2  via   video game industry shares support for u...        usa  0.219  0.506   \n",
              "3  tomlinson had planned stops in kyiv on july   ...  australia  0.127  0.873   \n",
              "4   stop russian aggression against    close the ...    ukraine  0.320  0.558   \n",
              "\n",
              "     pos  compound sentiment  \n",
              "0  0.231    0.5106  positive  \n",
              "1  0.120    0.3818  positive  \n",
              "2  0.275    0.0000   neutral  \n",
              "3  0.000   -0.1531  negative  \n",
              "4  0.122   -0.4404  negative  "
            ]
          },
          "execution_count": 2,
          "metadata": {},
          "output_type": "execute_result"
        }
      ],
      "source": [
        "# load data\n",
        "tweet_sentiments_df = pd.read_csv('resources/dataset/tweet_sentiments_consolidated.csv')\n",
        "tweet_sentiments_df.head()"
      ]
    },
    {
      "cell_type": "code",
      "execution_count": 3,
      "metadata": {},
      "outputs": [
        {
          "data": {
            "text/plain": [
              "negative    448490\n",
              "positive    359758\n",
              "neutral     156081\n",
              "Name: sentiment, dtype: int64"
            ]
          },
          "execution_count": 3,
          "metadata": {},
          "output_type": "execute_result"
        }
      ],
      "source": [
        "# check the count of the sent_score where Negative, Positive, Neutral\n",
        "tweet_sentiments_df[\"sentiment\"].value_counts()"
      ]
    },
    {
      "cell_type": "code",
      "execution_count": 5,
      "metadata": {},
      "outputs": [],
      "source": [
        "# Dropping all neutral sentiments to generalize the model\n",
        "tweet_sentiments_df = tweet_sentiments_df[tweet_sentiments_df[\"sentiment\"]!=\"neutral\"]"
      ]
    },
    {
      "cell_type": "code",
      "execution_count": 6,
      "metadata": {},
      "outputs": [
        {
          "data": {
            "text/html": [
              "<div>\n",
              "<style scoped>\n",
              "    .dataframe tbody tr th:only-of-type {\n",
              "        vertical-align: middle;\n",
              "    }\n",
              "\n",
              "    .dataframe tbody tr th {\n",
              "        vertical-align: top;\n",
              "    }\n",
              "\n",
              "    .dataframe thead th {\n",
              "        text-align: right;\n",
              "    }\n",
              "</style>\n",
              "<table border=\"1\" class=\"dataframe\">\n",
              "  <thead>\n",
              "    <tr style=\"text-align: right;\">\n",
              "      <th></th>\n",
              "      <th>location</th>\n",
              "      <th>tweetcreatedts</th>\n",
              "      <th>text</th>\n",
              "      <th>country</th>\n",
              "      <th>neg</th>\n",
              "      <th>neu</th>\n",
              "      <th>pos</th>\n",
              "      <th>compound</th>\n",
              "      <th>sentiment</th>\n",
              "      <th>sent_score</th>\n",
              "    </tr>\n",
              "  </thead>\n",
              "  <tbody>\n",
              "    <tr>\n",
              "      <th>0</th>\n",
              "      <td>India</td>\n",
              "      <td>2022-03-01</td>\n",
              "      <td>urges government to rescue student along wit...</td>\n",
              "      <td>india</td>\n",
              "      <td>0.000</td>\n",
              "      <td>0.769</td>\n",
              "      <td>0.231</td>\n",
              "      <td>0.5106</td>\n",
              "      <td>positive</td>\n",
              "      <td>0</td>\n",
              "    </tr>\n",
              "    <tr>\n",
              "      <th>1</th>\n",
              "      <td>Stoney Creek, Ontario</td>\n",
              "      <td>2022-03-01</td>\n",
              "      <td>moscow underground  sometimes the act of resis...</td>\n",
              "      <td>canada</td>\n",
              "      <td>0.000</td>\n",
              "      <td>0.880</td>\n",
              "      <td>0.120</td>\n",
              "      <td>0.3818</td>\n",
              "      <td>positive</td>\n",
              "      <td>0</td>\n",
              "    </tr>\n",
              "    <tr>\n",
              "      <th>3</th>\n",
              "      <td>Australia</td>\n",
              "      <td>2022-03-01</td>\n",
              "      <td>tomlinson had planned stops in kyiv on july   ...</td>\n",
              "      <td>australia</td>\n",
              "      <td>0.127</td>\n",
              "      <td>0.873</td>\n",
              "      <td>0.000</td>\n",
              "      <td>-0.1531</td>\n",
              "      <td>negative</td>\n",
              "      <td>1</td>\n",
              "    </tr>\n",
              "    <tr>\n",
              "      <th>4</th>\n",
              "      <td>Ukraine</td>\n",
              "      <td>2022-03-01</td>\n",
              "      <td>stop russian aggression against    close the ...</td>\n",
              "      <td>ukraine</td>\n",
              "      <td>0.320</td>\n",
              "      <td>0.558</td>\n",
              "      <td>0.122</td>\n",
              "      <td>-0.4404</td>\n",
              "      <td>negative</td>\n",
              "      <td>1</td>\n",
              "    </tr>\n",
              "    <tr>\n",
              "      <th>5</th>\n",
              "      <td>India</td>\n",
              "      <td>2022-03-01</td>\n",
              "      <td>the  crisis has forced the us and the europ...</td>\n",
              "      <td>india</td>\n",
              "      <td>0.197</td>\n",
              "      <td>0.764</td>\n",
              "      <td>0.039</td>\n",
              "      <td>-0.8020</td>\n",
              "      <td>negative</td>\n",
              "      <td>1</td>\n",
              "    </tr>\n",
              "  </tbody>\n",
              "</table>\n",
              "</div>"
            ],
            "text/plain": [
              "                location tweetcreatedts  \\\n",
              "0                  India     2022-03-01   \n",
              "1  Stoney Creek, Ontario     2022-03-01   \n",
              "3              Australia     2022-03-01   \n",
              "4                Ukraine     2022-03-01   \n",
              "5                  India     2022-03-01   \n",
              "\n",
              "                                                text    country    neg    neu  \\\n",
              "0    urges government to rescue student along wit...      india  0.000  0.769   \n",
              "1  moscow underground  sometimes the act of resis...     canada  0.000  0.880   \n",
              "3  tomlinson had planned stops in kyiv on july   ...  australia  0.127  0.873   \n",
              "4   stop russian aggression against    close the ...    ukraine  0.320  0.558   \n",
              "5     the  crisis has forced the us and the europ...      india  0.197  0.764   \n",
              "\n",
              "     pos  compound sentiment  sent_score  \n",
              "0  0.231    0.5106  positive           0  \n",
              "1  0.120    0.3818  positive           0  \n",
              "3  0.000   -0.1531  negative           1  \n",
              "4  0.122   -0.4404  negative           1  \n",
              "5  0.039   -0.8020  negative           1  "
            ]
          },
          "execution_count": 6,
          "metadata": {},
          "output_type": "execute_result"
        }
      ],
      "source": [
        "# Creating encoded column for sentiments by using .factorize() function in panda encode the object as an \n",
        "#enumerated type or categorical variable. \n",
        "tweet_sentiments_df[\"sent_score\"] = tweet_sentiments_df[\"sentiment\"].factorize()[0]\n",
        "tweet_sentiments_df.head()"
      ]
    },
    {
      "cell_type": "code",
      "execution_count": 7,
      "metadata": {},
      "outputs": [
        {
          "data": {
            "text/plain": [
              "(8083, 10)"
            ]
          },
          "execution_count": 7,
          "metadata": {},
          "output_type": "execute_result"
        }
      ],
      "source": [
        "# get random sample \n",
        "sample_df = tweet_sentiments_df.groupby('sent_score').sample(frac=.01)\n",
        "sample_df.shape"
      ]
    },
    {
      "cell_type": "code",
      "execution_count": 8,
      "metadata": {},
      "outputs": [
        {
          "data": {
            "text/plain": [
              "1    0.554868\n",
              "0    0.445132\n",
              "Name: sent_score, dtype: float64"
            ]
          },
          "execution_count": 8,
          "metadata": {},
          "output_type": "execute_result"
        }
      ],
      "source": [
        "# Standardize sentiment score distribution\n",
        "sample_df[\"sent_score\"].value_counts(normalize=True)"
      ]
    },
    {
      "cell_type": "code",
      "execution_count": 9,
      "metadata": {},
      "outputs": [],
      "source": [
        "# define independent and dependent variables\n",
        "X=sample_df['text']\n",
        "y=sample_df['sent_score']"
      ]
    },
    {
      "cell_type": "code",
      "execution_count": 10,
      "metadata": {},
      "outputs": [],
      "source": [
        "# split the data into train and test\n",
        "X_train, X_test, y_train, y_test=train_test_split(X, y, train_size=.8, random_state=42)"
      ]
    },
    {
      "cell_type": "markdown",
      "metadata": {},
      "source": [
        "## TF-IDF (Term Frequency-Inverse Document Frequency)\n",
        "It measures how many times a term exists in a document and gives less weight to most frequent terms, as those terms will probably be unhelpful in categorizing the dataset."
      ]
    },
    {
      "cell_type": "code",
      "execution_count": 11,
      "metadata": {},
      "outputs": [],
      "source": [
        "# Instantiate and fit TfidfVectorizer \n",
        "vectorizer = TfidfVectorizer(min_df=3,sublinear_tf=True,encoding=\"latin-1\", ngram_range=(1,2),\n",
        "                             stop_words='english')"
      ]
    },
    {
      "cell_type": "code",
      "execution_count": 12,
      "metadata": {},
      "outputs": [],
      "source": [
        "# Transform text into numeric vectors\n",
        "X_train_tf= vectorizer.fit_transform(X_train.reset_index()[\"text\"]).toarray()\n",
        "X_test_tf = vectorizer.transform(X_test.reset_index()[\"text\"]).toarray()"
      ]
    },
    {
      "cell_type": "code",
      "execution_count": 13,
      "metadata": {},
      "outputs": [
        {
          "data": {
            "text/plain": [
              "(6466, 8391)"
            ]
          },
          "execution_count": 13,
          "metadata": {},
          "output_type": "execute_result"
        }
      ],
      "source": [
        "X_train_tf.shape"
      ]
    },
    {
      "cell_type": "markdown",
      "metadata": {},
      "source": [
        "## Compare Models"
      ]
    },
    {
      "cell_type": "code",
      "execution_count": 35,
      "metadata": {},
      "outputs": [
        {
          "data": {
            "image/png": "[encoded data removed]",
            "text/plain": [
              "<Figure size 720x504 with 1 Axes>"
            ]
          },
          "metadata": {},
          "output_type": "display_data"
        }
      ],
      "source": [
        "# run data over various models\n",
        "models = [\n",
        "    RandomForestClassifier(n_estimators=300, max_depth=10, random_state=0),\n",
        "    LinearSVC(),\n",
        "    MultinomialNB(),\n",
        "    LogisticRegression(random_state=0)\n",
        "]\n",
        "CV = 5\n",
        "cv_df = pd.DataFrame(index=range(CV * len(models)))\n",
        "entries = []\n",
        "for model in models:\n",
        "    model_name = model.__class__.__name__\n",
        "    accuracies = cross_val_score(model, X_train_tf, y_train, scoring='accuracy', cv=CV)\n",
        "    for fold_idx, accuracy in enumerate(accuracies):\n",
        "        entries.append((model_name, fold_idx, accuracy))\n",
        "cv_df = pd.DataFrame(entries, columns=['model_name', 'fold_idx', 'accuracy'])\n",
        "\n",
        "# plot boxplots of models accuracy\n",
        "plt.subplots(figsize = (10,7))\n",
        "plt.title('Boxplots of Machine Lerning Models Accuracy')\n",
        "sns.boxplot(x='model_name', y='accuracy', data=cv_df, palette=\"Set1\", linewidth=1)\n",
        "\n",
        "plt.show()\n",
        "\n",
        "# From: https://github.com/HudaKas/Twitter-Sentiment-Analysis/blob/main/tweet%20analaysis.ipynb\n",
        "# https://towardsdatascience.com/quickly-test-multiple-models-a98477476f0"
      ]
    },
    {
      "cell_type": "code",
      "execution_count": 31,
      "metadata": {},
      "outputs": [
        {
          "data": {
            "text/plain": [
              "model_name\n",
              "LinearSVC                 0.841941\n",
              "LogisticRegression        0.839620\n",
              "MultinomialNB             0.811783\n",
              "RandomForestClassifier    0.639807\n",
              "Name: accuracy, dtype: float64"
            ]
          },
          "execution_count": 31,
          "metadata": {},
          "output_type": "execute_result"
        }
      ],
      "source": [
        "# check the mean of the accuracy for each model\n",
        "cv_df.groupby('model_name').accuracy.mean()"
      ]
    },
    {
      "cell_type": "markdown",
      "metadata": {},
      "source": [
        "## Implement Linear SVC"
      ]
    },
    {
      "cell_type": "code",
      "execution_count": 45,
      "metadata": {},
      "outputs": [
        {
          "data": {
            "text/plain": [
              "LinearSVC()"
            ]
          },
          "execution_count": 45,
          "metadata": {},
          "output_type": "execute_result"
        }
      ],
      "source": [
        "# define and fit Linear SVC model\n",
        "model = LinearSVC()\n",
        "model.fit(X_train_tf, y_train)"
      ]
    },
    {
      "cell_type": "code",
      "execution_count": 46,
      "metadata": {},
      "outputs": [
        {
          "data": {
            "text/html": [
              "<div>\n",
              "<style scoped>\n",
              "    .dataframe tbody tr th:only-of-type {\n",
              "        vertical-align: middle;\n",
              "    }\n",
              "\n",
              "    .dataframe tbody tr th {\n",
              "        vertical-align: top;\n",
              "    }\n",
              "\n",
              "    .dataframe thead th {\n",
              "        text-align: right;\n",
              "    }\n",
              "</style>\n",
              "<table border=\"1\" class=\"dataframe\">\n",
              "  <thead>\n",
              "    <tr style=\"text-align: right;\">\n",
              "      <th></th>\n",
              "      <th>Prediction</th>\n",
              "      <th>Actual</th>\n",
              "    </tr>\n",
              "  </thead>\n",
              "  <tbody>\n",
              "    <tr>\n",
              "      <th>0</th>\n",
              "      <td>1</td>\n",
              "      <td>0</td>\n",
              "    </tr>\n",
              "    <tr>\n",
              "      <th>1</th>\n",
              "      <td>1</td>\n",
              "      <td>1</td>\n",
              "    </tr>\n",
              "    <tr>\n",
              "      <th>2</th>\n",
              "      <td>1</td>\n",
              "      <td>1</td>\n",
              "    </tr>\n",
              "    <tr>\n",
              "      <th>3</th>\n",
              "      <td>0</td>\n",
              "      <td>0</td>\n",
              "    </tr>\n",
              "    <tr>\n",
              "      <th>4</th>\n",
              "      <td>1</td>\n",
              "      <td>1</td>\n",
              "    </tr>\n",
              "  </tbody>\n",
              "</table>\n",
              "</div>"
            ],
            "text/plain": [
              "   Prediction  Actual\n",
              "0           1       0\n",
              "1           1       1\n",
              "2           1       1\n",
              "3           0       0\n",
              "4           1       1"
            ]
          },
          "execution_count": 46,
          "metadata": {},
          "output_type": "execute_result"
        }
      ],
      "source": [
        "# predict outcome using model\n",
        "y_pred = model.predict(X_test_tf)\n",
        "predictions = pd.DataFrame({\n",
        "   \"Prediction\": y_pred,\n",
        "   \"Actual\": y_test\n",
        "}).reset_index(drop=True)\n",
        "predictions.head()"
      ]
    },
    {
      "cell_type": "code",
      "execution_count": 47,
      "metadata": {},
      "outputs": [
        {
          "data": {
            "text/plain": [
              "0.8373531230674088"
            ]
          },
          "execution_count": 47,
          "metadata": {},
          "output_type": "execute_result"
        }
      ],
      "source": [
        "# evaluate model\n",
        "accuracy_score(y_test, y_pred)"
      ]
    },
    {
      "cell_type": "code",
      "execution_count": 48,
      "metadata": {},
      "outputs": [
        {
          "name": "stdout",
          "output_type": "stream",
          "text": [
            "              precision    recall  f1-score   support\n",
            "\n",
            "           0       0.83      0.80      0.82       723\n",
            "           1       0.84      0.87      0.85       894\n",
            "\n",
            "    accuracy                           0.84      1617\n",
            "   macro avg       0.84      0.83      0.83      1617\n",
            "weighted avg       0.84      0.84      0.84      1617\n",
            "\n"
          ]
        }
      ],
      "source": [
        "# print confusion matrix and classification report\n",
        "confusion_matrix(y_test, y_pred)\n",
        "print(classification_report(y_test, y_pred))"
      ]
    },
    {
      "cell_type": "code",
      "execution_count": 52,
      "metadata": {},
      "outputs": [
        {
          "data": {
            "image/png": "[encoded data removed]",
            "text/plain": [
              "<Figure size 432x288 with 2 Axes>"
            ]
          },
          "metadata": {},
          "output_type": "display_data"
        }
      ],
      "source": [
        "# plot test confusion matrix\n",
        "ConfusionMatrixDisplay.from_predictions(y_test, y_pred)\n",
        "plt.show()"
      ]
    },
    {
      "cell_type": "markdown",
      "metadata": {},
      "source": [
        "# Feaure Importance\n",
        "from: https://github.com/HudaKas/Twitter-Sentiment-Analysis/blob/main/tweet%20analaysis.ipynb"
      ]
    },
    {
      "cell_type": "code",
      "execution_count": 53,
      "metadata": {},
      "outputs": [],
      "source": [
        "# Referred the below link to plot Most important features(words) within the model\n",
        "#https://aneesha.medium.com/visualising-top-features-in-linear-svm-with-scikit-learn-and-matplotlib-3454ab18a14d#:~:text=Once%20a%20linear%20SVM%20is,can%20be%20accessed%20with%20svm.&text=The%20absolute%20size%20of%20the,for%20the%20data%20separation%20task.\n",
        "\n",
        "def plot_coefficients(classifier, feature_names, top_features=20):\n",
        "    coef = classifier.coef_.ravel()\n",
        "    top_positive_coefficients = np.argsort(coef)[-top_features:]\n",
        "    top_negative_coefficients = np.argsort(coef)[:top_features]\n",
        "    top_coefficients = np.hstack([top_negative_coefficients, top_positive_coefficients])\n",
        "    \n",
        "    # create plot\n",
        "    plt.figure(figsize=(15, 5))\n",
        "    colors = ['red' if c < 0 else 'blue' for c in coef[top_coefficients]]\n",
        "    plt.bar(np.arange(2 * top_features), coef[top_coefficients], color=colors)\n",
        "    feature_names = np.array(feature_names)\n",
        "    plt.xticks(np.arange(1, 1 + 2 * top_features), feature_names[top_coefficients], rotation=60, ha='right')\n",
        "    plt.show()"
      ]
    },
    {
      "cell_type": "code",
      "execution_count": 55,
      "metadata": {},
      "outputs": [
        {
          "name": "stderr",
          "output_type": "stream",
          "text": [
            "/Users/floramatos/opt/anaconda3/envs/mlenv/lib/python3.7/site-packages/sklearn/utils/deprecation.py:87: FutureWarning: Function get_feature_names is deprecated; get_feature_names is deprecated in 1.0 and will be removed in 1.2. Please use get_feature_names_out instead.\n",
            "  warnings.warn(msg, category=FutureWarning)\n"
          ]
        },
        {
          "data": {
            "image/png": "[encoded data removed]",
            "text/plain": [
              "<Figure size 1080x360 with 1 Axes>"
            ]
          },
          "metadata": {},
          "output_type": "display_data"
        }
      ],
      "source": [
        "feature_names = vectorizer.get_feature_names() \n",
        "coefs_with_fns = sorted(zip(model.coef_[0], feature_names))\n",
        "df_feat=pd.DataFrame(coefs_with_fns)\n",
        "df_feat.columns='coefficient','word'\n",
        "df_feat.sort_values(by='coefficient')\n",
        "plot_coefficients(model, feature_names)\n",
        "#plt.savefig(\"images/.png\")"
      ]
    }
  ],
  "metadata": {
    "colab": {
      "collapsed_sections": [],
      "name": "Pipeline2.ipynb",
      "provenance": []
    },
    "interpreter": {
      "hash": "62fc6122107c95ddcaaa58529fe7fd3e7bc1a1ab022c4ef4936ed509535ca9a8"
    },
    "kernelspec": {
      "display_name": "PythonData",
      "language": "python",
      "name": "python3"
    },
    "language_info": {
      "codemirror_mode": {
        "name": "ipython",
        "version": 3
      },
      "file_extension": ".py",
      "mimetype": "text/x-python",
      "name": "python",
      "nbconvert_exporter": "python",
      "pygments_lexer": "ipython3",
      "version": "3.7.11"
    }
  },
  "nbformat": 4,
  "nbformat_minor": 0
}
