{
  "cells": [
    {
      "cell_type": "markdown",
      "metadata": {},
      "source": [
        "# Comparison of Machine Learning Models for Sentiment Analysis\n",
        "- Random Forest\n",
        "- Support Vector Classification (SVC)\n",
        "- Multinomial Naive Bayes\n",
        "- Logistic Regression"
      ]
    },
    {
      "cell_type": "code",
      "execution_count": 1,
      "metadata": {},
      "outputs": [],
      "source": [
        "# import dependencies\n",
        "import pandas as pd\n",
        "import numpy as np\n",
        "import matplotlib.pyplot as plt\n",
        "import seaborn as sns\n",
        "\n",
        "from sklearn.model_selection import train_test_split\n",
        "from sklearn import metrics\n",
        "from sklearn.metrics import confusion_matrix, plot_confusion_matrix, classification_report\n",
        "from sklearn.metrics import accuracy_score, recall_score, get_scorer, f1_score,roc_auc_score,precision_score\n",
        "from sklearn.feature_extraction.text import CountVectorizer\n",
        "from sklearn.feature_extraction.text import TfidfVectorizer\n",
        "from sklearn.feature_extraction.text import TfidfTransformer\n",
        "from sklearn.linear_model import LogisticRegression\n",
        "from sklearn.ensemble import RandomForestClassifier\n",
        "from sklearn.svm import LinearSVC\n",
        "from sklearn.model_selection import cross_val_score\n",
        "from sklearn.naive_bayes import MultinomialNB\n",
        "#from xgboost import XGBClassifier # maybe excluse this"
      ]
    },
    {
      "cell_type": "code",
      "execution_count": 2,
      "metadata": {},
      "outputs": [
        {
          "data": {
            "text/html": [
              "<div>\n",
              "<style scoped>\n",
              "    .dataframe tbody tr th:only-of-type {\n",
              "        vertical-align: middle;\n",
              "    }\n",
              "\n",
              "    .dataframe tbody tr th {\n",
              "        vertical-align: top;\n",
              "    }\n",
              "\n",
              "    .dataframe thead th {\n",
              "        text-align: right;\n",
              "    }\n",
              "</style>\n",
              "<table border=\"1\" class=\"dataframe\">\n",
              "  <thead>\n",
              "    <tr style=\"text-align: right;\">\n",
              "      <th></th>\n",
              "      <th>text</th>\n",
              "      <th>neg</th>\n",
              "      <th>neu</th>\n",
              "      <th>pos</th>\n",
              "      <th>compound</th>\n",
              "      <th>sentiment</th>\n",
              "    </tr>\n",
              "  </thead>\n",
              "  <tbody>\n",
              "    <tr>\n",
              "      <th>0</th>\n",
              "      <td>a cruise missile fired by the russian army fel...</td>\n",
              "      <td>0.265</td>\n",
              "      <td>0.735</td>\n",
              "      <td>0.000</td>\n",
              "      <td>-0.5574</td>\n",
              "      <td>negative</td>\n",
              "    </tr>\n",
              "    <tr>\n",
              "      <th>1</th>\n",
              "      <td>spread and share  you can help ukraine</td>\n",
              "      <td>0.000</td>\n",
              "      <td>0.505</td>\n",
              "      <td>0.495</td>\n",
              "      <td>0.5994</td>\n",
              "      <td>positive</td>\n",
              "    </tr>\n",
              "    <tr>\n",
              "      <th>2</th>\n",
              "      <td>footage of the airport bombing in ivano franki...</td>\n",
              "      <td>0.000</td>\n",
              "      <td>1.000</td>\n",
              "      <td>0.000</td>\n",
              "      <td>0.0000</td>\n",
              "      <td>neutral</td>\n",
              "    </tr>\n",
              "    <tr>\n",
              "      <th>3</th>\n",
              "      <td>now this is wrong  absolutely wrong  for      ...</td>\n",
              "      <td>0.282</td>\n",
              "      <td>0.718</td>\n",
              "      <td>0.000</td>\n",
              "      <td>-0.9117</td>\n",
              "      <td>negative</td>\n",
              "    </tr>\n",
              "    <tr>\n",
              "      <th>4</th>\n",
              "      <td>rd mechanized brigade continues to suffer ...</td>\n",
              "      <td>0.437</td>\n",
              "      <td>0.563</td>\n",
              "      <td>0.000</td>\n",
              "      <td>-0.7351</td>\n",
              "      <td>negative</td>\n",
              "    </tr>\n",
              "  </tbody>\n",
              "</table>\n",
              "</div>"
            ],
            "text/plain": [
              "                                                text    neg    neu    pos  \\\n",
              "0  a cruise missile fired by the russian army fel...  0.265  0.735  0.000   \n",
              "1          spread and share  you can help ukraine     0.000  0.505  0.495   \n",
              "2  footage of the airport bombing in ivano franki...  0.000  1.000  0.000   \n",
              "3  now this is wrong  absolutely wrong  for      ...  0.282  0.718  0.000   \n",
              "4      rd mechanized brigade continues to suffer ...  0.437  0.563  0.000   \n",
              "\n",
              "   compound sentiment  \n",
              "0   -0.5574  negative  \n",
              "1    0.5994  positive  \n",
              "2    0.0000   neutral  \n",
              "3   -0.9117  negative  \n",
              "4   -0.7351  negative  "
            ]
          },
          "execution_count": 2,
          "metadata": {},
          "output_type": "execute_result"
        }
      ],
      "source": [
        "# load data\n",
        "df = pd.read_csv('resources/data set/tweet_sentiments.csv')\n",
        "df.head()"
      ]
    },
    {
      "cell_type": "code",
      "execution_count": 3,
      "metadata": {},
      "outputs": [
        {
          "data": {
            "text/plain": [
              "negative    187872\n",
              "positive    170406\n",
              "neutral      82211\n",
              "Name: sentiment, dtype: int64"
            ]
          },
          "execution_count": 3,
          "metadata": {},
          "output_type": "execute_result"
        }
      ],
      "source": [
        "# check the count of the sent_score where Negative, Positive, Neutral\n",
        "df[\"sentiment\"].value_counts()"
      ]
    },
    {
      "cell_type": "code",
      "execution_count": 4,
      "metadata": {},
      "outputs": [],
      "source": [
        "# Dropping all neutral sentiments to generalize the model\n",
        "df = df[df[\"sentiment\"]!=\"neutral\"]"
      ]
    },
    {
      "cell_type": "code",
      "execution_count": 5,
      "metadata": {},
      "outputs": [
        {
          "data": {
            "text/html": [
              "<div>\n",
              "<style scoped>\n",
              "    .dataframe tbody tr th:only-of-type {\n",
              "        vertical-align: middle;\n",
              "    }\n",
              "\n",
              "    .dataframe tbody tr th {\n",
              "        vertical-align: top;\n",
              "    }\n",
              "\n",
              "    .dataframe thead th {\n",
              "        text-align: right;\n",
              "    }\n",
              "</style>\n",
              "<table border=\"1\" class=\"dataframe\">\n",
              "  <thead>\n",
              "    <tr style=\"text-align: right;\">\n",
              "      <th></th>\n",
              "      <th>text</th>\n",
              "      <th>neg</th>\n",
              "      <th>neu</th>\n",
              "      <th>pos</th>\n",
              "      <th>compound</th>\n",
              "      <th>sentiment</th>\n",
              "      <th>sent_score</th>\n",
              "    </tr>\n",
              "  </thead>\n",
              "  <tbody>\n",
              "    <tr>\n",
              "      <th>0</th>\n",
              "      <td>a cruise missile fired by the russian army fel...</td>\n",
              "      <td>0.265</td>\n",
              "      <td>0.735</td>\n",
              "      <td>0.000</td>\n",
              "      <td>-0.5574</td>\n",
              "      <td>negative</td>\n",
              "      <td>0</td>\n",
              "    </tr>\n",
              "    <tr>\n",
              "      <th>1</th>\n",
              "      <td>spread and share  you can help ukraine</td>\n",
              "      <td>0.000</td>\n",
              "      <td>0.505</td>\n",
              "      <td>0.495</td>\n",
              "      <td>0.5994</td>\n",
              "      <td>positive</td>\n",
              "      <td>1</td>\n",
              "    </tr>\n",
              "    <tr>\n",
              "      <th>3</th>\n",
              "      <td>now this is wrong  absolutely wrong  for      ...</td>\n",
              "      <td>0.282</td>\n",
              "      <td>0.718</td>\n",
              "      <td>0.000</td>\n",
              "      <td>-0.9117</td>\n",
              "      <td>negative</td>\n",
              "      <td>0</td>\n",
              "    </tr>\n",
              "    <tr>\n",
              "      <th>4</th>\n",
              "      <td>rd mechanized brigade continues to suffer ...</td>\n",
              "      <td>0.437</td>\n",
              "      <td>0.563</td>\n",
              "      <td>0.000</td>\n",
              "      <td>-0.7351</td>\n",
              "      <td>negative</td>\n",
              "      <td>0</td>\n",
              "    </tr>\n",
              "    <tr>\n",
              "      <th>5</th>\n",
              "      <td>the world must act immediately    is at stake ...</td>\n",
              "      <td>0.226</td>\n",
              "      <td>0.730</td>\n",
              "      <td>0.044</td>\n",
              "      <td>-0.8173</td>\n",
              "      <td>negative</td>\n",
              "      <td>0</td>\n",
              "    </tr>\n",
              "  </tbody>\n",
              "</table>\n",
              "</div>"
            ],
            "text/plain": [
              "                                                text    neg    neu    pos  \\\n",
              "0  a cruise missile fired by the russian army fel...  0.265  0.735  0.000   \n",
              "1          spread and share  you can help ukraine     0.000  0.505  0.495   \n",
              "3  now this is wrong  absolutely wrong  for      ...  0.282  0.718  0.000   \n",
              "4      rd mechanized brigade continues to suffer ...  0.437  0.563  0.000   \n",
              "5  the world must act immediately    is at stake ...  0.226  0.730  0.044   \n",
              "\n",
              "   compound sentiment  sent_score  \n",
              "0   -0.5574  negative           0  \n",
              "1    0.5994  positive           1  \n",
              "3   -0.9117  negative           0  \n",
              "4   -0.7351  negative           0  \n",
              "5   -0.8173  negative           0  "
            ]
          },
          "execution_count": 5,
          "metadata": {},
          "output_type": "execute_result"
        }
      ],
      "source": [
        "# Creating encoded column for sentiments by using .factorize() function in panda encode the object as an \n",
        "#enumerated type or categorical variable. \n",
        "df[\"sent_score\"]=df[\"sentiment\"].factorize()[0]\n",
        "df.head()"
      ]
    },
    {
      "cell_type": "code",
      "execution_count": 10,
      "metadata": {},
      "outputs": [
        {
          "data": {
            "text/plain": [
              "(3583, 7)"
            ]
          },
          "execution_count": 10,
          "metadata": {},
          "output_type": "execute_result"
        }
      ],
      "source": [
        "sample_df = df.groupby('sent_score').sample(frac=.01)\n",
        "sample_df.shape"
      ]
    },
    {
      "cell_type": "code",
      "execution_count": 11,
      "metadata": {},
      "outputs": [
        {
          "data": {
            "text/plain": [
              "0    0.524421\n",
              "1    0.475579\n",
              "Name: sent_score, dtype: float64"
            ]
          },
          "execution_count": 11,
          "metadata": {},
          "output_type": "execute_result"
        }
      ],
      "source": [
        "# Standardize sentiment score distribution\n",
        "sample_df[\"sent_score\"].value_counts(normalize=True)"
      ]
    },
    {
      "cell_type": "code",
      "execution_count": 12,
      "metadata": {},
      "outputs": [],
      "source": [
        "# define independent and dependent variables\n",
        "X=sample_df['text']\n",
        "y=sample_df['sent_score']"
      ]
    },
    {
      "cell_type": "code",
      "execution_count": 13,
      "metadata": {},
      "outputs": [],
      "source": [
        "# split the data into train and test\n",
        "X_train, X_test, y_train, y_test=train_test_split(X, y, train_size=.8, random_state=42)"
      ]
    },
    {
      "cell_type": "markdown",
      "metadata": {},
      "source": [
        "## TF-IDF (Term Frequency-Inverse Document Frequency)\n",
        "It measures how many times a term exists in a document and gives less weight to most frequent terms, as those terms will probably be unhelpful in categorizing the dataset."
      ]
    },
    {
      "cell_type": "code",
      "execution_count": 14,
      "metadata": {},
      "outputs": [],
      "source": [
        "# Instantiate and fit TfidfVectorizer \n",
        "vectorizer = TfidfVectorizer(min_df=3,sublinear_tf=True,encoding=\"latin-1\", ngram_range=(1,2),\n",
        "                             stop_words='english')"
      ]
    },
    {
      "cell_type": "code",
      "execution_count": 15,
      "metadata": {},
      "outputs": [],
      "source": [
        "# Transform text into numeric vectors\n",
        "X_train_tf= vectorizer.fit_transform(X_train.reset_index()[\"text\"]).toarray()\n",
        "X_test_tf = vectorizer.transform(X_test.reset_index()[\"text\"]).toarray()"
      ]
    },
    {
      "cell_type": "code",
      "execution_count": 16,
      "metadata": {},
      "outputs": [
        {
          "data": {
            "text/plain": [
              "(2866, 4048)"
            ]
          },
          "execution_count": 16,
          "metadata": {},
          "output_type": "execute_result"
        }
      ],
      "source": [
        "X_train_tf.shape"
      ]
    },
    {
      "cell_type": "markdown",
      "metadata": {},
      "source": [
        "## Compare Models"
      ]
    },
    {
      "cell_type": "code",
      "execution_count": 23,
      "metadata": {},
      "outputs": [
        {
          "data": {
            "image/png": "[encoded data removed]",
            "text/plain": [
              "<Figure size 720x504 with 1 Axes>"
            ]
          },
          "metadata": {
            "needs_background": "light"
          },
          "output_type": "display_data"
        }
      ],
      "source": [
        "# run data over various models\n",
        "models = [\n",
        "    LinearSVC(),\n",
        "    MultinomialNB(),\n",
        "    LogisticRegression(random_state=0)\n",
        "]\n",
        "CV = 5\n",
        "cv_df = pd.DataFrame(index=range(CV * len(models)))\n",
        "entries = []\n",
        "for model in models:\n",
        "    model_name = model.__class__.__name__\n",
        "    accuracies = cross_val_score(model, X_train_tf, y_train, scoring='accuracy', cv=CV)\n",
        "    for fold_idx, accuracy in enumerate(accuracies):\n",
        "        entries.append((model_name, fold_idx, accuracy))\n",
        "cv_df = pd.DataFrame(entries, columns=['model_name', 'fold_idx', 'accuracy'])\n",
        "\n",
        "import seaborn as sns\n",
        "plt.subplots(figsize = (10,7))\n",
        "sns.boxplot(x='model_name', y='accuracy', data=cv_df)\n",
        "sns.stripplot(x='model_name', y='accuracy', data=cv_df, \n",
        "              size=10, jitter=True, edgecolor=\"gray\", linewidth=2)\n",
        "\n",
        "plt.show()"
      ]
    },
    {
      "cell_type": "code",
      "execution_count": 24,
      "metadata": {},
      "outputs": [
        {
          "data": {
            "text/plain": [
              "model_name\n",
              "LinearSVC             0.824502\n",
              "LogisticRegression    0.824502\n",
              "MultinomialNB         0.804604\n",
              "Name: accuracy, dtype: float64"
            ]
          },
          "execution_count": 24,
          "metadata": {},
          "output_type": "execute_result"
        }
      ],
      "source": [
        "# check the mean of the accuracy for each model\n",
        "cv_df.groupby('model_name').accuracy.mean()"
      ]
    },
    {
      "cell_type": "markdown",
      "metadata": {},
      "source": [
        "## Select the best model and implement it"
      ]
    },
    {
      "cell_type": "code",
      "execution_count": null,
      "metadata": {},
      "outputs": [],
      "source": []
    },
    {
      "cell_type": "code",
      "execution_count": null,
      "metadata": {},
      "outputs": [],
      "source": []
    },
    {
      "cell_type": "code",
      "execution_count": null,
      "metadata": {},
      "outputs": [],
      "source": []
    },
    {
      "cell_type": "code",
      "execution_count": null,
      "metadata": {
        "colab": {
          "base_uri": "https://localhost:8080/"
        },
        "id": "Ucd7tGSNBI5z",
        "outputId": "bb64a82d-735f-4c16-f783-d24ef9afa0ff"
      },
      "outputs": [],
      "source": [
        "# import os\n",
        "# # Find the latest version of spark 3.0 from http://www.apache.org/dist/spark/ and enter as the spark version\n",
        "# # For example:\n",
        "# # spark_version = 'spark-3.0.3'\n",
        "# spark_version = 'spark-3.0.3'\n",
        "# os.environ['SPARK_VERSION']=spark_version\n",
        "\n",
        "# # Install Spark and Java\n",
        "# !apt-get update\n",
        "# !apt-get install openjdk-11-jdk-headless -qq > /dev/null\n",
        "# !wget -q http://www.apache.org/dist/spark/$SPARK_VERSION/$SPARK_VERSION-bin-hadoop2.7.tgz\n",
        "# !tar xf $SPARK_VERSION-bin-hadoop2.7.tgz\n",
        "# !pip install -q findspark\n",
        "\n",
        "# # Set Environment Variables\n",
        "# import os\n",
        "# os.environ[\"JAVA_HOME\"] = \"/usr/lib/jvm/java-11-openjdk-amd64\"\n",
        "# #os.environ[\"SPARK_HOME\"] = f\"/content/{spark_version}-bin-hadoop2.7\"\n",
        "# os.environ[\"SPARK_HOME\"] = f\"/content/{spark_version}-bin-hadoop2.7\"\n",
        "\n",
        "# # Start a SparkSession\n",
        "# import findspark\n",
        "# findspark.init()"
      ]
    },
    {
      "cell_type": "code",
      "execution_count": null,
      "metadata": {
        "id": "GmGdUIO1Bn57"
      },
      "outputs": [],
      "source": [
        "# # Start Spark session\n",
        "# from pyspark.sql import SparkSession\n",
        "# spark = SparkSession.builder.appName(\"Twitter_Ukraine\").getOrCreate()\n",
        "# # import textBlob\n",
        "# from textblob import TextBlob"
      ]
    },
    {
      "cell_type": "code",
      "execution_count": null,
      "metadata": {
        "colab": {
          "base_uri": "https://localhost:8080/"
        },
        "id": "3NSJ6vdQBsXH",
        "outputId": "e44a8aea-8e09-4773-88a7-36e655bff062"
      },
      "outputs": [],
      "source": [
        "# # Read in data from S3 Buckets **** IF RUNNING FROM COLAB, WE MIGHT HAVE TO USE AN AWS BUCKET OR SIMILAR ****\n",
        "# from pyspark import SparkFiles\n",
        "# url =\"https://bootcamp-team-project.s3.us-west-2.amazonaws.com/mock_data.csv\"\n",
        "# spark.sparkContext.addFile(url)\n",
        "# df = spark.read.csv(SparkFiles.get(\"mock_data.csv\"), sep=\",\", header=True)\n",
        "\n",
        "# # Show DataFrame\n",
        "# df.show()"
      ]
    },
    {
      "cell_type": "code",
      "execution_count": null,
      "metadata": {
        "id": "orL_FIkWBuW4"
      },
      "outputs": [],
      "source": [
        "# Import functions\n",
        "from pyspark.ml.feature import Tokenizer, StopWordsRemover, HashingTF, IDF, StringIndexer"
      ]
    },
    {
      "cell_type": "code",
      "execution_count": null,
      "metadata": {
        "colab": {
          "base_uri": "https://localhost:8080/"
        },
        "id": "zHKETesgCGiT",
        "outputId": "3ecb08b5-c952-49eb-89e6-ee997bdfe8b5"
      },
      "outputs": [],
      "source": [
        "# create a copy and write sentiment polarity using TextBlob\n",
        "from pyspark.sql.functions import udf\n",
        "data_df = df['following','followers','totaltweets','retweetcount','favorite_count','text']\n",
        "sentiment = udf(lambda x: TextBlob(x).sentiment[0])\n",
        "spark.udf.register(\"sentiment\", sentiment)\n",
        "data_df = data_df.withColumn('sentiment',sentiment('text').cast('double'))\n",
        "data_df.show()"
      ]
    },
    {
      "cell_type": "code",
      "execution_count": null,
      "metadata": {
        "colab": {
          "base_uri": "https://localhost:8080/"
        },
        "id": "wogqAH8wfpmV",
        "outputId": "c6789624-0cbc-4cd9-cf54-fe81f7783826"
      },
      "outputs": [],
      "source": [
        "\n",
        "# Binning the sentiment polarities\n",
        "from pyspark.sql.types import StringType\n",
        "def sentiment_bins(value):\n",
        "   # try:\n",
        "      if value > 0.6:\n",
        "        return \"ExtremePositive\"\n",
        "      if value > 0.3:\n",
        "        return \"Positive\"\n",
        "      if value < -0.6:\n",
        "        return \"ExtremeNegative\"\n",
        "      if value < -0.3:\n",
        "        return \"Negative\"\n",
        "      else:\n",
        "        return \"Neutral\"\n",
        " #   except:\n",
        " #       return None\n",
        "\n",
        "partial_func = udf(lambda x: sentiment_bins(x))\n",
        "data_df = data_df.withColumn(\"sentiment_bins\", partial_func(data_df.sentiment))\n",
        "\n",
        "data_df.show()\n"
      ]
    },
    {
      "cell_type": "code",
      "execution_count": null,
      "metadata": {
        "id": "MQFeRJHpCaer"
      },
      "outputs": [],
      "source": [
        "# Create all the features to the data set\n",
        "# pos_neg_to_num = StringIndexer(inputCol='sentiment_bins',outputCol='label')\n",
        "# tokenizer = Tokenizer(inputCol=\"text\", outputCol=\"token_text\")\n",
        "# stopremove = StopWordsRemover(inputCol='token_text',outputCol='stop_tokens')\n",
        "# hashingTF = HashingTF(inputCol=\"stop_tokens\", outputCol='hash_token')\n",
        "# idf = IDF(inputCol='hash_token', outputCol='idf_token')"
      ]
    },
    {
      "cell_type": "code",
      "execution_count": null,
      "metadata": {
        "id": "tV_CXZysCjlx"
      },
      "outputs": [],
      "source": [
        "from pyspark.ml.feature import VectorAssembler\n",
        "from pyspark.ml.linalg import Vector\n",
        "# Create feature vectors\n",
        "clean_up = VectorAssembler(inputCols=['idf_token', 'sentiment'], outputCol='features')"
      ]
    },
    {
      "cell_type": "code",
      "execution_count": null,
      "metadata": {
        "id": "sN2g2-2ECqB_"
      },
      "outputs": [],
      "source": [
        "# Create and run a data processing Pipeline\n",
        "from pyspark.ml import Pipeline\n",
        "data_prep_pipeline = Pipeline(stages=[pos_neg_to_num, tokenizer, stopremove, hashingTF, idf, clean_up])"
      ]
    },
    {
      "cell_type": "code",
      "execution_count": null,
      "metadata": {
        "id": "Bx8EX3_2C2L3"
      },
      "outputs": [],
      "source": [
        "# Fit and transform the pipeline\n",
        "cleaner = data_prep_pipeline.fit(data_df)\n",
        "cleaned = cleaner.transform(data_df)"
      ]
    },
    {
      "cell_type": "code",
      "execution_count": null,
      "metadata": {
        "colab": {
          "base_uri": "https://localhost:8080/"
        },
        "id": "5bxA7qcsDPc8",
        "outputId": "67a78c1b-f4c4-4fe3-902f-5883247b073c"
      },
      "outputs": [],
      "source": [
        "# Show labels and resulting features\n",
        "cleaned.select([\"label\", \"features\"]).show()"
      ]
    },
    {
      "cell_type": "code",
      "execution_count": null,
      "metadata": {
        "id": "YpBvBuA-DvIi"
      },
      "outputs": [],
      "source": [
        "# Break data down into a training set and a testing set\n",
        "training, testing = cleaned.randomSplit([0.7, 0.3], 21)"
      ]
    },
    {
      "cell_type": "code",
      "execution_count": null,
      "metadata": {
        "colab": {
          "base_uri": "https://localhost:8080/",
          "height": 1000
        },
        "id": "6m7GxV6bDwga",
        "outputId": "7f1b5024-60e0-4741-c706-6f93e7aad497"
      },
      "outputs": [],
      "source": [
        "from pyspark.ml.classification import NaiveBayes\n",
        "# Create a Naive Bayes model and fit training data\n",
        "nb = NaiveBayes()\n",
        "predictor = nb.fit(training)"
      ]
    },
    {
      "cell_type": "code",
      "execution_count": null,
      "metadata": {
        "id": "qSPbRCEWEH5d"
      },
      "outputs": [],
      "source": [
        "# Transform the model with the testing data\n",
        "test_results = predictor.transform(testing)\n",
        "test_results.show(5)"
      ]
    },
    {
      "cell_type": "code",
      "execution_count": null,
      "metadata": {
        "id": "CFctyYOtFGKi"
      },
      "outputs": [],
      "source": [
        "from pyspark.ml.evaluation import BinaryClassificationEvaluator\n",
        "acc_eval = BinaryClassificationEvaluator(labelCol='label', rawPredictionCol='prediction')\n",
        "acc = acc_eval.evaluate(test_results)\n",
        "print('Accuracy of model at predicting sentiment was: %f' % acc)"
      ]
    }
  ],
  "metadata": {
    "colab": {
      "collapsed_sections": [],
      "name": "Pipeline2.ipynb",
      "provenance": []
    },
    "interpreter": {
      "hash": "62fc6122107c95ddcaaa58529fe7fd3e7bc1a1ab022c4ef4936ed509535ca9a8"
    },
    "kernelspec": {
      "display_name": "PythonData",
      "language": "python",
      "name": "python3"
    },
    "language_info": {
      "codemirror_mode": {
        "name": "ipython",
        "version": 3
      },
      "file_extension": ".py",
      "mimetype": "text/x-python",
      "name": "python",
      "nbconvert_exporter": "python",
      "pygments_lexer": "ipython3",
      "version": "3.7.10"
    }
  },
  "nbformat": 4,
  "nbformat_minor": 0
}
