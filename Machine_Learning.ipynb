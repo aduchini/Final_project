{
  "cells": [
    {
      "cell_type": "markdown",
      "metadata": {},
      "source": [
        "# Comparison of Machine Learning Models for Sentiment Analysis\n",
        "- Random Forest\n",
        "- Support Vector Classification (SVC)\n",
        "- Multinomial Naive Bayes\n",
        "- Logistic Regression"
      ]
    },
    {
      "cell_type": "code",
      "execution_count": 2,
      "metadata": {},
      "outputs": [],
      "source": [
        "# import dependencies\n",
        "import sqlite3\n",
        "import pandas as pd\n",
        "import numpy as np\n",
        "import seaborn as sns\n",
        "import matplotlib.pyplot as plt\n",
        "import matplotlib.ticker as tick\n",
        "plt.style.use('fivethirtyeight')\n",
        "\n",
        "from sklearn.model_selection import train_test_split\n",
        "from sklearn import metrics\n",
        "from sklearn.metrics import confusion_matrix, ConfusionMatrixDisplay, classification_report\n",
        "from sklearn.metrics import accuracy_score, recall_score, get_scorer, f1_score,roc_auc_score,precision_score\n",
        "from sklearn.feature_extraction.text import CountVectorizer\n",
        "from sklearn.feature_extraction.text import TfidfVectorizer\n",
        "from sklearn.feature_extraction.text import TfidfTransformer\n",
        "from sklearn.linear_model import LogisticRegression\n",
        "from sklearn.ensemble import RandomForestClassifier\n",
        "from sklearn.svm import LinearSVC\n",
        "from sklearn.model_selection import cross_val_score\n",
        "from sklearn.naive_bayes import MultinomialNB"
      ]
    },
    {
      "cell_type": "code",
      "execution_count": 3,
      "metadata": {},
      "outputs": [
        {
          "data": {
            "text/html": [
              "<div>\n",
              "<style scoped>\n",
              "    .dataframe tbody tr th:only-of-type {\n",
              "        vertical-align: middle;\n",
              "    }\n",
              "\n",
              "    .dataframe tbody tr th {\n",
              "        vertical-align: top;\n",
              "    }\n",
              "\n",
              "    .dataframe thead th {\n",
              "        text-align: right;\n",
              "    }\n",
              "</style>\n",
              "<table border=\"1\" class=\"dataframe\">\n",
              "  <thead>\n",
              "    <tr style=\"text-align: right;\">\n",
              "      <th></th>\n",
              "      <th>tweetcreatedts</th>\n",
              "      <th>text</th>\n",
              "      <th>hashtags</th>\n",
              "      <th>retweetcount</th>\n",
              "      <th>favorite_count</th>\n",
              "      <th>country</th>\n",
              "      <th>neg</th>\n",
              "      <th>neu</th>\n",
              "      <th>pos</th>\n",
              "      <th>compound</th>\n",
              "      <th>sentiment</th>\n",
              "    </tr>\n",
              "  </thead>\n",
              "  <tbody>\n",
              "    <tr>\n",
              "      <th>0</th>\n",
              "      <td>03/08</td>\n",
              "      <td>a fox s tale   for</td>\n",
              "      <td>[{'text': 'Ukraine', 'indices': [19, 27]}]</td>\n",
              "      <td>0.0</td>\n",
              "      <td>0.0</td>\n",
              "      <td>uk</td>\n",
              "      <td>0.00</td>\n",
              "      <td>1.000</td>\n",
              "      <td>0.000</td>\n",
              "      <td>0.0000</td>\n",
              "      <td>neutral</td>\n",
              "    </tr>\n",
              "    <tr>\n",
              "      <th>1</th>\n",
              "      <td>03/08</td>\n",
              "      <td>ukraine</td>\n",
              "      <td>[{'text': 'Ukraine', 'indices': [11, 19]}, {'t...</td>\n",
              "      <td>0.0</td>\n",
              "      <td>0.0</td>\n",
              "      <td>france</td>\n",
              "      <td>0.00</td>\n",
              "      <td>1.000</td>\n",
              "      <td>0.000</td>\n",
              "      <td>0.0000</td>\n",
              "      <td>neutral</td>\n",
              "    </tr>\n",
              "    <tr>\n",
              "      <th>2</th>\n",
              "      <td>03/08</td>\n",
              "      <td>russia s  enlargement redlines     cable from...</td>\n",
              "      <td>[{'text': 'NATO', 'indices': [25, 30]}, {'text...</td>\n",
              "      <td>1377.0</td>\n",
              "      <td>0.0</td>\n",
              "      <td>france</td>\n",
              "      <td>0.00</td>\n",
              "      <td>1.000</td>\n",
              "      <td>0.000</td>\n",
              "      <td>0.0000</td>\n",
              "      <td>neutral</td>\n",
              "    </tr>\n",
              "    <tr>\n",
              "      <th>3</th>\n",
              "      <td>03/08</td>\n",
              "      <td>can t help but think that hm queen is quietly ...</td>\n",
              "      <td>[{'text': 'Ukraine️', 'indices': [89, 98]}]</td>\n",
              "      <td>34.0</td>\n",
              "      <td>0.0</td>\n",
              "      <td>australia</td>\n",
              "      <td>0.00</td>\n",
              "      <td>0.875</td>\n",
              "      <td>0.125</td>\n",
              "      <td>0.2144</td>\n",
              "      <td>neutral</td>\n",
              "    </tr>\n",
              "    <tr>\n",
              "      <th>4</th>\n",
              "      <td>03/08</td>\n",
              "      <td>another invading  general killed by  freedom f...</td>\n",
              "      <td>[{'text': 'Russian', 'indices': [36, 44]}, {'t...</td>\n",
              "      <td>2.0</td>\n",
              "      <td>0.0</td>\n",
              "      <td>france</td>\n",
              "      <td>0.41</td>\n",
              "      <td>0.288</td>\n",
              "      <td>0.302</td>\n",
              "      <td>-0.1280</td>\n",
              "      <td>neutral</td>\n",
              "    </tr>\n",
              "  </tbody>\n",
              "</table>\n",
              "</div>"
            ],
            "text/plain": [
              "  tweetcreatedts                                               text  \\\n",
              "0          03/08                               a fox s tale   for     \n",
              "1          03/08                           ukraine                    \n",
              "2          03/08   russia s  enlargement redlines     cable from...   \n",
              "3          03/08  can t help but think that hm queen is quietly ...   \n",
              "4          03/08  another invading  general killed by  freedom f...   \n",
              "\n",
              "                                            hashtags  retweetcount  \\\n",
              "0         [{'text': 'Ukraine', 'indices': [19, 27]}]           0.0   \n",
              "1  [{'text': 'Ukraine', 'indices': [11, 19]}, {'t...           0.0   \n",
              "2  [{'text': 'NATO', 'indices': [25, 30]}, {'text...        1377.0   \n",
              "3        [{'text': 'Ukraine️', 'indices': [89, 98]}]          34.0   \n",
              "4  [{'text': 'Russian', 'indices': [36, 44]}, {'t...           2.0   \n",
              "\n",
              "   favorite_count    country   neg    neu    pos  compound sentiment  \n",
              "0             0.0         uk  0.00  1.000  0.000    0.0000   neutral  \n",
              "1             0.0     france  0.00  1.000  0.000    0.0000   neutral  \n",
              "2             0.0     france  0.00  1.000  0.000    0.0000   neutral  \n",
              "3             0.0  australia  0.00  0.875  0.125    0.2144   neutral  \n",
              "4             0.0     france  0.41  0.288  0.302   -0.1280   neutral  "
            ]
          },
          "execution_count": 3,
          "metadata": {},
          "output_type": "execute_result"
        }
      ],
      "source": [
        "# load data\n",
        "conn = sqlite3.connect('/resources/ukraine_analysis.sqlite')\n",
        "tweet_sentiments_df = pd.read_sql('select * from tweets', conn)\n",
        "tweet_sentiments_df.head()"
      ]
    },
    {
      "cell_type": "code",
      "execution_count": 4,
      "metadata": {},
      "outputs": [
        {
          "data": {
            "text/plain": [
              "negative    770310\n",
              "neutral     746785\n",
              "positive    586597\n",
              "Name: sentiment, dtype: int64"
            ]
          },
          "execution_count": 4,
          "metadata": {},
          "output_type": "execute_result"
        }
      ],
      "source": [
        "# check the count of the sent_score where Negative, Positive, Neutral\n",
        "tweet_sentiments_df[\"sentiment\"].value_counts()"
      ]
    },
    {
      "cell_type": "code",
      "execution_count": 5,
      "metadata": {},
      "outputs": [],
      "source": [
        "# Dropping all neutral sentiments to generalize the model\n",
        "tweet_sentiments_df = tweet_sentiments_df[tweet_sentiments_df[\"sentiment\"]!=\"neutral\"]"
      ]
    },
    {
      "cell_type": "code",
      "execution_count": 6,
      "metadata": {},
      "outputs": [
        {
          "data": {
            "text/html": [
              "<div>\n",
              "<style scoped>\n",
              "    .dataframe tbody tr th:only-of-type {\n",
              "        vertical-align: middle;\n",
              "    }\n",
              "\n",
              "    .dataframe tbody tr th {\n",
              "        vertical-align: top;\n",
              "    }\n",
              "\n",
              "    .dataframe thead th {\n",
              "        text-align: right;\n",
              "    }\n",
              "</style>\n",
              "<table border=\"1\" class=\"dataframe\">\n",
              "  <thead>\n",
              "    <tr style=\"text-align: right;\">\n",
              "      <th></th>\n",
              "      <th>tweetcreatedts</th>\n",
              "      <th>text</th>\n",
              "      <th>hashtags</th>\n",
              "      <th>retweetcount</th>\n",
              "      <th>favorite_count</th>\n",
              "      <th>country</th>\n",
              "      <th>neg</th>\n",
              "      <th>neu</th>\n",
              "      <th>pos</th>\n",
              "      <th>compound</th>\n",
              "      <th>sentiment</th>\n",
              "      <th>sent_score</th>\n",
              "    </tr>\n",
              "  </thead>\n",
              "  <tbody>\n",
              "    <tr>\n",
              "      <th>5</th>\n",
              "      <td>03/08</td>\n",
              "      <td>appointing me as your ghostwriter will give yo...</td>\n",
              "      <td>[{'text': 'Ukraine️', 'indices': [184, 193]}, ...</td>\n",
              "      <td>0.0</td>\n",
              "      <td>0.0</td>\n",
              "      <td>nigeria</td>\n",
              "      <td>0.000</td>\n",
              "      <td>0.696</td>\n",
              "      <td>0.304</td>\n",
              "      <td>0.8360</td>\n",
              "      <td>positive</td>\n",
              "      <td>0</td>\n",
              "    </tr>\n",
              "    <tr>\n",
              "      <th>6</th>\n",
              "      <td>03/08</td>\n",
              "      <td>thugs for hire  from  s murderous wagner ...</td>\n",
              "      <td>[{'text': 'Putin', 'indices': [49, 55]}]</td>\n",
              "      <td>12.0</td>\n",
              "      <td>0.0</td>\n",
              "      <td>uk</td>\n",
              "      <td>0.259</td>\n",
              "      <td>0.741</td>\n",
              "      <td>0.000</td>\n",
              "      <td>-0.6369</td>\n",
              "      <td>negative</td>\n",
              "      <td>1</td>\n",
              "    </tr>\n",
              "    <tr>\n",
              "      <th>8</th>\n",
              "      <td>03/08</td>\n",
              "      <td>a heartfelt message from  in kiev on march  th...</td>\n",
              "      <td>[{'text': 'ukrainevoicenotes', 'indices': [76,...</td>\n",
              "      <td>118.0</td>\n",
              "      <td>0.0</td>\n",
              "      <td>usa</td>\n",
              "      <td>0.000</td>\n",
              "      <td>0.696</td>\n",
              "      <td>0.304</td>\n",
              "      <td>0.5423</td>\n",
              "      <td>positive</td>\n",
              "      <td>0</td>\n",
              "    </tr>\n",
              "    <tr>\n",
              "      <th>11</th>\n",
              "      <td>03/08</td>\n",
              "      <td>kiril was   months old  he died because of  bo...</td>\n",
              "      <td>[{'text': 'Russian', 'indices': [63, 71]}, {'t...</td>\n",
              "      <td>22.0</td>\n",
              "      <td>0.0</td>\n",
              "      <td>greece</td>\n",
              "      <td>0.286</td>\n",
              "      <td>0.714</td>\n",
              "      <td>0.000</td>\n",
              "      <td>-0.5574</td>\n",
              "      <td>negative</td>\n",
              "      <td>1</td>\n",
              "    </tr>\n",
              "    <tr>\n",
              "      <th>12</th>\n",
              "      <td>03/08</td>\n",
              "      <td>an international terrorist with a massive nucl...</td>\n",
              "      <td>[{'text': 'StopPutin', 'indices': [129, 139]}]</td>\n",
              "      <td>18.0</td>\n",
              "      <td>0.0</td>\n",
              "      <td>syria</td>\n",
              "      <td>0.108</td>\n",
              "      <td>0.686</td>\n",
              "      <td>0.206</td>\n",
              "      <td>0.5106</td>\n",
              "      <td>positive</td>\n",
              "      <td>0</td>\n",
              "    </tr>\n",
              "  </tbody>\n",
              "</table>\n",
              "</div>"
            ],
            "text/plain": [
              "   tweetcreatedts                                               text  \\\n",
              "5           03/08  appointing me as your ghostwriter will give yo...   \n",
              "6           03/08       thugs for hire  from  s murderous wagner ...   \n",
              "8           03/08  a heartfelt message from  in kiev on march  th...   \n",
              "11          03/08  kiril was   months old  he died because of  bo...   \n",
              "12          03/08  an international terrorist with a massive nucl...   \n",
              "\n",
              "                                             hashtags  retweetcount  \\\n",
              "5   [{'text': 'Ukraine️', 'indices': [184, 193]}, ...           0.0   \n",
              "6            [{'text': 'Putin', 'indices': [49, 55]}]          12.0   \n",
              "8   [{'text': 'ukrainevoicenotes', 'indices': [76,...         118.0   \n",
              "11  [{'text': 'Russian', 'indices': [63, 71]}, {'t...          22.0   \n",
              "12     [{'text': 'StopPutin', 'indices': [129, 139]}]          18.0   \n",
              "\n",
              "    favorite_count  country    neg    neu    pos  compound sentiment  \\\n",
              "5              0.0  nigeria  0.000  0.696  0.304    0.8360  positive   \n",
              "6              0.0       uk  0.259  0.741  0.000   -0.6369  negative   \n",
              "8              0.0      usa  0.000  0.696  0.304    0.5423  positive   \n",
              "11             0.0   greece  0.286  0.714  0.000   -0.5574  negative   \n",
              "12             0.0    syria  0.108  0.686  0.206    0.5106  positive   \n",
              "\n",
              "    sent_score  \n",
              "5            0  \n",
              "6            1  \n",
              "8            0  \n",
              "11           1  \n",
              "12           0  "
            ]
          },
          "execution_count": 6,
          "metadata": {},
          "output_type": "execute_result"
        }
      ],
      "source": [
        "# Creating encoded column for sentiments by using .factorize() function in pandas encode the object as an \n",
        "#enumerated type or categorical variable. \n",
        "tweet_sentiments_df[\"sent_score\"] = tweet_sentiments_df[\"sentiment\"].factorize()[0]\n",
        "tweet_sentiments_df.head()"
      ]
    },
    {
      "cell_type": "code",
      "execution_count": 7,
      "metadata": {},
      "outputs": [
        {
          "data": {
            "text/plain": [
              "(13569, 12)"
            ]
          },
          "execution_count": 7,
          "metadata": {},
          "output_type": "execute_result"
        }
      ],
      "source": [
        "# get random sample \n",
        "sample_df = tweet_sentiments_df.groupby('sent_score').sample(frac=.01)\n",
        "sample_df.shape"
      ]
    },
    {
      "cell_type": "code",
      "execution_count": 8,
      "metadata": {},
      "outputs": [
        {
          "data": {
            "text/plain": [
              "1    0.567691\n",
              "0    0.432309\n",
              "Name: sent_score, dtype: float64"
            ]
          },
          "execution_count": 8,
          "metadata": {},
          "output_type": "execute_result"
        }
      ],
      "source": [
        "# Standardize sentiment score distribution\n",
        "sample_df[\"sent_score\"].value_counts(normalize=True)"
      ]
    },
    {
      "cell_type": "code",
      "execution_count": 9,
      "metadata": {},
      "outputs": [],
      "source": [
        "# define independent and dependent variables\n",
        "X=sample_df['text']\n",
        "y=sample_df['sent_score']"
      ]
    },
    {
      "cell_type": "code",
      "execution_count": 10,
      "metadata": {},
      "outputs": [],
      "source": [
        "# split the data into train and test\n",
        "X_train, X_test, y_train, y_test=train_test_split(X, y, train_size=.8, random_state=42)"
      ]
    },
    {
      "cell_type": "markdown",
      "metadata": {},
      "source": [
        "## TF-IDF (Term Frequency-Inverse Document Frequency)\n",
        "It measures how many times a term exists in a document and gives less weight to most frequent terms, as those terms will probably be unhelpful in categorizing the dataset."
      ]
    },
    {
      "cell_type": "code",
      "execution_count": 11,
      "metadata": {},
      "outputs": [],
      "source": [
        "# Instantiate and fit TfidfVectorizer \n",
        "vectorizer = TfidfVectorizer(min_df=3,sublinear_tf=True,encoding=\"latin-1\", ngram_range=(1,2),\n",
        "                             stop_words='english')"
      ]
    },
    {
      "cell_type": "code",
      "execution_count": 12,
      "metadata": {},
      "outputs": [],
      "source": [
        "# Transform text into numeric vectors\n",
        "X_train_tf= vectorizer.fit_transform(X_train.reset_index()[\"text\"]).toarray()\n",
        "X_test_tf = vectorizer.transform(X_test.reset_index()[\"text\"]).toarray()"
      ]
    },
    {
      "cell_type": "code",
      "execution_count": 13,
      "metadata": {},
      "outputs": [
        {
          "data": {
            "text/plain": [
              "(10855, 13745)"
            ]
          },
          "execution_count": 13,
          "metadata": {},
          "output_type": "execute_result"
        }
      ],
      "source": [
        "X_train_tf.shape"
      ]
    },
    {
      "cell_type": "markdown",
      "metadata": {},
      "source": [
        "## Compare Models"
      ]
    },
    {
      "cell_type": "code",
      "execution_count": 14,
      "metadata": {},
      "outputs": [
        {
          "data": {
            "image/png": "[encoded data removed]",
            "text/plain": [
              "<Figure size 720x504 with 1 Axes>"
            ]
          },
          "metadata": {},
          "output_type": "display_data"
        }
      ],
      "source": [
        "# run data over various models\n",
        "models = [\n",
        "    RandomForestClassifier(n_estimators=300, max_depth=10, random_state=0),\n",
        "    LinearSVC(),\n",
        "    MultinomialNB(),\n",
        "    LogisticRegression(random_state=0)\n",
        "]\n",
        "CV = 5\n",
        "cv_df = pd.DataFrame(index=range(CV * len(models)))\n",
        "entries = []\n",
        "for model in models:\n",
        "    model_name = model.__class__.__name__\n",
        "    accuracies = cross_val_score(model, X_train_tf, y_train, scoring='accuracy', cv=CV)\n",
        "    for fold_idx, accuracy in enumerate(accuracies):\n",
        "        entries.append((model_name, fold_idx, accuracy))\n",
        "cv_df = pd.DataFrame(entries, columns=['model_name', 'fold_idx', 'accuracy'])\n",
        "\n",
        "# plot boxplots of models accuracy\n",
        "plt.subplots(figsize = (10,7))\n",
        "plt.title('Boxplots of Machine Lerning Models Accuracy')\n",
        "sns.boxplot(x='model_name', y='accuracy', data=cv_df, palette=\"Set1\", linewidth=1)\n",
        "\n",
        "plt.show()\n",
        "\n",
        "# From: https://github.com/HudaKas/Twitter-Sentiment-Analysis/blob/main/tweet%20analaysis.ipynb\n",
        "# https://towardsdatascience.com/quickly-test-multiple-models-a98477476f0"
      ]
    },
    {
      "cell_type": "code",
      "execution_count": 15,
      "metadata": {},
      "outputs": [
        {
          "data": {
            "text/plain": [
              "model_name\n",
              "LinearSVC                 0.922524\n",
              "LogisticRegression        0.907047\n",
              "MultinomialNB             0.879687\n",
              "RandomForestClassifier    0.644680\n",
              "Name: accuracy, dtype: float64"
            ]
          },
          "execution_count": 15,
          "metadata": {},
          "output_type": "execute_result"
        }
      ],
      "source": [
        "# check the mean of the accuracy for each model\n",
        "cv_df.groupby('model_name').accuracy.mean()"
      ]
    },
    {
      "cell_type": "markdown",
      "metadata": {},
      "source": [
        "## Implement Linear SVC"
      ]
    },
    {
      "cell_type": "code",
      "execution_count": 16,
      "metadata": {},
      "outputs": [
        {
          "data": {
            "text/plain": [
              "LinearSVC()"
            ]
          },
          "execution_count": 16,
          "metadata": {},
          "output_type": "execute_result"
        }
      ],
      "source": [
        "# define and fit Linear SVC model\n",
        "model = LinearSVC()\n",
        "model.fit(X_train_tf, y_train)"
      ]
    },
    {
      "cell_type": "code",
      "execution_count": 17,
      "metadata": {},
      "outputs": [
        {
          "data": {
            "text/html": [
              "<div>\n",
              "<style scoped>\n",
              "    .dataframe tbody tr th:only-of-type {\n",
              "        vertical-align: middle;\n",
              "    }\n",
              "\n",
              "    .dataframe tbody tr th {\n",
              "        vertical-align: top;\n",
              "    }\n",
              "\n",
              "    .dataframe thead th {\n",
              "        text-align: right;\n",
              "    }\n",
              "</style>\n",
              "<table border=\"1\" class=\"dataframe\">\n",
              "  <thead>\n",
              "    <tr style=\"text-align: right;\">\n",
              "      <th></th>\n",
              "      <th>Prediction</th>\n",
              "      <th>Actual</th>\n",
              "    </tr>\n",
              "  </thead>\n",
              "  <tbody>\n",
              "    <tr>\n",
              "      <th>0</th>\n",
              "      <td>0</td>\n",
              "      <td>0</td>\n",
              "    </tr>\n",
              "    <tr>\n",
              "      <th>1</th>\n",
              "      <td>1</td>\n",
              "      <td>1</td>\n",
              "    </tr>\n",
              "    <tr>\n",
              "      <th>2</th>\n",
              "      <td>1</td>\n",
              "      <td>1</td>\n",
              "    </tr>\n",
              "    <tr>\n",
              "      <th>3</th>\n",
              "      <td>1</td>\n",
              "      <td>1</td>\n",
              "    </tr>\n",
              "    <tr>\n",
              "      <th>4</th>\n",
              "      <td>0</td>\n",
              "      <td>0</td>\n",
              "    </tr>\n",
              "  </tbody>\n",
              "</table>\n",
              "</div>"
            ],
            "text/plain": [
              "   Prediction  Actual\n",
              "0           0       0\n",
              "1           1       1\n",
              "2           1       1\n",
              "3           1       1\n",
              "4           0       0"
            ]
          },
          "execution_count": 17,
          "metadata": {},
          "output_type": "execute_result"
        }
      ],
      "source": [
        "# predict outcome using model\n",
        "y_pred = model.predict(X_test_tf)\n",
        "predictions = pd.DataFrame({\n",
        "   \"Prediction\": y_pred,\n",
        "   \"Actual\": y_test\n",
        "}).reset_index(drop=True)\n",
        "predictions.head()"
      ]
    },
    {
      "cell_type": "code",
      "execution_count": 18,
      "metadata": {},
      "outputs": [
        {
          "data": {
            "text/plain": [
              "0.9196757553426677"
            ]
          },
          "execution_count": 18,
          "metadata": {},
          "output_type": "execute_result"
        }
      ],
      "source": [
        "# evaluate model\n",
        "accuracy_score(y_test, y_pred)"
      ]
    },
    {
      "cell_type": "code",
      "execution_count": 26,
      "metadata": {},
      "outputs": [
        {
          "name": "stdout",
          "output_type": "stream",
          "text": [
            "              precision    recall  f1-score   support\n",
            "\n",
            "           0       0.92      0.89      0.91      1170\n",
            "           1       0.92      0.94      0.93      1544\n",
            "\n",
            "    accuracy                           0.92      2714\n",
            "   macro avg       0.92      0.92      0.92      2714\n",
            "weighted avg       0.92      0.92      0.92      2714\n",
            "\n"
          ]
        }
      ],
      "source": [
        "# print confusion matrix and classification report\n",
        "confusion_matrix(y_test, y_pred)\n",
        "print(classification_report(y_test, y_pred))"
      ]
    },
    {
      "cell_type": "code",
      "execution_count": 39,
      "metadata": {},
      "outputs": [
        {
          "name": "stderr",
          "output_type": "stream",
          "text": [
            "[0403/163914.951891:INFO:headless_shell.cc(659)] Written to file /var/folders/xl/8gktbknx7195tnyfgqw7swqw0000gn/T/tmp2zhepre0/temp.png.\n"
          ]
        }
      ],
      "source": [
        "import dataframe_image as dfi\n",
        "report_dict = {'positive': {'precision': 0.92,\n",
        "  'recall': 0.89,\n",
        "  'f1-score': 0.91,\n",
        "  'support': '1170'},\n",
        " 'negative': {'precision': 0.92,\n",
        "  'recall': 0.94,\n",
        "  'f1-score': 0.93,\n",
        "  'support': '1544'},\n",
        " 'accuracy': {'precision': ' ',\n",
        "  'recall': ' ',\n",
        "  'f1-score': 0.92,\n",
        "  'support': '2714'},\n",
        " 'macro avg': {'precision': 0.92,\n",
        "  'recall': 0.92,\n",
        "  'f1-score': 0.92,\n",
        "  'support': '2714'},\n",
        " 'weighted avg': {'precision': 0.92,\n",
        "  'recall': 0.92,\n",
        "  'f1-score': 0.92,\n",
        "  'support': '2714'}}\n",
        "\n",
        "\n",
        "# report_dict = classification_report(y_test, y_pred, output_dict=True)\n",
        "df = pd.DataFrame(report_dict).transpose()\n",
        "\n",
        "# save classification report as image\n",
        "dfi.export(df,\"classification_report.png\")"
      ]
    },
    {
      "cell_type": "code",
      "execution_count": 38,
      "metadata": {},
      "outputs": [
        {
          "data": {
            "image/png": "[encoded data removed]",
            "text/plain": [
              "<Figure size 432x288 with 2 Axes>"
            ]
          },
          "metadata": {},
          "output_type": "display_data"
        }
      ],
      "source": [
        "# plot confusion matrix\n",
        "ConfusionMatrixDisplay.from_predictions(y_test, y_pred)\n",
        "plt.show()"
      ]
    },
    {
      "cell_type": "markdown",
      "metadata": {},
      "source": [
        "# Feaure Importance\n",
        "from: https://github.com/HudaKas/Twitter-Sentiment-Analysis/blob/main/tweet%20analaysis.ipynb"
      ]
    },
    {
      "cell_type": "code",
      "execution_count": 40,
      "metadata": {},
      "outputs": [],
      "source": [
        "# Referred the below link to plot Most important features(words) within the model\n",
        "#https://aneesha.medium.com/visualising-top-features-in-linear-svm-with-scikit-learn-and-matplotlib-3454ab18a14d#:~:text=Once%20a%20linear%20SVM%20is,can%20be%20accessed%20with%20svm.&text=The%20absolute%20size%20of%20the,for%20the%20data%20separation%20task.\n",
        "\n",
        "def plot_coefficients(classifier, feature_names, top_features=20):\n",
        "    coef = classifier.coef_.ravel()\n",
        "    top_positive_coefficients = np.argsort(coef)[-top_features:]\n",
        "    top_negative_coefficients = np.argsort(coef)[:top_features]\n",
        "    top_coefficients = np.hstack([top_negative_coefficients, top_positive_coefficients])\n",
        "    \n",
        "    # create plot\n",
        "    plt.figure(figsize=(15, 5))\n",
        "    colors = ['red' if c < 0 else 'blue' for c in coef[top_coefficients]]\n",
        "    plt.bar(np.arange(2 * top_features), coef[top_coefficients], color=colors)\n",
        "    feature_names = np.array(feature_names)\n",
        "    plt.xticks(np.arange(1, 1 + 2 * top_features), feature_names[top_coefficients], rotation=60, ha='right')\n",
        "    plt.show()"
      ]
    },
    {
      "cell_type": "code",
      "execution_count": 41,
      "metadata": {},
      "outputs": [
        {
          "name": "stderr",
          "output_type": "stream",
          "text": [
            "/Users/floramatos/opt/anaconda3/envs/mlenv/lib/python3.7/site-packages/sklearn/utils/deprecation.py:87: FutureWarning: Function get_feature_names is deprecated; get_feature_names is deprecated in 1.0 and will be removed in 1.2. Please use get_feature_names_out instead.\n",
            "  warnings.warn(msg, category=FutureWarning)\n"
          ]
        },
        {
          "data": {
            "image/png": "[encoded data removed]",
            "text/plain": [
              "<Figure size 1080x360 with 1 Axes>"
            ]
          },
          "metadata": {},
          "output_type": "display_data"
        }
      ],
      "source": [
        "feature_names = vectorizer.get_feature_names() \n",
        "coefs_with_fns = sorted(zip(model.coef_[0], feature_names))\n",
        "df_feat=pd.DataFrame(coefs_with_fns)\n",
        "df_feat.columns='coefficient','word'\n",
        "df_feat.sort_values(by='coefficient')\n",
        "plot_coefficients(model, feature_names)"
      ]
    },
    {
      "cell_type": "code",
      "execution_count": 42,
      "metadata": {},
      "outputs": [],
      "source": [
        "# close connection with sqlite\n",
        "conn.close()"
      ]
    }
  ],
  "metadata": {
    "colab": {
      "collapsed_sections": [],
      "name": "Pipeline2.ipynb",
      "provenance": []
    },
    "interpreter": {
      "hash": "62fc6122107c95ddcaaa58529fe7fd3e7bc1a1ab022c4ef4936ed509535ca9a8"
    },
    "kernelspec": {
      "display_name": "PythonData",
      "language": "python",
      "name": "python3"
    },
    "language_info": {
      "codemirror_mode": {
        "name": "ipython",
        "version": 3
      },
      "file_extension": ".py",
      "mimetype": "text/x-python",
      "name": "python",
      "nbconvert_exporter": "python",
      "pygments_lexer": "ipython3",
      "version": "3.7.11"
    }
  },
  "nbformat": 4,
  "nbformat_minor": 0
}
