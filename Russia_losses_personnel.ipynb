{
 "cells": [
  {
   "cell_type": "markdown",
   "id": "b36edf5b",
   "metadata": {},
   "source": [
    "# Personnel Losses in Russia during Ukraine-Russia conflict"
   ]
  },
  {
   "cell_type": "markdown",
   "id": "a9b210f9",
   "metadata": {},
   "source": [
    "This is the dataset that describes Equipment Losses & Death Toll & Military Wounded & Prisoner of War of russians in 2022 Ukraine russia War."
   ]
  },
  {
   "cell_type": "markdown",
   "id": "56501b9d",
   "metadata": {},
   "source": [
    "Data Source .csv : https://www.kaggle.com/piterfm/2022-ukraine-russian-war?select=russia_losses_personnel.csv\n",
    "\n",
    "        \n",
    "Data source JSON : https://github.com/PetroIvaniuk/2022-Ukraine-Russia-War-Dataset/blob/main/data/russia_losses_personnel.json\n",
    " "
   ]
  },
  {
   "cell_type": "markdown",
   "id": "2cc1c313",
   "metadata": {},
   "source": []
  },
  {
   "cell_type": "markdown",
   "id": "57654b5c",
   "metadata": {},
   "source": []
  },
  {
   "cell_type": "code",
   "execution_count": 7,
   "id": "11fedf0f",
   "metadata": {},
   "outputs": [],
   "source": [
    "import json\n",
    "import pandas as pd\n",
    "import matplotlib.pyplot as plt\n",
    "import numpy as np"
   ]
  },
  {
   "cell_type": "code",
   "execution_count": 8,
   "id": "ba0ef642",
   "metadata": {},
   "outputs": [
    {
     "name": "stdout",
     "output_type": "stream",
     "text": [
      "          date  day  personnel    POW personnel*\n",
      "0   2022-02-26    3       4300    NaN        NaN\n",
      "1   2022-02-28    5       5300    NaN        NaN\n",
      "2   2022-03-01    6       5710  200.0        NaN\n",
      "3   2022-03-02    7       5840    NaN        NaN\n",
      "4   2022-03-03    8       9000    NaN        NaN\n",
      "5   2022-03-04    9       9166    NaN        NaN\n",
      "6   2022-03-05   10      10000    NaN        NaN\n",
      "7   2022-03-06   11      11000    NaN     almost\n",
      "8   2022-03-07   12      11000  259.0  more than\n",
      "9   2022-03-08   13      12000  284.0     almost\n",
      "10  2022-03-09   14      12000  360.0  more than\n",
      "11  2022-03-10   15      12000  371.0  more than\n",
      "12  2022-03-11   16      12000  389.0  more than\n",
      "13  2022-03-12   17      12000  389.0  more than\n",
      "14  2022-03-13   18      12000  389.0  more than\n",
      "15  2022-03-14   19      12000  389.0  more than\n",
      "16  2022-03-15   20      13500  389.0  more than\n"
     ]
    }
   ],
   "source": [
    "df_russian_personnel = pd.read_csv('russia_losses_personnel.csv')\n",
    "print(df_russian_personnel)"
   ]
  },
  {
   "cell_type": "code",
   "execution_count": 17,
   "id": "71f8978f",
   "metadata": {},
   "outputs": [
    {
     "data": {
      "text/plain": [
       "array(['2022-02-26', '2022-02-28', '2022-03-01', '2022-03-02',\n",
       "       '2022-03-03', '2022-03-04', '2022-03-05', '2022-03-06',\n",
       "       '2022-03-07', '2022-03-08', '2022-03-09', '2022-03-10',\n",
       "       '2022-03-11', '2022-03-12', '2022-03-13', '2022-03-14',\n",
       "       '2022-03-15'], dtype=object)"
      ]
     },
     "execution_count": 17,
     "metadata": {},
     "output_type": "execute_result"
    }
   ],
   "source": [
    "x = np.array(df_russian_personnel[\"date\"])\n",
    "x"
   ]
  },
  {
   "cell_type": "code",
   "execution_count": 18,
   "id": "2e507f25",
   "metadata": {},
   "outputs": [
    {
     "data": {
      "text/plain": [
       "array([ 4300,  5300,  5710,  5840,  9000,  9166, 10000, 11000, 11000,\n",
       "       12000, 12000, 12000, 12000, 12000, 12000, 12000, 13500],\n",
       "      dtype=int64)"
      ]
     },
     "execution_count": 18,
     "metadata": {},
     "output_type": "execute_result"
    }
   ],
   "source": [
    "y = np.array(df_russian_personnel[\"personnel\"])\n",
    "y"
   ]
  },
  {
   "cell_type": "code",
   "execution_count": 19,
   "id": "8d1aed8f",
   "metadata": {},
   "outputs": [
    {
     "data": {
      "image/png": "[encoded data removed]",
      "text/plain": [
       "<Figure size 432x288 with 1 Axes>"
      ]
     },
     "metadata": {
      "needs_background": "light"
     },
     "output_type": "display_data"
    }
   ],
   "source": [
    "plt.plot(x, y, linestyle = 'dotted')\n",
    "plt.show()"
   ]
  },
  {
   "cell_type": "code",
   "execution_count": null,
   "id": "ebf829fc",
   "metadata": {},
   "outputs": [],
   "source": []
  }
 ],
 "metadata": {
  "kernelspec": {
   "display_name": "Python 3 (ipykernel)",
   "language": "python",
   "name": "python3"
  },
  "language_info": {
   "codemirror_mode": {
    "name": "ipython",
    "version": 3
   },
   "file_extension": ".py",
   "mimetype": "text/x-python",
   "name": "python",
   "nbconvert_exporter": "python",
   "pygments_lexer": "ipython3",
   "version": "3.7.11"
  }
 },
 "nbformat": 4,
 "nbformat_minor": 5
}
