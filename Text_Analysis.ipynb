{
 "cells": [
  {
   "cell_type": "markdown",
   "id": "e7e3a031",
   "metadata": {},
   "source": [
    "# Text Analysis for Twitter Data"
   ]
  },
  {
   "cell_type": "code",
   "execution_count": 3,
   "id": "7eb8f23a",
   "metadata": {},
   "outputs": [],
   "source": [
    "## VADER Sentiment Analysis\n",
    "\n",
    "# import SentimentIntensityAnalyzer class\n",
    "# from vaderSentiment.vaderSentiment module.\n",
    "from vaderSentiment.vaderSentiment import SentimentIntensityAnalyzer\n",
    " \n",
    "# function to print sentiments\n",
    "# of the sentence.\n",
    "def sentiment_scores(sentence):\n",
    " \n",
    "    # Create a SentimentIntensityAnalyzer object.\n",
    "    sid_obj = SentimentIntensityAnalyzer()\n",
    " \n",
    "    # polarity_scores method of SentimentIntensityAnalyzer\n",
    "    # object gives a sentiment dictionary.\n",
    "    # which contains pos, neg, neu, and compound scores.\n",
    "    sentiment_dict = sid_obj.polarity_scores(sentence)\n",
    "     \n",
    "    print(\"Overall sentiment dictionary is : \", sentiment_dict)\n",
    "    print(\"sentence was rated as \", sentiment_dict['neg']*100, \"% Negative\")\n",
    "    print(\"sentence was rated as \", sentiment_dict['neu']*100, \"% Neutral\")\n",
    "    print(\"sentence was rated as \", sentiment_dict['pos']*100, \"% Positive\")\n",
    " \n",
    "    print(\"Sentence Overall Rated As\", end = \" \")\n",
    " \n",
    "    # decide sentiment as positive, negative and neutral\n",
    "    if sentiment_dict['compound'] > 0.05 :\n",
    "        print(\" Extremely Positive\")\n",
    " \n",
    "    elif sentiment_dict['compound'] <= 0.05 and sentiment_dict['compound'] > 0:\n",
    "        print(\"Positive\")\n",
    " \n",
    "    elif sentiment_dict['compound'] <0 and sentiment_dict['compound'] >= - 0.05:\n",
    "        print(\"Negative\")\n",
    "        \n",
    "    elif sentiment_dict['compound'] <= - 0.05 :\n",
    "        print(\" Extremely Negative\")\n",
    "    else :\n",
    "        print(\"Neutral\")\n",
    " "
   ]
  },
  {
   "cell_type": "code",
   "execution_count": 2,
   "id": "53c7dd0d",
   "metadata": {},
   "outputs": [
    {
     "name": "stdout",
     "output_type": "stream",
     "text": [
      "\n",
      "1st statement :\n",
      "Overall sentiment dictionary is :  {'neg': 0.165, 'neu': 0.588, 'pos': 0.247, 'compound': 0.5267}\n",
      "sentence was rated as  16.5 % Negative\n",
      "sentence was rated as  58.8 % Neutral\n",
      "sentence was rated as  24.7 % Positive\n",
      "Sentence Overall Rated As Positive\n",
      "\n",
      "2nd Statement :\n",
      "Overall sentiment dictionary is :  {'neg': 0.0, 'neu': 1.0, 'pos': 0.0, 'compound': 0.0}\n",
      "sentence was rated as  0.0 % Negative\n",
      "sentence was rated as  100.0 % Neutral\n",
      "sentence was rated as  0.0 % Positive\n",
      "Sentence Overall Rated As Neutral\n",
      "\n",
      "3rd Statement :\n",
      "Overall sentiment dictionary is :  {'neg': 0.459, 'neu': 0.541, 'pos': 0.0, 'compound': -0.5256}\n",
      "sentence was rated as  45.9 % Negative\n",
      "sentence was rated as  54.1 % Neutral\n",
      "sentence was rated as  0.0 % Positive\n",
      "Sentence Overall Rated As Negative\n"
     ]
    }
   ],
   "source": [
    "# Driver code\n",
    "if __name__ == \"__main__\" :\n",
    " \n",
    "    print(\"\\n1st statement :\")\n",
    "    sentence = \"Geeks For Geeks is the best portal for \\\n",
    "                the computer science engineering students.\"\n",
    " \n",
    "    # function calling\n",
    "    sentiment_scores(sentence)\n",
    " \n",
    "    print(\"\\n2nd Statement :\")\n",
    "    sentence = \"study is going on as usual\"\n",
    "    sentiment_scores(sentence)\n",
    " \n",
    "    print(\"\\n3rd Statement :\")\n",
    "    sentence = \"I am very sad today.\"\n",
    "    sentiment_scores(sentence)"
   ]
  },
  {
   "cell_type": "code",
   "execution_count": null,
   "id": "dc05112e",
   "metadata": {},
   "outputs": [],
   "source": []
  }
 ],
 "metadata": {
  "kernelspec": {
   "display_name": "Python 3 (ipykernel)",
   "language": "python",
   "name": "python3"
  },
  "language_info": {
   "codemirror_mode": {
    "name": "ipython",
    "version": 3
   },
   "file_extension": ".py",
   "mimetype": "text/x-python",
   "name": "python",
   "nbconvert_exporter": "python",
   "pygments_lexer": "ipython3",
   "version": "3.7.11"
  }
 },
 "nbformat": 4,
 "nbformat_minor": 5
}
