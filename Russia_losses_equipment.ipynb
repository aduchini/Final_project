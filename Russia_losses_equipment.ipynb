{
 "cells": [
  {
   "cell_type": "markdown",
   "metadata": {},
   "source": [
    "# Equipment Losses in Russia during Ukraine-Russia conflict"
   ]
  },
  {
   "cell_type": "markdown",
   "metadata": {},
   "source": [
    "Data Source : https://www.kaggle.com/piterfm/2022-ukraine-russian-war?select=russia_losses_personnel.csv"
   ]
  },
  {
   "cell_type": "markdown",
   "metadata": {},
   "source": [
    "Data source in JSOn format : https://github.com/PetroIvaniuk/2022-Ukraine-Russia-War-Dataset/blob/main/data/russia_losses_equipment.json"
   ]
  },
  {
   "cell_type": "markdown",
   "metadata": {},
   "source": [
    "# Tracking"
   ]
  },
  {
   "cell_type": "markdown",
   "metadata": {},
   "source": [
    "Personnel\n",
    "Prisoner of War\n",
    "Armored Personnel Carrier\n",
    "Multiple Rocket Launcher\n",
    "Aircraft\n",
    "Anti-aircraft warfare\n",
    "Drone\n",
    "Field Artillery\n",
    "Fuel Tank\n",
    "Helicopter\n",
    "Military Auto\n",
    "Naval Ship\n",
    "Tank"
   ]
  },
  {
   "cell_type": "markdown",
   "metadata": {},
   "source": [
    "# Acronyms"
   ]
  },
  {
   "cell_type": "markdown",
   "metadata": {},
   "source": [
    "POW - Prisoner of War,\n",
    "MRL - Multiple Rocket Launcher,\n",
    "BUK - Buk Missile System,\n",
    "APC - Armored Personnel Carrier,\n",
    "drone: UAV - Unmanned Aerial Vehicle, RPA - Remotely Piloted Vehicle."
   ]
  },
  {
   "cell_type": "markdown",
   "metadata": {},
   "source": [
    "# Dataset History\n"
   ]
  },
  {
   "cell_type": "markdown",
   "metadata": {},
   "source": [
    "2022-03-02 - dataset is created (after 7 days of the War)."
   ]
  },
  {
   "cell_type": "code",
   "execution_count": 1,
   "metadata": {
    "id": "eEonn61_vZy5"
   },
   "outputs": [],
   "source": [
    "import json\n",
    "import pandas as pd\n",
    "import matplotlib.pyplot as plt\n",
    "import numpy as np"
   ]
  },
  {
   "cell_type": "code",
   "execution_count": 6,
   "metadata": {},
   "outputs": [
    {
     "name": "stdout",
     "output_type": "stream",
     "text": [
      "         date  day  aircraft  helicopter  tank   APC  field artillery  BUK  \\\n",
      "0   2/26/2022    3        27          26   146   706               49    1   \n",
      "1   2/28/2022    5        29          29   150   816               74    1   \n",
      "2    3/1/2022    6        29          29   198   846               77    1   \n",
      "3    3/2/2022    7        30          31   211   862               85    1   \n",
      "4    3/3/2022    8        30          31   217   900               90    1   \n",
      "5    3/4/2022    9        33          37   251   939              105    1   \n",
      "6    3/5/2022   10        39          40   269   945              105    1   \n",
      "7    3/6/2022   11        44          48   285   985              109    1   \n",
      "8    3/7/2022   12        46          68   290   999              117    1   \n",
      "9    3/8/2022   13        48          80   303  1036              120    1   \n",
      "10   3/9/2022   14        49          81   317  1070              120    1   \n",
      "11  3/10/2022   15        49          81   335  1105              123    1   \n",
      "12  3/11/2022   16        57          83   353  1165              125    1   \n",
      "13  3/12/2022   17        58          83   362  1205              135    1   \n",
      "14  3/13/2022   18        74          86   374  1226              140    1   \n",
      "15  3/14/2022   19        77          90   389  1249              150    1   \n",
      "16  3/15/2022   20        81          95   404  1279              150    1   \n",
      "\n",
      "    MRL  military auto  fuel tank  drone  naval ship  anti-aircraft warfare  \\\n",
      "0     4             30         60      2           2                      0   \n",
      "1    21            291         60      3           2                      5   \n",
      "2    24            305         60      3           2                      7   \n",
      "3    40            355         60      3           2                      9   \n",
      "4    42            374         60      3           2                     11   \n",
      "5    50            404         60      3           2                     18   \n",
      "6    50            409         60      3           2                     19   \n",
      "7    50            447         60      4           2                     21   \n",
      "8    50            454         60      7           3                     23   \n",
      "9    56            474         60      7           3                     27   \n",
      "10   56            482         60      7           3                     28   \n",
      "11   56            526         60      7           3                     29   \n",
      "12   58            558         60      7           3                     31   \n",
      "13   62            585         60      7           3                     33   \n",
      "14   62            600         60      7           3                     34   \n",
      "15   64            617         60      8           3                     34   \n",
      "16   64            640         60      9           3                     36   \n",
      "\n",
      "    Total  \n",
      "0    1053  \n",
      "1    1481  \n",
      "2    1581  \n",
      "3    1689  \n",
      "4    1761  \n",
      "5    1903  \n",
      "6    1942  \n",
      "7    2056  \n",
      "8    2118  \n",
      "9    2215  \n",
      "10   2274  \n",
      "11   2375  \n",
      "12   2501  \n",
      "13   2594  \n",
      "14   2667  \n",
      "15   2742  \n",
      "16   2822  \n"
     ]
    }
   ],
   "source": [
    "df_russian_equipment = pd.read_csv('russia_losses_equipment_total.csv')\n",
    "print(df_russian_equipment)"
   ]
  },
  {
   "cell_type": "code",
   "execution_count": 10,
   "metadata": {},
   "outputs": [
    {
     "data": {
      "text/plain": [
       "array(['2/26/2022', '2/28/2022', '3/1/2022', '3/2/2022', '3/3/2022',\n",
       "       '3/4/2022', '3/5/2022', '3/6/2022', '3/7/2022', '3/8/2022',\n",
       "       '3/9/2022', '3/10/2022', '3/11/2022', '3/12/2022', '3/13/2022',\n",
       "       '3/14/2022', '3/15/2022'], dtype=object)"
      ]
     },
     "execution_count": 10,
     "metadata": {},
     "output_type": "execute_result"
    }
   ],
   "source": [
    "x = np.array(df_russian_equipment[\"date\"])\n",
    "x"
   ]
  },
  {
   "cell_type": "code",
   "execution_count": 12,
   "metadata": {},
   "outputs": [
    {
     "data": {
      "text/plain": [
       "array([1053, 1481, 1581, 1689, 1761, 1903, 1942, 2056, 2118, 2215, 2274,\n",
       "       2375, 2501, 2594, 2667, 2742, 2822], dtype=int64)"
      ]
     },
     "execution_count": 12,
     "metadata": {},
     "output_type": "execute_result"
    }
   ],
   "source": [
    "y = np.array(df_russian_equipment[\"Total\"])\n",
    "y"
   ]
  },
  {
   "cell_type": "code",
   "execution_count": 13,
   "metadata": {},
   "outputs": [
    {
     "data": {
      "image/png": "[encoded data removed]",
      "text/plain": [
       "<Figure size 432x288 with 1 Axes>"
      ]
     },
     "metadata": {
      "needs_background": "light"
     },
     "output_type": "display_data"
    }
   ],
   "source": [
    "plt.plot(x, y, linestyle = 'dotted')\n",
    "plt.show()"
   ]
  },
  {
   "cell_type": "code",
   "execution_count": null,
   "metadata": {},
   "outputs": [],
   "source": []
  }
 ],
 "metadata": {
  "colab": {
   "collapsed_sections": [],
   "name": "Russia_losses_equipment.ipynb",
   "provenance": []
  },
  "kernelspec": {
   "display_name": "Python 3 (ipykernel)",
   "language": "python",
   "name": "python3"
  },
  "language_info": {
   "codemirror_mode": {
    "name": "ipython",
    "version": 3
   },
   "file_extension": ".py",
   "mimetype": "text/x-python",
   "name": "python",
   "nbconvert_exporter": "python",
   "pygments_lexer": "ipython3",
   "version": "3.7.11"
  }
 },
 "nbformat": 4,
 "nbformat_minor": 1
}
